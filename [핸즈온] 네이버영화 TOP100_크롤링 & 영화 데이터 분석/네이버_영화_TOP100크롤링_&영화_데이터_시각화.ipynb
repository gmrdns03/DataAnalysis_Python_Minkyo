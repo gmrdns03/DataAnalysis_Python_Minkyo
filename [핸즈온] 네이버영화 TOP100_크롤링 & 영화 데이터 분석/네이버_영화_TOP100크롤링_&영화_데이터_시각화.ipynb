{
  "nbformat": 4,
  "nbformat_minor": 0,
  "metadata": {
    "colab": {
      "name": "네이버 영화 TOP100크롤링 &영화 데이터 시각화.ipynb",
      "provenance": [],
      "collapsed_sections": [],
      "authorship_tag": "ABX9TyP1Qzwv6a1/XjBgp6kXGbhi",
      "include_colab_link": true
    },
    "kernelspec": {
      "name": "python3",
      "display_name": "Python 3"
    },
    "language_info": {
      "name": "python"
    }
  },
  "cells": [
    {
      "cell_type": "markdown",
      "metadata": {
        "id": "view-in-github",
        "colab_type": "text"
      },
      "source": [
        "<a href=\"https://colab.research.google.com/github/gmrdns03/DataAnalysis_Python_Minkyo/blob/main/%5B%ED%95%B8%EC%A6%88%EC%98%A8%5D%20%EB%84%A4%EC%9D%B4%EB%B2%84%EC%98%81%ED%99%94%20TOP100_%ED%81%AC%EB%A1%A4%EB%A7%81%20%26%20%EC%98%81%ED%99%94%20%EB%8D%B0%EC%9D%B4%ED%84%B0%20%EB%B6%84%EC%84%9D/%EB%84%A4%EC%9D%B4%EB%B2%84_%EC%98%81%ED%99%94_TOP100%ED%81%AC%EB%A1%A4%EB%A7%81_%26%EC%98%81%ED%99%94_%EB%8D%B0%EC%9D%B4%ED%84%B0_%EC%8B%9C%EA%B0%81%ED%99%94.ipynb\" target=\"_parent\"><img src=\"https://colab.research.google.com/assets/colab-badge.svg\" alt=\"Open In Colab\"/></a>"
      ]
    },
    {
      "cell_type": "markdown",
      "metadata": {
        "id": "uav2zRQUi-oZ"
      },
      "source": [
        "**URL**=\n",
        "Uniform Resource Locator : <br>\n",
        "인터넷에 접속할 때, 네트워크 상에서 해당 자원이 어디 있는지 알려주는 문자열(사이트의 집주소)이다."
      ]
    },
    {
      "cell_type": "markdown",
      "metadata": {
        "id": "XJ4AnfvhnsK0"
      },
      "source": [
        "# 네이버 영화 TOP100크롤링 하기"
      ]
    },
    {
      "cell_type": "code",
      "metadata": {
        "colab": {
          "base_uri": "https://localhost:8080/"
        },
        "id": "qdbZNH2yjUSA",
        "outputId": "bac1444e-3921-45c7-d4a6-5f9c9a52d2d3"
      },
      "source": [
        "# 라이브러리 설치\n",
        "!pip install selenium"
      ],
      "execution_count": null,
      "outputs": [
        {
          "output_type": "stream",
          "text": [
            "Collecting selenium\n",
            "\u001b[?25l  Downloading https://files.pythonhosted.org/packages/80/d6/4294f0b4bce4de0abf13e17190289f9d0613b0a44e5dd6a7f5ca98459853/selenium-3.141.0-py2.py3-none-any.whl (904kB)\n",
            "\r\u001b[K     |▍                               | 10kB 16.6MB/s eta 0:00:01\r\u001b[K     |▊                               | 20kB 22.9MB/s eta 0:00:01\r\u001b[K     |█                               | 30kB 25.2MB/s eta 0:00:01\r\u001b[K     |█▌                              | 40kB 17.5MB/s eta 0:00:01\r\u001b[K     |█▉                              | 51kB 9.2MB/s eta 0:00:01\r\u001b[K     |██▏                             | 61kB 7.3MB/s eta 0:00:01\r\u001b[K     |██▌                             | 71kB 8.1MB/s eta 0:00:01\r\u001b[K     |███                             | 81kB 9.0MB/s eta 0:00:01\r\u001b[K     |███▎                            | 92kB 9.5MB/s eta 0:00:01\r\u001b[K     |███▋                            | 102kB 8.0MB/s eta 0:00:01\r\u001b[K     |████                            | 112kB 8.0MB/s eta 0:00:01\r\u001b[K     |████▍                           | 122kB 8.0MB/s eta 0:00:01\r\u001b[K     |████▊                           | 133kB 8.0MB/s eta 0:00:01\r\u001b[K     |█████                           | 143kB 8.0MB/s eta 0:00:01\r\u001b[K     |█████▍                          | 153kB 8.0MB/s eta 0:00:01\r\u001b[K     |█████▉                          | 163kB 8.0MB/s eta 0:00:01\r\u001b[K     |██████▏                         | 174kB 8.0MB/s eta 0:00:01\r\u001b[K     |██████▌                         | 184kB 8.0MB/s eta 0:00:01\r\u001b[K     |██████▉                         | 194kB 8.0MB/s eta 0:00:01\r\u001b[K     |███████▎                        | 204kB 8.0MB/s eta 0:00:01\r\u001b[K     |███████▋                        | 215kB 8.0MB/s eta 0:00:01\r\u001b[K     |████████                        | 225kB 8.0MB/s eta 0:00:01\r\u001b[K     |████████▎                       | 235kB 8.0MB/s eta 0:00:01\r\u001b[K     |████████▊                       | 245kB 8.0MB/s eta 0:00:01\r\u001b[K     |█████████                       | 256kB 8.0MB/s eta 0:00:01\r\u001b[K     |█████████▍                      | 266kB 8.0MB/s eta 0:00:01\r\u001b[K     |█████████▉                      | 276kB 8.0MB/s eta 0:00:01\r\u001b[K     |██████████▏                     | 286kB 8.0MB/s eta 0:00:01\r\u001b[K     |██████████▌                     | 296kB 8.0MB/s eta 0:00:01\r\u001b[K     |██████████▉                     | 307kB 8.0MB/s eta 0:00:01\r\u001b[K     |███████████▎                    | 317kB 8.0MB/s eta 0:00:01\r\u001b[K     |███████████▋                    | 327kB 8.0MB/s eta 0:00:01\r\u001b[K     |████████████                    | 337kB 8.0MB/s eta 0:00:01\r\u001b[K     |████████████▎                   | 348kB 8.0MB/s eta 0:00:01\r\u001b[K     |████████████▊                   | 358kB 8.0MB/s eta 0:00:01\r\u001b[K     |█████████████                   | 368kB 8.0MB/s eta 0:00:01\r\u001b[K     |█████████████▍                  | 378kB 8.0MB/s eta 0:00:01\r\u001b[K     |█████████████▊                  | 389kB 8.0MB/s eta 0:00:01\r\u001b[K     |██████████████▏                 | 399kB 8.0MB/s eta 0:00:01\r\u001b[K     |██████████████▌                 | 409kB 8.0MB/s eta 0:00:01\r\u001b[K     |██████████████▉                 | 419kB 8.0MB/s eta 0:00:01\r\u001b[K     |███████████████▏                | 430kB 8.0MB/s eta 0:00:01\r\u001b[K     |███████████████▋                | 440kB 8.0MB/s eta 0:00:01\r\u001b[K     |████████████████                | 450kB 8.0MB/s eta 0:00:01\r\u001b[K     |████████████████▎               | 460kB 8.0MB/s eta 0:00:01\r\u001b[K     |████████████████▋               | 471kB 8.0MB/s eta 0:00:01\r\u001b[K     |█████████████████               | 481kB 8.0MB/s eta 0:00:01\r\u001b[K     |█████████████████▍              | 491kB 8.0MB/s eta 0:00:01\r\u001b[K     |█████████████████▊              | 501kB 8.0MB/s eta 0:00:01\r\u001b[K     |██████████████████▏             | 512kB 8.0MB/s eta 0:00:01\r\u001b[K     |██████████████████▌             | 522kB 8.0MB/s eta 0:00:01\r\u001b[K     |██████████████████▉             | 532kB 8.0MB/s eta 0:00:01\r\u001b[K     |███████████████████▏            | 542kB 8.0MB/s eta 0:00:01\r\u001b[K     |███████████████████▋            | 552kB 8.0MB/s eta 0:00:01\r\u001b[K     |████████████████████            | 563kB 8.0MB/s eta 0:00:01\r\u001b[K     |████████████████████▎           | 573kB 8.0MB/s eta 0:00:01\r\u001b[K     |████████████████████▋           | 583kB 8.0MB/s eta 0:00:01\r\u001b[K     |█████████████████████           | 593kB 8.0MB/s eta 0:00:01\r\u001b[K     |█████████████████████▍          | 604kB 8.0MB/s eta 0:00:01\r\u001b[K     |█████████████████████▊          | 614kB 8.0MB/s eta 0:00:01\r\u001b[K     |██████████████████████          | 624kB 8.0MB/s eta 0:00:01\r\u001b[K     |██████████████████████▌         | 634kB 8.0MB/s eta 0:00:01\r\u001b[K     |██████████████████████▉         | 645kB 8.0MB/s eta 0:00:01\r\u001b[K     |███████████████████████▏        | 655kB 8.0MB/s eta 0:00:01\r\u001b[K     |███████████████████████▌        | 665kB 8.0MB/s eta 0:00:01\r\u001b[K     |████████████████████████        | 675kB 8.0MB/s eta 0:00:01\r\u001b[K     |████████████████████████▎       | 686kB 8.0MB/s eta 0:00:01\r\u001b[K     |████████████████████████▋       | 696kB 8.0MB/s eta 0:00:01\r\u001b[K     |█████████████████████████       | 706kB 8.0MB/s eta 0:00:01\r\u001b[K     |█████████████████████████▍      | 716kB 8.0MB/s eta 0:00:01\r\u001b[K     |█████████████████████████▊      | 727kB 8.0MB/s eta 0:00:01\r\u001b[K     |██████████████████████████      | 737kB 8.0MB/s eta 0:00:01\r\u001b[K     |██████████████████████████▍     | 747kB 8.0MB/s eta 0:00:01\r\u001b[K     |██████████████████████████▉     | 757kB 8.0MB/s eta 0:00:01\r\u001b[K     |███████████████████████████▏    | 768kB 8.0MB/s eta 0:00:01\r\u001b[K     |███████████████████████████▌    | 778kB 8.0MB/s eta 0:00:01\r\u001b[K     |████████████████████████████    | 788kB 8.0MB/s eta 0:00:01\r\u001b[K     |████████████████████████████▎   | 798kB 8.0MB/s eta 0:00:01\r\u001b[K     |████████████████████████████▋   | 808kB 8.0MB/s eta 0:00:01\r\u001b[K     |█████████████████████████████   | 819kB 8.0MB/s eta 0:00:01\r\u001b[K     |█████████████████████████████▍  | 829kB 8.0MB/s eta 0:00:01\r\u001b[K     |█████████████████████████████▊  | 839kB 8.0MB/s eta 0:00:01\r\u001b[K     |██████████████████████████████  | 849kB 8.0MB/s eta 0:00:01\r\u001b[K     |██████████████████████████████▍ | 860kB 8.0MB/s eta 0:00:01\r\u001b[K     |██████████████████████████████▉ | 870kB 8.0MB/s eta 0:00:01\r\u001b[K     |███████████████████████████████▏| 880kB 8.0MB/s eta 0:00:01\r\u001b[K     |███████████████████████████████▌| 890kB 8.0MB/s eta 0:00:01\r\u001b[K     |███████████████████████████████▉| 901kB 8.0MB/s eta 0:00:01\r\u001b[K     |████████████████████████████████| 911kB 8.0MB/s \n",
            "\u001b[?25hRequirement already satisfied: urllib3 in /usr/local/lib/python3.7/dist-packages (from selenium) (1.24.3)\n",
            "Installing collected packages: selenium\n",
            "Successfully installed selenium-3.141.0\n"
          ],
          "name": "stdout"
        }
      ]
    },
    {
      "cell_type": "code",
      "metadata": {
        "id": "xkz6Q05Dn3qA"
      },
      "source": [
        "from bs4 import BeautifulSoup\n",
        "import requests\n",
        "from selenium import webdriver as wd\n",
        "from selenium.webdriver.common.keys import Keys\n",
        "import time\n",
        "import re\n",
        "import pandas as pd"
      ],
      "execution_count": null,
      "outputs": []
    },
    {
      "cell_type": "code",
      "metadata": {
        "colab": {
          "base_uri": "https://localhost:8080/"
        },
        "id": "9o2BA3f7obd3",
        "outputId": "60ad1cc5-6873-4ed2-b11a-7198f4b36089"
      },
      "source": [
        "# install chromium, its driver, and selenium\n",
        "!apt-get update\n",
        "!apt install chromium-chromedriver\n",
        "!cp /usr/lib/chromium-browser/chromedriver /usr/bin\n",
        "!pip install selenium\n",
        "# set options to be headless, ..\n",
        "from selenium import webdriver\n",
        "options = webdriver.ChromeOptions()\n",
        "options.add_argument('--headless')\n",
        "options.add_argument('--no-sandbox')\n",
        "options.add_argument('--disable-dev-shm-usage')\n",
        "\n",
        "driver = webdriver.Chrome('chromedriver',options=options)\n"
      ],
      "execution_count": null,
      "outputs": [
        {
          "output_type": "stream",
          "text": [
            "Hit:1 https://cloud.r-project.org/bin/linux/ubuntu bionic-cran40/ InRelease\n",
            "Ign:2 https://developer.download.nvidia.com/compute/cuda/repos/ubuntu1804/x86_64  InRelease\n",
            "Ign:3 https://developer.download.nvidia.com/compute/machine-learning/repos/ubuntu1804/x86_64  InRelease\n",
            "Get:4 https://developer.download.nvidia.com/compute/cuda/repos/ubuntu1804/x86_64  Release [697 B]\n",
            "Hit:5 https://developer.download.nvidia.com/compute/machine-learning/repos/ubuntu1804/x86_64  Release\n",
            "Get:6 https://developer.download.nvidia.com/compute/cuda/repos/ubuntu1804/x86_64  Release.gpg [836 B]\n",
            "Get:7 http://security.ubuntu.com/ubuntu bionic-security InRelease [88.7 kB]\n",
            "Hit:8 http://ppa.launchpad.net/c2d4u.team/c2d4u4.0+/ubuntu bionic InRelease\n",
            "Hit:9 http://archive.ubuntu.com/ubuntu bionic InRelease\n",
            "Get:10 http://archive.ubuntu.com/ubuntu bionic-updates InRelease [88.7 kB]\n",
            "Hit:11 http://ppa.launchpad.net/cran/libgit2/ubuntu bionic InRelease\n",
            "Ign:13 https://developer.download.nvidia.com/compute/cuda/repos/ubuntu1804/x86_64  Packages\n",
            "Get:13 https://developer.download.nvidia.com/compute/cuda/repos/ubuntu1804/x86_64  Packages [599 kB]\n",
            "Get:14 http://ppa.launchpad.net/deadsnakes/ppa/ubuntu bionic InRelease [15.9 kB]\n",
            "Get:15 http://archive.ubuntu.com/ubuntu bionic-backports InRelease [74.6 kB]\n",
            "Get:16 http://ppa.launchpad.net/graphics-drivers/ppa/ubuntu bionic InRelease [21.3 kB]\n",
            "Get:17 http://security.ubuntu.com/ubuntu bionic-security/main amd64 Packages [2,219 kB]\n",
            "Get:18 http://security.ubuntu.com/ubuntu bionic-security/universe amd64 Packages [1,418 kB]\n",
            "Get:19 http://archive.ubuntu.com/ubuntu bionic-updates/universe amd64 Packages [2,188 kB]\n",
            "Get:20 http://security.ubuntu.com/ubuntu bionic-security/restricted amd64 Packages [473 kB]\n",
            "Get:21 http://ppa.launchpad.net/deadsnakes/ppa/ubuntu bionic/main amd64 Packages [40.9 kB]\n",
            "Get:22 http://archive.ubuntu.com/ubuntu bionic-updates/main amd64 Packages [2,652 kB]\n",
            "Get:23 http://archive.ubuntu.com/ubuntu bionic-updates/restricted amd64 Packages [505 kB]\n",
            "Get:24 http://ppa.launchpad.net/graphics-drivers/ppa/ubuntu bionic/main amd64 Packages [41.5 kB]\n",
            "Fetched 10.4 MB in 3s (3,178 kB/s)\n",
            "Reading package lists... Done\n",
            "Reading package lists... Done\n",
            "Building dependency tree       \n",
            "Reading state information... Done\n",
            "The following additional packages will be installed:\n",
            "  chromium-browser chromium-browser-l10n chromium-codecs-ffmpeg-extra\n",
            "Suggested packages:\n",
            "  webaccounts-chromium-extension unity-chromium-extension\n",
            "The following NEW packages will be installed:\n",
            "  chromium-browser chromium-browser-l10n chromium-chromedriver\n",
            "  chromium-codecs-ffmpeg-extra\n",
            "0 upgraded, 4 newly installed, 0 to remove and 70 not upgraded.\n",
            "Need to get 86.0 MB of archives.\n",
            "After this operation, 298 MB of additional disk space will be used.\n",
            "Get:1 http://archive.ubuntu.com/ubuntu bionic-updates/universe amd64 chromium-codecs-ffmpeg-extra amd64 91.0.4472.101-0ubuntu0.18.04.1 [1,124 kB]\n",
            "Get:2 http://archive.ubuntu.com/ubuntu bionic-updates/universe amd64 chromium-browser amd64 91.0.4472.101-0ubuntu0.18.04.1 [76.1 MB]\n",
            "Get:3 http://archive.ubuntu.com/ubuntu bionic-updates/universe amd64 chromium-browser-l10n all 91.0.4472.101-0ubuntu0.18.04.1 [3,937 kB]\n",
            "Get:4 http://archive.ubuntu.com/ubuntu bionic-updates/universe amd64 chromium-chromedriver amd64 91.0.4472.101-0ubuntu0.18.04.1 [4,837 kB]\n",
            "Fetched 86.0 MB in 6s (14.8 MB/s)\n",
            "Selecting previously unselected package chromium-codecs-ffmpeg-extra.\n",
            "(Reading database ... 160772 files and directories currently installed.)\n",
            "Preparing to unpack .../chromium-codecs-ffmpeg-extra_91.0.4472.101-0ubuntu0.18.04.1_amd64.deb ...\n",
            "Unpacking chromium-codecs-ffmpeg-extra (91.0.4472.101-0ubuntu0.18.04.1) ...\n",
            "Selecting previously unselected package chromium-browser.\n",
            "Preparing to unpack .../chromium-browser_91.0.4472.101-0ubuntu0.18.04.1_amd64.deb ...\n",
            "Unpacking chromium-browser (91.0.4472.101-0ubuntu0.18.04.1) ...\n",
            "Selecting previously unselected package chromium-browser-l10n.\n",
            "Preparing to unpack .../chromium-browser-l10n_91.0.4472.101-0ubuntu0.18.04.1_all.deb ...\n",
            "Unpacking chromium-browser-l10n (91.0.4472.101-0ubuntu0.18.04.1) ...\n",
            "Selecting previously unselected package chromium-chromedriver.\n",
            "Preparing to unpack .../chromium-chromedriver_91.0.4472.101-0ubuntu0.18.04.1_amd64.deb ...\n",
            "Unpacking chromium-chromedriver (91.0.4472.101-0ubuntu0.18.04.1) ...\n",
            "Setting up chromium-codecs-ffmpeg-extra (91.0.4472.101-0ubuntu0.18.04.1) ...\n",
            "Setting up chromium-browser (91.0.4472.101-0ubuntu0.18.04.1) ...\n",
            "update-alternatives: using /usr/bin/chromium-browser to provide /usr/bin/x-www-browser (x-www-browser) in auto mode\n",
            "update-alternatives: using /usr/bin/chromium-browser to provide /usr/bin/gnome-www-browser (gnome-www-browser) in auto mode\n",
            "Setting up chromium-chromedriver (91.0.4472.101-0ubuntu0.18.04.1) ...\n",
            "Setting up chromium-browser-l10n (91.0.4472.101-0ubuntu0.18.04.1) ...\n",
            "Processing triggers for man-db (2.8.3-2ubuntu0.1) ...\n",
            "Processing triggers for hicolor-icon-theme (0.17-2) ...\n",
            "Processing triggers for mime-support (3.60ubuntu1) ...\n",
            "Processing triggers for libc-bin (2.27-3ubuntu1.2) ...\n",
            "/sbin/ldconfig.real: /usr/local/lib/python3.7/dist-packages/ideep4py/lib/libmkldnn.so.0 is not a symbolic link\n",
            "\n",
            "cp: '/usr/lib/chromium-browser/chromedriver' and '/usr/bin/chromedriver' are the same file\n",
            "Requirement already satisfied: selenium in /usr/local/lib/python3.7/dist-packages (3.141.0)\n",
            "Requirement already satisfied: urllib3 in /usr/local/lib/python3.7/dist-packages (from selenium) (1.24.3)\n"
          ],
          "name": "stdout"
        }
      ]
    },
    {
      "cell_type": "markdown",
      "metadata": {
        "id": "CRnFTIW2rweM"
      },
      "source": [
        "# 분석할 데이터 모으기(크롤링)\n",
        "\n",
        "## 네이버 영화 TOP100 페이지 별 링크 수집"
      ]
    },
    {
      "cell_type": "code",
      "metadata": {
        "id": "Ou9Vr-fWoNnf"
      },
      "source": [
        "# https://serieson.naver.com/movie/top100List.nhn?&rankingTypeCode=PC_R&page= 실시간(1, 5)\n",
        "# https://serieson.naver.com/movie/top100List.nhn?&rankingTypeCode=PC_D&page= 일간(1, 5)\n",
        "# https://serieson.naver.com/movie/top100List.nhn?&rankingTypeCode=PC_W&page= 주간(1, 5)\n",
        "# https://serieson.naver.com/movie/top100List.nhn?&rankingTypeCode=PC_M&page= 월간(1, 5)\n",
        "\n",
        "def getPageLinksWantRange(startPageNo, lastPageNo) :\n",
        "  links = []  # 100개의 영화 링크를 담을 리스트 변수 선언\n",
        "\n",
        "  for pageNo in range(startPageNo -1, lastPageNo) :\n",
        "    # 실시간 TOP 100 영화 링크 수집\n",
        "    url = \"https://serieson.naver.com/movie/top100List.nhn?&rankingTypeCode=PC_M&page=\" + str(pageNo+1)\n",
        "\n",
        "    req = requests.get(url)  # 링크에 접속하는 함수/ 접속할 수 있는 정보가 req에 담긴다.\n",
        "\n",
        "    # 페이지의 소스를 긁어와서 저장한다. \"<a\" 테그에 해당 페이지로 접속할 수 있는 링크가 담겨있다.\n",
        "    soup = BeautifulSoup(req.text, 'lxml') # html 파싱을 위한 객체 생성\n",
        "\n",
        "    # <div class=\"lst_thum_wrap\"> -> <ul> -> <li> -> <a href=\"\"> 가져오기\n",
        "    movielinks = soup.select('div.lst_thum_wrap ul li a[href]')  # ul안에 li안에 a안에 href의 내용을가져오라\n",
        "\n",
        "    for movielink in movielinks :\n",
        "      link = str(movielink.get('href'))\n",
        "      # 접속할 수 있는전체 링크 형태로 변환해서 append\n",
        "      links.append(\"https://series.naver.com\"+link)  \n",
        "\n",
        "  return links\n",
        "\n"
      ],
      "execution_count": null,
      "outputs": []
    },
    {
      "cell_type": "code",
      "metadata": {
        "colab": {
          "base_uri": "https://localhost:8080/"
        },
        "id": "4fXYn7VbxDuZ",
        "outputId": "116c6347-bc1d-4862-f8d4-f5bbc86ed5d4"
      },
      "source": [
        "links = getPageLinksWantRange(1, 5)\n",
        "print(links)"
      ],
      "execution_count": null,
      "outputs": [
        {
          "output_type": "stream",
          "text": [
            "['https://series.naver.com/movie/detail.nhn?productNo=6291892', 'https://series.naver.com/movie/detail.nhn?productNo=3400212', 'https://series.naver.com/movie/detail.nhn?productNo=3024534', 'https://series.naver.com/movie/detail.nhn?productNo=2822635', 'https://series.naver.com/movie/detail.nhn?productNo=6315371', 'https://series.naver.com/movie/detail.nhn?productNo=3639460', 'https://series.naver.com/movie/detail.nhn?productNo=6023769', 'https://series.naver.com/movie/detail.nhn?productNo=6283368', 'https://series.naver.com/movie/detail.nhn?productNo=6243813', 'https://series.naver.com/movie/detail.nhn?productNo=6119777', 'https://series.naver.com/movie/detail.nhn?productNo=6139375', 'https://series.naver.com/movie/detail.nhn?productNo=2686058', 'https://series.naver.com/movie/detail.nhn?productNo=2747742', 'https://series.naver.com/movie/detail.nhn?productNo=3293948', 'https://series.naver.com/movie/detail.nhn?productNo=6176165', 'https://series.naver.com/movie/detail.nhn?productNo=6257268', 'https://series.naver.com/movie/detail.nhn?productNo=4579842', 'https://series.naver.com/movie/detail.nhn?productNo=6176542', 'https://series.naver.com/movie/detail.nhn?productNo=6158879', 'https://series.naver.com/movie/detail.nhn?productNo=4356726', 'https://series.naver.com/movie/detail.nhn?productNo=6253746', 'https://series.naver.com/movie/detail.nhn?productNo=3400211', 'https://series.naver.com/movie/detail.nhn?productNo=6063434', 'https://series.naver.com/movie/detail.nhn?productNo=6176166', 'https://series.naver.com/movie/detail.nhn?productNo=6098871', 'https://series.naver.com/movie/detail.nhn?productNo=1101500', 'https://series.naver.com/movie/detail.nhn?productNo=1729987', 'https://series.naver.com/movie/detail.nhn?productNo=3056481', 'https://series.naver.com/movie/detail.nhn?productNo=6176518', 'https://series.naver.com/movie/detail.nhn?productNo=1537164', 'https://series.naver.com/movie/detail.nhn?productNo=1605628', 'https://series.naver.com/movie/detail.nhn?productNo=5110441', 'https://series.naver.com/movie/detail.nhn?productNo=6139377', 'https://series.naver.com/movie/detail.nhn?productNo=5843892', 'https://series.naver.com/movie/detail.nhn?productNo=3081843', 'https://series.naver.com/movie/detail.nhn?productNo=1965132', 'https://series.naver.com/movie/detail.nhn?productNo=3593762', 'https://series.naver.com/movie/detail.nhn?productNo=2787777', 'https://series.naver.com/movie/detail.nhn?productNo=1753829', 'https://series.naver.com/movie/detail.nhn?productNo=5751044', 'https://series.naver.com/movie/detail.nhn?productNo=2405537', 'https://series.naver.com/movie/detail.nhn?productNo=3241116', 'https://series.naver.com/movie/detail.nhn?productNo=510029', 'https://series.naver.com/movie/detail.nhn?productNo=5607754', 'https://series.naver.com/movie/detail.nhn?productNo=5701576', 'https://series.naver.com/movie/detail.nhn?productNo=6039515', 'https://series.naver.com/movie/detail.nhn?productNo=6283369', 'https://series.naver.com/movie/detail.nhn?productNo=1760739', 'https://series.naver.com/movie/detail.nhn?productNo=4517655', 'https://series.naver.com/movie/detail.nhn?productNo=1808511', 'https://series.naver.com/movie/detail.nhn?productNo=552985', 'https://series.naver.com/movie/detail.nhn?productNo=1619627', 'https://series.naver.com/movie/detail.nhn?productNo=585441', 'https://series.naver.com/movie/detail.nhn?productNo=3680226', 'https://series.naver.com/movie/detail.nhn?productNo=6176543', 'https://series.naver.com/movie/detail.nhn?productNo=2586406', 'https://series.naver.com/movie/detail.nhn?productNo=5951606', 'https://series.naver.com/movie/detail.nhn?productNo=2015025', 'https://series.naver.com/movie/detail.nhn?productNo=4881160', 'https://series.naver.com/movie/detail.nhn?productNo=6069154', 'https://series.naver.com/movie/detail.nhn?productNo=5482161', 'https://series.naver.com/movie/detail.nhn?productNo=4475562', 'https://series.naver.com/movie/detail.nhn?productNo=3478547', 'https://series.naver.com/movie/detail.nhn?productNo=412868', 'https://series.naver.com/movie/detail.nhn?productNo=5778853', 'https://series.naver.com/movie/detail.nhn?productNo=4508244', 'https://series.naver.com/movie/detail.nhn?productNo=2909332', 'https://series.naver.com/movie/detail.nhn?productNo=6139376', 'https://series.naver.com/movie/detail.nhn?productNo=3843473', 'https://series.naver.com/movie/detail.nhn?productNo=3226852', 'https://series.naver.com/movie/detail.nhn?productNo=3239240', 'https://series.naver.com/movie/detail.nhn?productNo=2166247', 'https://series.naver.com/movie/detail.nhn?productNo=1833976', 'https://series.naver.com/movie/detail.nhn?productNo=6210977', 'https://series.naver.com/movie/detail.nhn?productNo=6119778', 'https://series.naver.com/movie/detail.nhn?productNo=1909575', 'https://series.naver.com/movie/detail.nhn?productNo=1405968', 'https://series.naver.com/movie/detail.nhn?productNo=5404435', 'https://series.naver.com/movie/detail.nhn?productNo=4021296', 'https://series.naver.com/movie/detail.nhn?productNo=3448644', 'https://series.naver.com/movie/detail.nhn?productNo=1775085', 'https://series.naver.com/movie/detail.nhn?productNo=407636', 'https://series.naver.com/movie/detail.nhn?productNo=3509734', 'https://series.naver.com/movie/detail.nhn?productNo=3766068', 'https://series.naver.com/movie/detail.nhn?productNo=1974569', 'https://series.naver.com/movie/detail.nhn?productNo=5465063', 'https://series.naver.com/movie/detail.nhn?productNo=5673193', 'https://series.naver.com/movie/detail.nhn?productNo=4821120', 'https://series.naver.com/movie/detail.nhn?productNo=4180723', 'https://series.naver.com/movie/detail.nhn?productNo=3744354', 'https://series.naver.com/movie/detail.nhn?productNo=3406719', 'https://series.naver.com/movie/detail.nhn?productNo=3262026', 'https://series.naver.com/movie/detail.nhn?productNo=3262024', 'https://series.naver.com/movie/detail.nhn?productNo=1781025', 'https://series.naver.com/movie/detail.nhn?productNo=918042', 'https://series.naver.com/movie/detail.nhn?productNo=1521935', 'https://series.naver.com/movie/detail.nhn?productNo=6257257', 'https://series.naver.com/movie/detail.nhn?productNo=4465876', 'https://series.naver.com/movie/detail.nhn?productNo=4406203', 'https://series.naver.com/movie/detail.nhn?productNo=3327477']\n"
          ],
          "name": "stdout"
        }
      ]
    },
    {
      "cell_type": "markdown",
      "metadata": {
        "id": "qPvagGTqynxY"
      },
      "source": [
        "## 네이버 영화 제복, 평점, 장르, 줄거리 크롤링"
      ]
    },
    {
      "cell_type": "code",
      "metadata": {
        "id": "E9QVfbuwx5l3"
      },
      "source": [
        "def getMovieDataFromNaverSeries(links) :\n",
        "  title_infos = []  # 제목\n",
        "  content_infos = []  # 줄거리\n",
        "  genre_infos = []  # 장르\n",
        "  score_infos = []  # 평점\n",
        "  date_infos = []  # 개봉일\n",
        "\n",
        "  url2 = \"https://www.naver.com\"  # 네이버에서 중간에 트래픽으로 인해 IP가 막히는 것을 막기 위해 우회\n",
        "\n",
        "  driver = webdriver.Chrome('chromedriver', options=options)\n",
        "  driver.get(url2)\n",
        "  time.sleep(3.0)  # 중간에 3초 정도 쉬게 만든다.\n",
        "\n",
        "  driver.find_element_by_css_selector('body').send_keys(Keys.CONTROL + 't')\n",
        "\n",
        "  for link in links :\n",
        "    print(link + '  수 집 중........')\n",
        "    driver.switch_to.window(driver.window_handles[-1])  # url을 넣기 위해 새탭 열고 주소창을 활성화 하는 작업\n",
        "    time.sleep(0.1)\n",
        "    driver.get(link)  # 접속한다.\n",
        "    time.sleep(0.1)\n",
        "    driver.switch_to.window(driver.window_handles[0])  # 새창 활성화\n",
        "    time.sleep(3.0)\n",
        "\n",
        "    html_source = driver.page_source  # BeautifulSoup(req.text, 'lxml') 같은 과정\n",
        "    html_soup = BeautifulSoup(html_source, 'lxml')\n",
        "\n",
        "    # 청소년 관람 불가 영화 크롤링의 경우 -> 인증 -> 수집 제외하기\n",
        "    flag = html_soup.text[0:10]\n",
        "\n",
        "    newflag = \"\".join(flag)\n",
        "    newflag = newflag.replace('\\n', '')\n",
        "\n",
        "    if newflag == '네이버' :\n",
        "      time.sleep(1.0)\n",
        "\n",
        "      #평점 수집\n",
        "      score = driver.find_element_by_css_selector('div.score_area > em ')\n",
        "      score = float(score.text)\n",
        "      score = int(score) # 정수형으로 변환\n",
        "      score_infos.append(score)\n",
        "      print(score)\n",
        "\n",
        "      #장르 수집\n",
        "      # soup의 함수를 쓸 때에는 공백을 꺽쇠로 인식한다.\n",
        "      # 하지만 driver의 css가 추출할 때에는 >를 써서 추적 한다.\n",
        "      genre = driver.find_element_by_css_selector('li.info_lst > ul > li:nth-child(4)').get_attribute('textContent')\n",
        "      genre = genre.replace('장르', '')\n",
        "      genre = genre.replace('\\n', '')  # 크롤링할 때 쓰레기 정보들을 지우고 수집하지 않으면 나중에 전처리하기 힘들어진다.\n",
        "      genre = genre.replace('\\t', '')\n",
        "      genre_infos.append(genre)\n",
        "\n",
        "      # 제목, 줄거리 수집 (줄거리는 영화 상세정보 안에 있었다.)\n",
        "      # 그 자리에 있으면 추출 없으면 예외사항 발생 -> try, except를 사용\n",
        "      try:\n",
        "        movieInfoUrl = driver.find_element_by_css_selector('li.info_lst > ul > li:nth-child(7) > a').get_attribute('href')\n",
        "        # soup의 함수를 쓸 때에는 공백을 꺽쇠로 인식한다.\n",
        "        # 하지만 driver의 css가 추출할 때에는 >를 써서 추적 한다.\n",
        "        #장르 수집\n",
        "        genre = driver.find_element_by_css_selector('li.info_lst > ul > li:nth-child(4)').get_attribute('textContent')\n",
        "        genre = genre.replace('장르', '')\n",
        "        genre = genre.replace('\\n', '')  # 크롤링할 때 쓰레기 정보들을 지우고 수집하지 않으면 나중에 전처리하기 힘들어진다.\n",
        "        genre = genre.replace('\\t', '')\n",
        "        genre_infos.append(genre)\n",
        "\n",
        "      except:  # 오류가 안나서 편함\n",
        "        movieInfoUrl = driver.find_element_by_css_selector('li.info_lst > ul > li:nth-child(6) > a').get_attribute('href')\n",
        "        #장르 수집  -> 장르 정보가 없을 경우에는 직접 파일을 열어서 수정을 하거나 그냥 공백으로 받아둔다.\n",
        "        genre_infos.append('')\n",
        "\n",
        "      # 영화 상세정보 보기 페이지로 이동\n",
        "      movie_req = requests.get(movieInfoUrl)  # 해당 페이지로 이동\n",
        "\n",
        "      # 제목 수집\n",
        "      movie_soup = BeautifulSoup(movie_req.text, 'lxml')\n",
        "      title = movie_soup.head.find(\"meta\", {\"property\":\"og:title\"}).get('content')\n",
        "      title_infos.append(title)\n",
        "      print(title)\n",
        "\n",
        "      # 줄거리 수집\n",
        "      contents_texts = movie_soup.select('div.story_area > p.con_tx')\n",
        "\n",
        "      if len(contents_texts) == 0:\n",
        "        content_infos.append(\"줄거리 오류\")\n",
        "\n",
        "      else :\n",
        "        for contents in contents_texts :\n",
        "          # 줄거리 데이터 클렌징 작업\n",
        "          temp = contents.text\n",
        "          temp = temp.replace('\\r', '')  # 한줄 개행\n",
        "          temp = temp.replace('\\xa0', '')  # 공백 제거\n",
        "          content_infos.append(temp)\n",
        "\n",
        "    elif newflag == '' :\n",
        "      print('청불 영화로 데이터 수집하지 않습니다.')\n",
        "\n",
        "  print('수집 완료합니다....')\n",
        "  print(len(score_infos), len(genre_infos), len(content_infos))\n",
        "  driver.close()\n",
        "\n",
        "  movie_dic = {\"제목\": title_infos, \"평점\": score_infos, \"장르\": genre_infos, \"줄거리\": content_infos}\n",
        "\n",
        "  movie_df = pd.DataFrame(movie_dic)\n",
        "\n",
        "  # 수집된 정보 중에 중복 데이터 삭제\n",
        "  # 줄거리 비교해서 중복된 영화를 삭제(첫번째 수집 영화만 남음)\n",
        "  movie_df2 = movie_df.drop_duplicates(\"줄거리\", keep='first')  \n",
        "\n",
        "  return movie_df2\n"
      ],
      "execution_count": null,
      "outputs": []
    },
    {
      "cell_type": "markdown",
      "metadata": {
        "id": "SzybDKfSKj-S"
      },
      "source": [
        "# CSV파일로 저장"
      ]
    },
    {
      "cell_type": "code",
      "metadata": {
        "id": "0cDkXr0t4MYy"
      },
      "source": [
        "def dftoCsv(movie_df, num) :\n",
        "  try:\n",
        "    movie_df.to_csv(('movie_my_data' + str(num) +'.csv'), \n",
        "                    sep=',', na_rep='NaN', encoding='euc-kr')  # 한글 깨지면 encoding='utf-8-sig'\n",
        "\n",
        "    \n",
        "  except:\n",
        "    print(\"Error\")\n",
        "\n",
        "  "
      ],
      "execution_count": null,
      "outputs": []
    },
    {
      "cell_type": "markdown",
      "metadata": {
        "id": "QfkTv_uQLbip"
      },
      "source": [
        "# 크롤링 실행"
      ]
    },
    {
      "cell_type": "code",
      "metadata": {
        "colab": {
          "base_uri": "https://localhost:8080/"
        },
        "id": "J1DvghKwLbMG",
        "outputId": "c5d12272-d898-420e-dec5-a4e05539c30a"
      },
      "source": [
        "# 1) 크롤링 할 링크 수집\n",
        "links = getPageLinksWantRange(1, 5)\n",
        "\n",
        "# 2) 영화 상세 정보 수집\n",
        "movie_df2 = getMovieDataFromNaverSeries(links)\n",
        "\n",
        "# 3) csv 파일 저장\n",
        "dftoCsv(movie_df2, len(movie_df2))"
      ],
      "execution_count": null,
      "outputs": [
        {
          "output_type": "stream",
          "text": [
            "https://series.naver.com/movie/detail.nhn?productNo=6119777  수 집 중........\n",
            "7\n",
            "미나리\n",
            "https://series.naver.com/movie/detail.nhn?productNo=6176165  수 집 중........\n",
            "8\n",
            "노바디 \n",
            "https://series.naver.com/movie/detail.nhn?productNo=6158879  수 집 중........\n",
            "9\n",
            "자산어보\n",
            "https://series.naver.com/movie/detail.nhn?productNo=6098871  수 집 중........\n",
            "9\n",
            "라야와 마지막 드래곤\n",
            "https://series.naver.com/movie/detail.nhn?productNo=6023769  수 집 중........\n",
            "9\n",
            "소울\n",
            "https://series.naver.com/movie/detail.nhn?productNo=6139377  수 집 중........\n",
            "8\n",
            "고질라 VS. 콩\n",
            "https://series.naver.com/movie/detail.nhn?productNo=6139375  수 집 중........\n",
            "9\n",
            "소울\n",
            "https://series.naver.com/movie/detail.nhn?productNo=6119778  수 집 중........\n",
            "7\n",
            "미나리\n",
            "https://series.naver.com/movie/detail.nhn?productNo=4356726  수 집 중........\n",
            "9\n",
            "어벤져스: 엔드게임\n",
            "https://series.naver.com/movie/detail.nhn?productNo=6176518  수 집 중........\n",
            "청불 영화로 데이터 수집하지 않습니다.\n",
            "https://series.naver.com/movie/detail.nhn?productNo=3293948  수 집 중........\n",
            "청불 영화로 데이터 수집하지 않습니다.\n",
            "https://series.naver.com/movie/detail.nhn?productNo=6039515  수 집 중........\n",
            "0\n",
            "잭 스나이더의 저스티스 리그\n",
            "https://series.naver.com/movie/detail.nhn?productNo=6176542  수 집 중........\n",
            "8\n",
            "노매드랜드\n",
            "https://series.naver.com/movie/detail.nhn?productNo=1965132  수 집 중........\n",
            "청불 영화로 데이터 수집하지 않습니다.\n",
            "https://series.naver.com/movie/detail.nhn?productNo=1808511  수 집 중........\n",
            "9\n",
            "분노의 질주: 더 세븐\n",
            "https://series.naver.com/movie/detail.nhn?productNo=6176166  수 집 중........\n",
            "8\n",
            "노바디 \n",
            "https://series.naver.com/movie/detail.nhn?productNo=2747742  수 집 중........\n",
            "8\n",
            "라라랜드\n",
            "https://series.naver.com/movie/detail.nhn?productNo=4475562  수 집 중........\n",
            "7\n",
            "분노의 질주: 홉스&쇼\n",
            "https://series.naver.com/movie/detail.nhn?productNo=5751044  수 집 중........\n",
            "8\n",
            "테넷\n",
            "https://series.naver.com/movie/detail.nhn?productNo=5843892  수 집 중........\n",
            "8\n",
            "테넷\n",
            "https://series.naver.com/movie/detail.nhn?productNo=2822635  수 집 중........\n",
            "청불 영화로 데이터 수집하지 않습니다.\n",
            "https://series.naver.com/movie/detail.nhn?productNo=6176543  수 집 중........\n",
            "8\n",
            "노매드랜드\n",
            "https://series.naver.com/movie/detail.nhn?productNo=5607754  수 집 중........\n",
            "8\n",
            "애프터: 그 후\n",
            "https://series.naver.com/movie/detail.nhn?productNo=1729987  수 집 중........\n",
            "청불 영화로 데이터 수집하지 않습니다.\n",
            "https://series.naver.com/movie/detail.nhn?productNo=4579842  수 집 중........\n",
            "8\n",
            "조커\n",
            "https://series.naver.com/movie/detail.nhn?productNo=2790610  수 집 중........\n",
            "8\n",
            "분노의 질주: 더 익스트림\n",
            "https://series.naver.com/movie/detail.nhn?productNo=1373317  수 집 중........\n",
            "청불 영화로 데이터 수집하지 않습니다.\n",
            "https://series.naver.com/movie/detail.nhn?productNo=552985  수 집 중........\n",
            "청불 영화로 데이터 수집하지 않습니다.\n",
            "https://series.naver.com/movie/detail.nhn?productNo=6189997  수 집 중........\n",
            "7\n",
            "내일의 기억\n",
            "https://series.naver.com/movie/detail.nhn?productNo=5009512  수 집 중........\n",
            "8\n",
            "다크 워터스\n",
            "https://series.naver.com/movie/detail.nhn?productNo=4465876  수 집 중........\n",
            "7\n",
            "애프터\n",
            "https://series.naver.com/movie/detail.nhn?productNo=1781025  수 집 중........\n",
            "9\n",
            "비긴 어게인\n",
            "https://series.naver.com/movie/detail.nhn?productNo=4508244  수 집 중........\n",
            "9\n",
            "알라딘\n",
            "https://series.naver.com/movie/detail.nhn?productNo=6147667  수 집 중........\n",
            "8\n",
            "더 파더\n",
            "https://series.naver.com/movie/detail.nhn?productNo=1049059  수 집 중........\n",
            "8\n",
            "분노의 질주: 언리미티드\n",
            "https://series.naver.com/movie/detail.nhn?productNo=1126516  수 집 중........\n",
            "8\n",
            "분노의 질주: 더 맥시멈\n",
            "https://series.naver.com/movie/detail.nhn?productNo=2968150  수 집 중........\n",
            "청불 영화로 데이터 수집하지 않습니다.\n",
            "https://series.naver.com/movie/detail.nhn?productNo=3400212  수 집 중........\n",
            "7\n",
            "콰이어트 플레이스\n",
            "https://series.naver.com/movie/detail.nhn?productNo=2166247  수 집 중........\n",
            "청불 영화로 데이터 수집하지 않습니다.\n",
            "https://series.naver.com/movie/detail.nhn?productNo=977821  수 집 중........\n",
            "8\n",
            "분노의 질주: 더 오리지널\n",
            "https://series.naver.com/movie/detail.nhn?productNo=6189996  수 집 중........\n",
            "7\n",
            "내일의 기억\n",
            "https://series.naver.com/movie/detail.nhn?productNo=3318482  수 집 중........\n",
            "청불 영화로 데이터 수집하지 않습니다.\n",
            "https://series.naver.com/movie/detail.nhn?productNo=6143439  수 집 중........\n",
            "9\n",
            "몬테크리스토: 더 뮤지컬 라이브\n",
            "https://series.naver.com/movie/detail.nhn?productNo=6139376  수 집 중........\n",
            "9\n",
            "소울\n",
            "https://series.naver.com/movie/detail.nhn?productNo=3100069  수 집 중........\n",
            "9\n",
            "이프 온리\n",
            "https://series.naver.com/movie/detail.nhn?productNo=2441904  수 집 중........\n",
            "8\n",
            "미 비포 유\n",
            "https://series.naver.com/movie/detail.nhn?productNo=1537164  수 집 중........\n",
            "청불 영화로 데이터 수집하지 않습니다.\n",
            "https://series.naver.com/movie/detail.nhn?productNo=4695510  수 집 중........\n",
            "청불 영화로 데이터 수집하지 않습니다.\n",
            "https://series.naver.com/movie/detail.nhn?productNo=585441  수 집 중........\n",
            "9\n",
            "노트북\n",
            "https://series.naver.com/movie/detail.nhn?productNo=3448644  수 집 중........\n",
            "8\n",
            "레디 플레이어 원\n",
            "https://series.naver.com/movie/detail.nhn?productNo=2787777  수 집 중........\n",
            "청불 영화로 데이터 수집하지 않습니다.\n",
            "https://series.naver.com/movie/detail.nhn?productNo=3744353  수 집 중........\n",
            "9\n",
            "스타 이즈 본\n",
            "https://series.naver.com/movie/detail.nhn?productNo=1775085  수 집 중........\n",
            "청불 영화로 데이터 수집하지 않습니다.\n",
            "https://series.naver.com/movie/detail.nhn?productNo=3532815  수 집 중........\n",
            "8\n",
            "어벤져스: 인피니티 워\n",
            "https://series.naver.com/movie/detail.nhn?productNo=5778853  수 집 중........\n",
            "7\n",
            "도굴\n",
            "https://series.naver.com/movie/detail.nhn?productNo=3593762  수 집 중........\n",
            "8\n",
            "어벤져스: 인피니티 워\n",
            "https://series.naver.com/movie/detail.nhn?productNo=1798015  수 집 중........\n",
            "7\n",
            "패스트 & 퓨리어스 - 도쿄 드리프트\n",
            "https://series.naver.com/movie/detail.nhn?productNo=3843473  수 집 중........\n",
            "7\n",
            "베놈\n",
            "https://series.naver.com/movie/detail.nhn?productNo=977825  수 집 중........\n",
            "8\n",
            "패스트 & 퓨리어스 2\n",
            "https://series.naver.com/movie/detail.nhn?productNo=3241116  수 집 중........\n",
            "9\n",
            "코코\n",
            "https://series.naver.com/movie/detail.nhn?productNo=6112492  수 집 중........\n",
            "0\n",
            "명탐정 코난 : 비색의 부재증명\n",
            "https://series.naver.com/movie/detail.nhn?productNo=5110441  수 집 중........\n",
            "청불 영화로 데이터 수집하지 않습니다.\n",
            "https://series.naver.com/movie/detail.nhn?productNo=5156470  수 집 중........\n",
            "8\n",
            "기생충\n",
            "https://series.naver.com/movie/detail.nhn?productNo=2686058  수 집 중........\n",
            "청불 영화로 데이터 수집하지 않습니다.\n",
            "https://series.naver.com/movie/detail.nhn?productNo=1798013  수 집 중........\n",
            "8\n",
            "분노의 질주\n",
            "https://series.naver.com/movie/detail.nhn?productNo=6158864  수 집 중........\n",
            "0\n",
            "잭 스나이더의 저스티스 리그\n",
            "https://series.naver.com/movie/detail.nhn?productNo=2909332  수 집 중........\n",
            "8\n",
            "너의 이름은.\n",
            "https://series.naver.com/movie/detail.nhn?productNo=412868  수 집 중........\n",
            "9\n",
            "해리 포터와 마법사의 돌\n",
            "https://series.naver.com/movie/detail.nhn?productNo=6210977  수 집 중........\n",
            "9\n",
            "라야와 마지막 드래곤\n",
            "https://series.naver.com/movie/detail.nhn?productNo=3946722  수 집 중........\n",
            "청불 영화로 데이터 수집하지 않습니다.\n",
            "https://series.naver.com/movie/detail.nhn?productNo=6225301  수 집 중........\n",
            "6\n",
            "비와 당신의 이야기\n",
            "https://series.naver.com/movie/detail.nhn?productNo=5482161  수 집 중........\n",
            "7\n",
            "다만 악에서 구하소서\n",
            "https://series.naver.com/movie/detail.nhn?productNo=1849600  수 집 중........\n",
            "청불 영화로 데이터 수집하지 않습니다.\n",
            "https://series.naver.com/movie/detail.nhn?productNo=2284790  수 집 중........\n",
            "8\n",
            "시카고\n",
            "https://series.naver.com/movie/detail.nhn?productNo=4406203  수 집 중........\n",
            "청불 영화로 데이터 수집하지 않습니다.\n",
            "https://series.naver.com/movie/detail.nhn?productNo=3478547  수 집 중........\n",
            "9\n",
            "아일라\n",
            "https://series.naver.com/movie/detail.nhn?productNo=5023130  수 집 중........\n",
            "청불 영화로 데이터 수집하지 않습니다.\n",
            "https://series.naver.com/movie/detail.nhn?productNo=4581368  수 집 중........\n",
            "청불 영화로 데이터 수집하지 않습니다.\n",
            "https://series.naver.com/movie/detail.nhn?productNo=4021296  수 집 중........\n",
            "9\n",
            "그린 북\n",
            "https://series.naver.com/movie/detail.nhn?productNo=1405968  수 집 중........\n",
            "청불 영화로 데이터 수집하지 않습니다.\n",
            "https://series.naver.com/movie/detail.nhn?productNo=2133611  수 집 중........\n",
            "8\n",
            "신데렐라 스토리\n",
            "https://series.naver.com/movie/detail.nhn?productNo=4821120  수 집 중........\n",
            "8\n",
            "겨울왕국 2\n",
            "https://series.naver.com/movie/detail.nhn?productNo=2015025  수 집 중........\n",
            "9\n",
            "인사이드 아웃\n",
            "https://series.naver.com/movie/detail.nhn?productNo=1605628  수 집 중........\n",
            "8\n",
            "500일의 썸머\n",
            "https://series.naver.com/movie/detail.nhn?productNo=2118078  수 집 중........\n",
            "4\n",
            "디.이.비.에스.\n",
            "https://series.naver.com/movie/detail.nhn?productNo=3241117  수 집 중........\n",
            "9\n",
            "코코\n",
            "https://series.naver.com/movie/detail.nhn?productNo=6063434  수 집 중........\n",
            "7\n",
            "헝거게임 : 더 파이널\n",
            "https://series.naver.com/movie/detail.nhn?productNo=6147086  수 집 중........\n",
            "8\n",
            "더 파더\n",
            "https://series.naver.com/movie/detail.nhn?productNo=5404435  수 집 중........\n",
            "9\n",
            "소년시절의 너\n",
            "https://series.naver.com/movie/detail.nhn?productNo=1787179  수 집 중........\n",
            "9\n",
            "뷰티풀 마인드\n",
            "https://series.naver.com/movie/detail.nhn?productNo=3262026  수 집 중........\n",
            "9\n",
            "원더\n",
            "https://series.naver.com/movie/detail.nhn?productNo=3285301  수 집 중........\n",
            "7\n",
            "메이즈 러너: 데스 큐어\n",
            "https://series.naver.com/movie/detail.nhn?productNo=442567  수 집 중........\n",
            "6\n",
            "여배우들\n",
            "https://series.naver.com/movie/detail.nhn?productNo=3239240  수 집 중........\n",
            "9\n",
            "위대한 쇼맨\n",
            "https://series.naver.com/movie/detail.nhn?productNo=2956707  수 집 중........\n",
            "청불 영화로 데이터 수집하지 않습니다.\n",
            "https://series.naver.com/movie/detail.nhn?productNo=4821119  수 집 중........\n",
            "8\n",
            "겨울왕국 2\n",
            "https://series.naver.com/movie/detail.nhn?productNo=1402314  수 집 중........\n",
            "9\n",
            "어바웃 타임\n",
            "https://series.naver.com/movie/detail.nhn?productNo=475495  수 집 중........\n",
            "8\n",
            "어벤져스\n",
            "https://series.naver.com/movie/detail.nhn?productNo=412869  수 집 중........\n",
            "8\n",
            "해리 포터와 비밀의 방\n",
            "https://series.naver.com/movie/detail.nhn?productNo=5991457  수 집 중........\n",
            "5\n",
            "원더 우먼 1984\n",
            "수집 완료합니다....\n",
            "77 77 77\n"
          ],
          "name": "stdout"
        }
      ]
    },
    {
      "cell_type": "markdown",
      "metadata": {
        "id": "MFaVftxsmyWx"
      },
      "source": [
        "# 크롤링한 Top100 영화 데이터 시각화"
      ]
    },
    {
      "cell_type": "code",
      "metadata": {
        "id": "qdK4LR07LYjp"
      },
      "source": [
        "# 라이브러리 임포트\n",
        "import plotly.express as px\n",
        "import plotly.graph_objects as go\n",
        "import numpy as np\n",
        "import pandas as pd"
      ],
      "execution_count": null,
      "outputs": []
    },
    {
      "cell_type": "markdown",
      "metadata": {
        "id": "i1adLI-tnHZr"
      },
      "source": [
        "# 데이터 준비하기"
      ]
    },
    {
      "cell_type": "code",
      "metadata": {
        "colab": {
          "base_uri": "https://localhost:8080/"
        },
        "id": "kFCvG3nCnGcC",
        "outputId": "5cd67050-1eb2-4159-8e17-98e84c9c7363"
      },
      "source": [
        "df= pd.read_csv('/content/movie_my_data75_20210623실시간.csv')\n",
        "df.info()"
      ],
      "execution_count": null,
      "outputs": [
        {
          "output_type": "stream",
          "text": [
            "<class 'pandas.core.frame.DataFrame'>\n",
            "RangeIndex: 75 entries, 0 to 74\n",
            "Data columns (total 5 columns):\n",
            " #   Column      Non-Null Count  Dtype \n",
            "---  ------      --------------  ----- \n",
            " 0   Unnamed: 0  75 non-null     int64 \n",
            " 1   제목          75 non-null     object\n",
            " 2   평점          75 non-null     int64 \n",
            " 3   장르          75 non-null     object\n",
            " 4   줄거리         75 non-null     object\n",
            "dtypes: int64(2), object(3)\n",
            "memory usage: 3.1+ KB\n"
          ],
          "name": "stdout"
        }
      ]
    },
    {
      "cell_type": "code",
      "metadata": {
        "colab": {
          "base_uri": "https://localhost:8080/",
          "height": 304
        },
        "id": "mtfT1WNCn7EE",
        "outputId": "3a829b93-b64f-4d38-aef1-156b2223aa6d"
      },
      "source": [
        "df.head()"
      ],
      "execution_count": null,
      "outputs": [
        {
          "output_type": "execute_result",
          "data": {
            "text/html": [
              "<div>\n",
              "<style scoped>\n",
              "    .dataframe tbody tr th:only-of-type {\n",
              "        vertical-align: middle;\n",
              "    }\n",
              "\n",
              "    .dataframe tbody tr th {\n",
              "        vertical-align: top;\n",
              "    }\n",
              "\n",
              "    .dataframe thead th {\n",
              "        text-align: right;\n",
              "    }\n",
              "</style>\n",
              "<table border=\"1\" class=\"dataframe\">\n",
              "  <thead>\n",
              "    <tr style=\"text-align: right;\">\n",
              "      <th></th>\n",
              "      <th>Unnamed: 0</th>\n",
              "      <th>제목</th>\n",
              "      <th>평점</th>\n",
              "      <th>장르</th>\n",
              "      <th>줄거리</th>\n",
              "    </tr>\n",
              "  </thead>\n",
              "  <tbody>\n",
              "    <tr>\n",
              "      <th>0</th>\n",
              "      <td>0</td>\n",
              "      <td>콰이어트 플레이스</td>\n",
              "      <td>7</td>\n",
              "      <td>공포/스릴러</td>\n",
              "      <td>소리를 내는 순간 공격받는 극한의 상황 속에서 살아남기 위한 한 가족의 숨막히는 사...</td>\n",
              "    </tr>\n",
              "    <tr>\n",
              "      <th>1</th>\n",
              "      <td>1</td>\n",
              "      <td>극장판 귀멸의 칼날: 무한열차편</td>\n",
              "      <td>9</td>\n",
              "      <td>애니메이션</td>\n",
              "      <td>혈귀로 변해버린 여동생 ‘네즈코’를 인간으로 되돌릴 단서를 찾아 비밀조직 귀살대에 ...</td>\n",
              "    </tr>\n",
              "    <tr>\n",
              "      <th>2</th>\n",
              "      <td>2</td>\n",
              "      <td>킬러의 보디가드</td>\n",
              "      <td>8</td>\n",
              "      <td>액션</td>\n",
              "      <td>세상 제일 잘난 맛에 사는 섭외 1순위 앵그리 보디가드가지명수배 1순위 구강 액션 ...</td>\n",
              "    </tr>\n",
              "    <tr>\n",
              "      <th>3</th>\n",
              "      <td>3</td>\n",
              "      <td>크루엘라</td>\n",
              "      <td>9</td>\n",
              "      <td>드라마</td>\n",
              "      <td>처음부터 난 알았어. 내가 특별하단 걸그게 불편한 인간들도 있겠지만 모두의 비위를 ...</td>\n",
              "    </tr>\n",
              "    <tr>\n",
              "      <th>4</th>\n",
              "      <td>4</td>\n",
              "      <td>조커</td>\n",
              "      <td>8</td>\n",
              "      <td>드라마</td>\n",
              "      <td>고담시의 광대 아서 플렉은 코미디언을 꿈꾸는 남자.하지만 모두가 미쳐가는 코미디 같...</td>\n",
              "    </tr>\n",
              "  </tbody>\n",
              "</table>\n",
              "</div>"
            ],
            "text/plain": [
              "   Unnamed: 0  ...                                                줄거리\n",
              "0           0  ...  소리를 내는 순간 공격받는 극한의 상황 속에서 살아남기 위한 한 가족의 숨막히는 사...\n",
              "1           1  ...  혈귀로 변해버린 여동생 ‘네즈코’를 인간으로 되돌릴 단서를 찾아 비밀조직 귀살대에 ...\n",
              "2           2  ...  세상 제일 잘난 맛에 사는 섭외 1순위 앵그리 보디가드가지명수배 1순위 구강 액션 ...\n",
              "3           3  ...  처음부터 난 알았어. 내가 특별하단 걸그게 불편한 인간들도 있겠지만 모두의 비위를 ...\n",
              "4           4  ...  고담시의 광대 아서 플렉은 코미디언을 꿈꾸는 남자.하지만 모두가 미쳐가는 코미디 같...\n",
              "\n",
              "[5 rows x 5 columns]"
            ]
          },
          "metadata": {
            "tags": []
          },
          "execution_count": 7
        }
      ]
    },
    {
      "cell_type": "code",
      "metadata": {
        "colab": {
          "base_uri": "https://localhost:8080/",
          "height": 542
        },
        "id": "H3_DC0rnoUkL",
        "outputId": "4ed0d4d3-1d97-420d-b2c1-333fd5a216fc"
      },
      "source": [
        "fig = px.scatter(df, x='제목', y='평점', color='장르')\n",
        "fig.show()"
      ],
      "execution_count": null,
      "outputs": [
        {
          "output_type": "display_data",
          "data": {
            "text/html": [
              "<html>\n",
              "<head><meta charset=\"utf-8\" /></head>\n",
              "<body>\n",
              "    <div>\n",
              "            <script src=\"https://cdnjs.cloudflare.com/ajax/libs/mathjax/2.7.5/MathJax.js?config=TeX-AMS-MML_SVG\"></script><script type=\"text/javascript\">if (window.MathJax) {MathJax.Hub.Config({SVG: {font: \"STIX-Web\"}});}</script>\n",
              "                <script type=\"text/javascript\">window.PlotlyConfig = {MathJaxConfig: 'local'};</script>\n",
              "        <script src=\"https://cdn.plot.ly/plotly-latest.min.js\"></script>    \n",
              "            <div id=\"c0b4469d-a1b9-4f5c-829c-114a0ac284be\" class=\"plotly-graph-div\" style=\"height:525px; width:100%;\"></div>\n",
              "            <script type=\"text/javascript\">\n",
              "                \n",
              "                    window.PLOTLYENV=window.PLOTLYENV || {};\n",
              "                    \n",
              "                if (document.getElementById(\"c0b4469d-a1b9-4f5c-829c-114a0ac284be\")) {\n",
              "                    Plotly.newPlot(\n",
              "                        'c0b4469d-a1b9-4f5c-829c-114a0ac284be',\n",
              "                        [{\"hoverlabel\": {\"namelength\": 0}, \"hovertemplate\": \"\\uc7a5\\ub974=\\uacf5\\ud3ec/\\uc2a4\\ub9b4\\ub7ec<br>\\uc81c\\ubaa9=%{x}<br>\\ud3c9\\uc810=%{y}\", \"legendgroup\": \"\\uc7a5\\ub974=\\uacf5\\ud3ec/\\uc2a4\\ub9b4\\ub7ec\", \"marker\": {\"color\": \"#636efa\", \"symbol\": \"circle\"}, \"mode\": \"markers\", \"name\": \"\\uc7a5\\ub974=\\uacf5\\ud3ec/\\uc2a4\\ub9b4\\ub7ec\", \"showlegend\": true, \"type\": \"scatter\", \"x\": [\"\\ucf70\\uc774\\uc5b4\\ud2b8 \\ud50c\\ub808\\uc774\\uc2a4\", \"\\ub354 \\uc2a4\\ud30c\\uc774\", \"\\uae30\\uae30\\uad34\\uad34 \\uc131\\ud615\\uc218\", \"\\uc5b8\\ub354\\uc6cc\\ud130\", \"\\uce90\\ube48 \\uc624\\ube0c \\ub354 \\ucee8\\uc800\\ub9c1\", \"\\uc560\\ub4dc \\uc544\\uc2a4\\ud2b8\\ub77c\", \"\\uadf8\\uac83: \\ub450 \\ubc88\\uc9f8 \\uc774\\uc57c\\uae30\", \"\\ub8e9 \\uc5b4\\uc6e8\\uc774\"], \"xaxis\": \"x\", \"y\": [7, 8, 6, 7, 3, 7, 6, 7], \"yaxis\": \"y\"}, {\"hoverlabel\": {\"namelength\": 0}, \"hovertemplate\": \"\\uc7a5\\ub974=\\uc560\\ub2c8\\uba54\\uc774\\uc158<br>\\uc81c\\ubaa9=%{x}<br>\\ud3c9\\uc810=%{y}\", \"legendgroup\": \"\\uc7a5\\ub974=\\uc560\\ub2c8\\uba54\\uc774\\uc158\", \"marker\": {\"color\": \"#EF553B\", \"symbol\": \"circle\"}, \"mode\": \"markers\", \"name\": \"\\uc7a5\\ub974=\\uc560\\ub2c8\\uba54\\uc774\\uc158\", \"showlegend\": true, \"type\": \"scatter\", \"x\": [\"\\uadf9\\uc7a5\\ud310 \\uadc0\\uba78\\uc758 \\uce7c\\ub0a0: \\ubb34\\ud55c\\uc5f4\\ucc28\\ud3b8\", \"\\uc18c\\uc6b8\", \"\\ubf40\\ub85c\\ub85c \\uadf9\\uc7a5\\ud310 \\ubcf4\\ubb3c\\uc12c \\ub300\\ubaa8\\ud5d8\", \"\\ud558\\uc6b8\\uc758 \\uc6c0\\uc9c1\\uc774\\ub294 \\uc131\", \"\\ud398\\uc774\\ud2b8 \\uc2a4\\ud14c\\uc774 \\ub098\\uc774\\ud2b8 \\ud5e4\\ube10\\uc988\\ud544 \\uc81c3\\uc7a5 \\uc2a4\\ud504\\ub9c1 \\uc1a1\", \"\\ub77c\\uc57c\\uc640 \\ub9c8\\uc9c0\\ub9c9 \\ub4dc\\ub798\\uace4\", \"\\uba85\\ud0d0\\uc815 \\ucf54\\ub09c: \\uc9c4\\ud64d\\uc758 \\uc218\\ud559\\uc5ec\\ud589\", \"\\ube45\\ud48b \\uc8fc\\ub2c8\\uc5b42: \\ud328\\ubc00\\ub9ac\\uac00 \\ub5b4\\ub2e4\"], \"xaxis\": \"x\", \"y\": [9, 9, 9, 9, 9, 9, 7, 9], \"yaxis\": \"y\"}, {\"hoverlabel\": {\"namelength\": 0}, \"hovertemplate\": \"\\uc7a5\\ub974=\\uc561\\uc158<br>\\uc81c\\ubaa9=%{x}<br>\\ud3c9\\uc810=%{y}\", \"legendgroup\": \"\\uc7a5\\ub974=\\uc561\\uc158\", \"marker\": {\"color\": \"#00cc96\", \"symbol\": \"circle\"}, \"mode\": \"markers\", \"name\": \"\\uc7a5\\ub974=\\uc561\\uc158\", \"showlegend\": true, \"type\": \"scatter\", \"x\": [\"\\ud0ac\\ub7ec\\uc758 \\ubcf4\\ub514\\uac00\\ub4dc\", \"\\ud06c\\ub8e8\\uc988 \\ud328\\ubc00\\ub9ac: \\ub274 \\uc5d0\\uc774\\uc9c0\", \"\\ub178\\ubc14\\ub514 \", \"\\ud14c\\ub137\", \"\\uc5b4\\ubca4\\uc838\\uc2a4: \\uc5d4\\ub4dc\\uac8c\\uc784\", \"\\uc7ad \\uc2a4\\ub098\\uc774\\ub354\\uc758 \\uc800\\uc2a4\\ud2f0\\uc2a4 \\ub9ac\\uadf8\", \"\\ub808\\ub514 \\ud50c\\ub808\\uc774\\uc5b4 \\uc6d0\", \"\\ud5dd\\uac70\\uac8c\\uc784 : \\ub354 \\ud30c\\uc774\\ub110\", \"\\ud5dd\\uac70\\uac8c\\uc784:\\ubaa8\\ud0b9\\uc81c\\uc774\", \"\\ud30c\\uc774\\ud504\\ub77c\\uc778\", \"\\ubbac\\ub780\", \"\\uc544\\uc77c\\ub77c\", \"\\uc5b4\\ubca4\\uc838\\uc2a4: \\uc778\\ud53c\\ub2c8\\ud2f0 \\uc6cc\", \"\\ubc14\\ub78c\\uc758 \\uac80\\uc2ec : \\uc804\\uc124\\uc758 \\ucd5c\\ud6c4\\ud3b8\", \"\\ubd84\\ub178\\uc758 \\uc9c8\\uc8fc: \\ub354 \\ub9e5\\uc2dc\\uba48\", \"\\uc774\\ud0dc\\uc6d0 \\uc0b4\\uc778\\uc0ac\\uac74\", \"\\ud06c\\ub85c\\uc6b0\\uc988 \\uc81c\\ub85c\", \"\\ud0b9\\ub364 \\uc624\\ube0c \\ud5e4\\ube10\", \"\\ub77c\\uc774\\ub354\\uc2a4 \\uc624\\ube0c \\uc800\\uc2a4\\ud2f0\\uc2a4\", \"\\uc1fc\\ud06c \\uc6e8\\uc774\\ube0c 2\", \"\\ub9c8\\ud06c\\ub9e8\", \"\\uace0\\uc9c8\\ub77c VS. \\ucf69\", \"\\ud504\\ub77c\\ubbf8\\uc2f1 \\uc601 \\uc6b0\\uba3c\", \"\\uac15\\ucca0\\ube442: \\uc815\\uc0c1\\ud68c\\ub2f4\", \"\\uc18c\\ub144\\uc2dc\\uc808\\uc758 \\ub108\", \"\\uc628\\uc6cc\\ub4dc: \\ub2e8 \\ud558\\ub8e8\\uc758 \\uae30\\uc801\", \"\\ucf5c \\uc624\\ube0c \\uc640\\uc77c\\ub4dc\", \"\\ud0b9\\ub364\", \"\\uc880\\ube44\\ub79c\\ub4dc: \\ub354\\ube14 \\ud0ed\", \"\\ubd09\\uc624\\ub3d9 \\uc804\\ud22c\", \"\\uc2a4\\ud30c\\uc774\\ub354\\ub9e8: \\ud30c \\ud504\\ub86c \\ud648\"], \"xaxis\": \"x\", \"y\": [8, 9, 8, 8, 9, 0, 8, 7, 7, 6, 4, 9, 8, 8, 8, 5, 7, 8, 7, 9, 5, 8, 8, 4, 9, 9, 8, 6, 7, 7, 8], \"yaxis\": \"y\"}, {\"hoverlabel\": {\"namelength\": 0}, \"hovertemplate\": \"\\uc7a5\\ub974=\\ub4dc\\ub77c\\ub9c8<br>\\uc81c\\ubaa9=%{x}<br>\\ud3c9\\uc810=%{y}\", \"legendgroup\": \"\\uc7a5\\ub974=\\ub4dc\\ub77c\\ub9c8\", \"marker\": {\"color\": \"#ab63fa\", \"symbol\": \"circle\"}, \"mode\": \"markers\", \"name\": \"\\uc7a5\\ub974=\\ub4dc\\ub77c\\ub9c8\", \"showlegend\": true, \"type\": \"scatter\", \"x\": [\"\\ud06c\\ub8e8\\uc5d8\\ub77c\", \"\\uc870\\ucee4\", \"\\ubbf8\\ub098\\ub9ac\", \"\\uc790\\uc0b0\\uc5b4\\ubcf4\", \"\\ubdf0\\ud2f0\\ud480 \\ubcf4\\uc774\", \"\\ube44\\uc640 \\ub2f9\\uc2e0\\uc758 \\uc774\\uc57c\\uae30\", \"\\uc138\\uc790\\ub9e4\", \"\\ubc14\\ub2f7\\ub9c8\\uc744 \\ub2e4\\uc774\\uc5b4\\ub9ac\", \"\\uc911\\uacbd\\uc0bc\\ub9bc\", \"\\uc544\\ub4e4\\uc758 \\uc774\\ub984\\uc73c\\ub85c\", \"\\uc544\\uc774\\ub4e4\\uc740 \\uc990\\uac81\\ub2e4\", \"\\ub178\\ub9e4\\ub4dc\\ub79c\\ub4dc\", \"\\ud0c0\\uc778\\uc758 \\uce5c\\uc808\", \"\\ub354 \\ud30c\\ub354\", \"\\ub0a8\\ub9e4\\uc758 \\uc5ec\\ub984\\ubc24\", \"\\uae30\\ub3c4\\uc758 \\ud798\", \"\\uc0ac\\ub791\\uc774 \\ubb58\\uae4c\", \"\\uad7f\\ubc14\\uc774 \\uc378\\uba38\"], \"xaxis\": \"x\", \"y\": [9, 8, 7, 9, 8, 6, 8, 8, 8, 6, 9, 8, 8, 8, 8, 9, 7, 6], \"yaxis\": \"y\"}, {\"hoverlabel\": {\"namelength\": 0}, \"hovertemplate\": \"\\uc7a5\\ub974=\\uacf5\\uc5f0\\uc2e4\\ud669<br>\\uc81c\\ubaa9=%{x}<br>\\ud3c9\\uc810=%{y}\", \"legendgroup\": \"\\uc7a5\\ub974=\\uacf5\\uc5f0\\uc2e4\\ud669\", \"marker\": {\"color\": \"#FFA15A\", \"symbol\": \"circle\"}, \"mode\": \"markers\", \"name\": \"\\uc7a5\\ub974=\\uacf5\\uc5f0\\uc2e4\\ud669\", \"showlegend\": true, \"type\": \"scatter\", \"x\": [\"\\ubaac\\ud14c\\ud06c\\ub9ac\\uc2a4\\ud1a0: \\ub354 \\ubba4\\uc9c0\\uceec \\ub77c\\uc774\\ube0c\"], \"xaxis\": \"x\", \"y\": [9], \"yaxis\": \"y\"}, {\"hoverlabel\": {\"namelength\": 0}, \"hovertemplate\": \"\\uc7a5\\ub974=\\uba5c\\ub85c<br>\\uc81c\\ubaa9=%{x}<br>\\ud3c9\\uc810=%{y}\", \"legendgroup\": \"\\uc7a5\\ub974=\\uba5c\\ub85c\", \"marker\": {\"color\": \"#19d3f3\", \"symbol\": \"circle\"}, \"mode\": \"markers\", \"name\": \"\\uc7a5\\ub974=\\uba5c\\ub85c\", \"showlegend\": true, \"type\": \"scatter\", \"x\": [\"\\uc560\\ud504\\ud130: \\uadf8 \\ud6c4\", \"\\uc720\\uc5b4 \\uc544\\uc774\\uc988 \\ud154\", \"\\uc624\\ud0c0\\ucfe0\\uc5d0\\uac8c \\uc0ac\\ub791\\uc740 \\uc5b4\\ub824\\uc6cc\"], \"xaxis\": \"x\", \"y\": [8, 9, 5], \"yaxis\": \"y\"}, {\"hoverlabel\": {\"namelength\": 0}, \"hovertemplate\": \"\\uc7a5\\ub974=\\uac10\\ub3c5\\uc6b0\\ub514 \\uc568\\ub7f0<br>\\uc81c\\ubaa9=%{x}<br>\\ud3c9\\uc810=%{y}\", \"legendgroup\": \"\\uc7a5\\ub974=\\uac10\\ub3c5\\uc6b0\\ub514 \\uc568\\ub7f0\", \"marker\": {\"color\": \"#FF6692\", \"symbol\": \"circle\"}, \"mode\": \"markers\", \"name\": \"\\uc7a5\\ub974=\\uac10\\ub3c5\\uc6b0\\ub514 \\uc568\\ub7f0\", \"showlegend\": true, \"type\": \"scatter\", \"x\": [\"\\ub808\\uc774\\ub2c8 \\ub370\\uc774 \\uc778 \\ub274\\uc695\"], \"xaxis\": \"x\", \"y\": [5], \"yaxis\": \"y\"}, {\"hoverlabel\": {\"namelength\": 0}, \"hovertemplate\": \"\\uc7a5\\ub974=\\ucf54\\ubbf8\\ub514<br>\\uc81c\\ubaa9=%{x}<br>\\ud3c9\\uc810=%{y}\", \"legendgroup\": \"\\uc7a5\\ub974=\\ucf54\\ubbf8\\ub514\", \"marker\": {\"color\": \"#B6E880\", \"symbol\": \"circle\"}, \"mode\": \"markers\", \"name\": \"\\uc7a5\\ub974=\\ucf54\\ubbf8\\ub514\", \"showlegend\": true, \"type\": \"scatter\", \"x\": [\"\\ud589\\ubcf5\\ud55c \\uc0ac\\uc804\", \"\\uace0\\ubd09\\uc218 \\uac10\\ub3c5 \\ub2e8\\ud3b8\\uc120\"], \"xaxis\": \"x\", \"y\": [8, 8], \"yaxis\": \"y\"}, {\"hoverlabel\": {\"namelength\": 0}, \"hovertemplate\": \"\\uc7a5\\ub974=\\ub2e4\\ud050\\uba58\\ud130\\ub9ac<br>\\uc81c\\ubaa9=%{x}<br>\\ud3c9\\uc810=%{y}\", \"legendgroup\": \"\\uc7a5\\ub974=\\ub2e4\\ud050\\uba58\\ud130\\ub9ac\", \"marker\": {\"color\": \"#FF97FF\", \"symbol\": \"circle\"}, \"mode\": \"markers\", \"name\": \"\\uc7a5\\ub974=\\ub2e4\\ud050\\uba58\\ud130\\ub9ac\", \"showlegend\": true, \"type\": \"scatter\", \"x\": [\"\\uc694\\uc694\\ud604\\uc0c1\", \"\\ubc25\\uc815\", \"\\uc6b8\\uc9c0\\ub9c8 \\ud1a4\\uc988 2 : \\uc288\\ud06c\\ub780 \\ubc14\\ubc14\"], \"xaxis\": \"x\", \"y\": [9, 9, 9], \"yaxis\": \"y\"}],\n",
              "                        {\"legend\": {\"tracegroupgap\": 0}, \"margin\": {\"t\": 60}, \"template\": {\"data\": {\"bar\": [{\"error_x\": {\"color\": \"#2a3f5f\"}, \"error_y\": {\"color\": \"#2a3f5f\"}, \"marker\": {\"line\": {\"color\": \"#E5ECF6\", \"width\": 0.5}}, \"type\": \"bar\"}], \"barpolar\": [{\"marker\": {\"line\": {\"color\": \"#E5ECF6\", \"width\": 0.5}}, \"type\": \"barpolar\"}], \"carpet\": [{\"aaxis\": {\"endlinecolor\": \"#2a3f5f\", \"gridcolor\": \"white\", \"linecolor\": \"white\", \"minorgridcolor\": \"white\", \"startlinecolor\": \"#2a3f5f\"}, \"baxis\": {\"endlinecolor\": \"#2a3f5f\", \"gridcolor\": \"white\", \"linecolor\": \"white\", \"minorgridcolor\": \"white\", \"startlinecolor\": \"#2a3f5f\"}, \"type\": \"carpet\"}], \"choropleth\": [{\"colorbar\": {\"outlinewidth\": 0, \"ticks\": \"\"}, \"type\": \"choropleth\"}], \"contour\": [{\"colorbar\": {\"outlinewidth\": 0, \"ticks\": \"\"}, \"colorscale\": [[0.0, \"#0d0887\"], [0.1111111111111111, \"#46039f\"], [0.2222222222222222, \"#7201a8\"], [0.3333333333333333, \"#9c179e\"], [0.4444444444444444, \"#bd3786\"], [0.5555555555555556, \"#d8576b\"], [0.6666666666666666, \"#ed7953\"], [0.7777777777777778, \"#fb9f3a\"], [0.8888888888888888, \"#fdca26\"], [1.0, \"#f0f921\"]], \"type\": \"contour\"}], \"contourcarpet\": [{\"colorbar\": {\"outlinewidth\": 0, \"ticks\": \"\"}, \"type\": \"contourcarpet\"}], \"heatmap\": [{\"colorbar\": {\"outlinewidth\": 0, \"ticks\": \"\"}, \"colorscale\": [[0.0, \"#0d0887\"], [0.1111111111111111, \"#46039f\"], [0.2222222222222222, \"#7201a8\"], [0.3333333333333333, \"#9c179e\"], [0.4444444444444444, \"#bd3786\"], [0.5555555555555556, \"#d8576b\"], [0.6666666666666666, \"#ed7953\"], [0.7777777777777778, \"#fb9f3a\"], [0.8888888888888888, \"#fdca26\"], [1.0, \"#f0f921\"]], \"type\": \"heatmap\"}], \"heatmapgl\": [{\"colorbar\": {\"outlinewidth\": 0, \"ticks\": \"\"}, \"colorscale\": [[0.0, \"#0d0887\"], [0.1111111111111111, \"#46039f\"], [0.2222222222222222, \"#7201a8\"], [0.3333333333333333, \"#9c179e\"], [0.4444444444444444, \"#bd3786\"], [0.5555555555555556, \"#d8576b\"], [0.6666666666666666, \"#ed7953\"], [0.7777777777777778, \"#fb9f3a\"], [0.8888888888888888, \"#fdca26\"], [1.0, \"#f0f921\"]], \"type\": \"heatmapgl\"}], \"histogram\": [{\"marker\": {\"colorbar\": {\"outlinewidth\": 0, \"ticks\": \"\"}}, \"type\": \"histogram\"}], \"histogram2d\": [{\"colorbar\": {\"outlinewidth\": 0, \"ticks\": \"\"}, \"colorscale\": [[0.0, \"#0d0887\"], [0.1111111111111111, \"#46039f\"], [0.2222222222222222, \"#7201a8\"], [0.3333333333333333, \"#9c179e\"], [0.4444444444444444, \"#bd3786\"], [0.5555555555555556, \"#d8576b\"], [0.6666666666666666, \"#ed7953\"], [0.7777777777777778, \"#fb9f3a\"], [0.8888888888888888, \"#fdca26\"], [1.0, \"#f0f921\"]], \"type\": \"histogram2d\"}], \"histogram2dcontour\": [{\"colorbar\": {\"outlinewidth\": 0, \"ticks\": \"\"}, \"colorscale\": [[0.0, \"#0d0887\"], [0.1111111111111111, \"#46039f\"], [0.2222222222222222, \"#7201a8\"], [0.3333333333333333, \"#9c179e\"], [0.4444444444444444, \"#bd3786\"], [0.5555555555555556, \"#d8576b\"], [0.6666666666666666, \"#ed7953\"], [0.7777777777777778, \"#fb9f3a\"], [0.8888888888888888, \"#fdca26\"], [1.0, \"#f0f921\"]], \"type\": \"histogram2dcontour\"}], \"mesh3d\": [{\"colorbar\": {\"outlinewidth\": 0, \"ticks\": \"\"}, \"type\": \"mesh3d\"}], \"parcoords\": [{\"line\": {\"colorbar\": {\"outlinewidth\": 0, \"ticks\": \"\"}}, \"type\": \"parcoords\"}], \"pie\": [{\"automargin\": true, \"type\": \"pie\"}], \"scatter\": [{\"marker\": {\"colorbar\": {\"outlinewidth\": 0, \"ticks\": \"\"}}, \"type\": \"scatter\"}], \"scatter3d\": [{\"line\": {\"colorbar\": {\"outlinewidth\": 0, \"ticks\": \"\"}}, \"marker\": {\"colorbar\": {\"outlinewidth\": 0, \"ticks\": \"\"}}, \"type\": \"scatter3d\"}], \"scattercarpet\": [{\"marker\": {\"colorbar\": {\"outlinewidth\": 0, \"ticks\": \"\"}}, \"type\": \"scattercarpet\"}], \"scattergeo\": [{\"marker\": {\"colorbar\": {\"outlinewidth\": 0, \"ticks\": \"\"}}, \"type\": \"scattergeo\"}], \"scattergl\": [{\"marker\": {\"colorbar\": {\"outlinewidth\": 0, \"ticks\": \"\"}}, \"type\": \"scattergl\"}], \"scattermapbox\": [{\"marker\": {\"colorbar\": {\"outlinewidth\": 0, \"ticks\": \"\"}}, \"type\": \"scattermapbox\"}], \"scatterpolar\": [{\"marker\": {\"colorbar\": {\"outlinewidth\": 0, \"ticks\": \"\"}}, \"type\": \"scatterpolar\"}], \"scatterpolargl\": [{\"marker\": {\"colorbar\": {\"outlinewidth\": 0, \"ticks\": \"\"}}, \"type\": \"scatterpolargl\"}], \"scatterternary\": [{\"marker\": {\"colorbar\": {\"outlinewidth\": 0, \"ticks\": \"\"}}, \"type\": \"scatterternary\"}], \"surface\": [{\"colorbar\": {\"outlinewidth\": 0, \"ticks\": \"\"}, \"colorscale\": [[0.0, \"#0d0887\"], [0.1111111111111111, \"#46039f\"], [0.2222222222222222, \"#7201a8\"], [0.3333333333333333, \"#9c179e\"], [0.4444444444444444, \"#bd3786\"], [0.5555555555555556, \"#d8576b\"], [0.6666666666666666, \"#ed7953\"], [0.7777777777777778, \"#fb9f3a\"], [0.8888888888888888, \"#fdca26\"], [1.0, \"#f0f921\"]], \"type\": \"surface\"}], \"table\": [{\"cells\": {\"fill\": {\"color\": \"#EBF0F8\"}, \"line\": {\"color\": \"white\"}}, \"header\": {\"fill\": {\"color\": \"#C8D4E3\"}, \"line\": {\"color\": \"white\"}}, \"type\": \"table\"}]}, \"layout\": {\"annotationdefaults\": {\"arrowcolor\": \"#2a3f5f\", \"arrowhead\": 0, \"arrowwidth\": 1}, \"coloraxis\": {\"colorbar\": {\"outlinewidth\": 0, \"ticks\": \"\"}}, \"colorscale\": {\"diverging\": [[0, \"#8e0152\"], [0.1, \"#c51b7d\"], [0.2, \"#de77ae\"], [0.3, \"#f1b6da\"], [0.4, \"#fde0ef\"], [0.5, \"#f7f7f7\"], [0.6, \"#e6f5d0\"], [0.7, \"#b8e186\"], [0.8, \"#7fbc41\"], [0.9, \"#4d9221\"], [1, \"#276419\"]], \"sequential\": [[0.0, \"#0d0887\"], [0.1111111111111111, \"#46039f\"], [0.2222222222222222, \"#7201a8\"], [0.3333333333333333, \"#9c179e\"], [0.4444444444444444, \"#bd3786\"], [0.5555555555555556, \"#d8576b\"], [0.6666666666666666, \"#ed7953\"], [0.7777777777777778, \"#fb9f3a\"], [0.8888888888888888, \"#fdca26\"], [1.0, \"#f0f921\"]], \"sequentialminus\": [[0.0, \"#0d0887\"], [0.1111111111111111, \"#46039f\"], [0.2222222222222222, \"#7201a8\"], [0.3333333333333333, \"#9c179e\"], [0.4444444444444444, \"#bd3786\"], [0.5555555555555556, \"#d8576b\"], [0.6666666666666666, \"#ed7953\"], [0.7777777777777778, \"#fb9f3a\"], [0.8888888888888888, \"#fdca26\"], [1.0, \"#f0f921\"]]}, \"colorway\": [\"#636efa\", \"#EF553B\", \"#00cc96\", \"#ab63fa\", \"#FFA15A\", \"#19d3f3\", \"#FF6692\", \"#B6E880\", \"#FF97FF\", \"#FECB52\"], \"font\": {\"color\": \"#2a3f5f\"}, \"geo\": {\"bgcolor\": \"white\", \"lakecolor\": \"white\", \"landcolor\": \"#E5ECF6\", \"showlakes\": true, \"showland\": true, \"subunitcolor\": \"white\"}, \"hoverlabel\": {\"align\": \"left\"}, \"hovermode\": \"closest\", \"mapbox\": {\"style\": \"light\"}, \"paper_bgcolor\": \"white\", \"plot_bgcolor\": \"#E5ECF6\", \"polar\": {\"angularaxis\": {\"gridcolor\": \"white\", \"linecolor\": \"white\", \"ticks\": \"\"}, \"bgcolor\": \"#E5ECF6\", \"radialaxis\": {\"gridcolor\": \"white\", \"linecolor\": \"white\", \"ticks\": \"\"}}, \"scene\": {\"xaxis\": {\"backgroundcolor\": \"#E5ECF6\", \"gridcolor\": \"white\", \"gridwidth\": 2, \"linecolor\": \"white\", \"showbackground\": true, \"ticks\": \"\", \"zerolinecolor\": \"white\"}, \"yaxis\": {\"backgroundcolor\": \"#E5ECF6\", \"gridcolor\": \"white\", \"gridwidth\": 2, \"linecolor\": \"white\", \"showbackground\": true, \"ticks\": \"\", \"zerolinecolor\": \"white\"}, \"zaxis\": {\"backgroundcolor\": \"#E5ECF6\", \"gridcolor\": \"white\", \"gridwidth\": 2, \"linecolor\": \"white\", \"showbackground\": true, \"ticks\": \"\", \"zerolinecolor\": \"white\"}}, \"shapedefaults\": {\"line\": {\"color\": \"#2a3f5f\"}}, \"ternary\": {\"aaxis\": {\"gridcolor\": \"white\", \"linecolor\": \"white\", \"ticks\": \"\"}, \"baxis\": {\"gridcolor\": \"white\", \"linecolor\": \"white\", \"ticks\": \"\"}, \"bgcolor\": \"#E5ECF6\", \"caxis\": {\"gridcolor\": \"white\", \"linecolor\": \"white\", \"ticks\": \"\"}}, \"title\": {\"x\": 0.05}, \"xaxis\": {\"automargin\": true, \"gridcolor\": \"white\", \"linecolor\": \"white\", \"ticks\": \"\", \"title\": {\"standoff\": 15}, \"zerolinecolor\": \"white\", \"zerolinewidth\": 2}, \"yaxis\": {\"automargin\": true, \"gridcolor\": \"white\", \"linecolor\": \"white\", \"ticks\": \"\", \"title\": {\"standoff\": 15}, \"zerolinecolor\": \"white\", \"zerolinewidth\": 2}}}, \"xaxis\": {\"anchor\": \"y\", \"domain\": [0.0, 1.0], \"title\": {\"text\": \"\\uc81c\\ubaa9\"}}, \"yaxis\": {\"anchor\": \"x\", \"domain\": [0.0, 1.0], \"title\": {\"text\": \"\\ud3c9\\uc810\"}}},\n",
              "                        {\"responsive\": true}\n",
              "                    ).then(function(){\n",
              "                            \n",
              "var gd = document.getElementById('c0b4469d-a1b9-4f5c-829c-114a0ac284be');\n",
              "var x = new MutationObserver(function (mutations, observer) {{\n",
              "        var display = window.getComputedStyle(gd).display;\n",
              "        if (!display || display === 'none') {{\n",
              "            console.log([gd, 'removed!']);\n",
              "            Plotly.purge(gd);\n",
              "            observer.disconnect();\n",
              "        }}\n",
              "}});\n",
              "\n",
              "// Listen for the removal of the full notebook cells\n",
              "var notebookContainer = gd.closest('#notebook-container');\n",
              "if (notebookContainer) {{\n",
              "    x.observe(notebookContainer, {childList: true});\n",
              "}}\n",
              "\n",
              "// Listen for the clearing of the current output cell\n",
              "var outputEl = gd.closest('.output');\n",
              "if (outputEl) {{\n",
              "    x.observe(outputEl, {childList: true});\n",
              "}}\n",
              "\n",
              "                        })\n",
              "                };\n",
              "                \n",
              "            </script>\n",
              "        </div>\n",
              "</body>\n",
              "</html>"
            ]
          },
          "metadata": {
            "tags": []
          }
        }
      ]
    },
    {
      "cell_type": "code",
      "metadata": {
        "colab": {
          "base_uri": "https://localhost:8080/",
          "height": 304
        },
        "id": "DNp0CyDZofDV",
        "outputId": "ada52979-34f2-4139-c616-606498dae605"
      },
      "source": [
        "df_score = df[df.평점 == 9]\n",
        "df_score.tail()"
      ],
      "execution_count": null,
      "outputs": [
        {
          "output_type": "execute_result",
          "data": {
            "text/html": [
              "<div>\n",
              "<style scoped>\n",
              "    .dataframe tbody tr th:only-of-type {\n",
              "        vertical-align: middle;\n",
              "    }\n",
              "\n",
              "    .dataframe tbody tr th {\n",
              "        vertical-align: top;\n",
              "    }\n",
              "\n",
              "    .dataframe thead th {\n",
              "        text-align: right;\n",
              "    }\n",
              "</style>\n",
              "<table border=\"1\" class=\"dataframe\">\n",
              "  <thead>\n",
              "    <tr style=\"text-align: right;\">\n",
              "      <th></th>\n",
              "      <th>Unnamed: 0</th>\n",
              "      <th>제목</th>\n",
              "      <th>평점</th>\n",
              "      <th>장르</th>\n",
              "      <th>줄거리</th>\n",
              "    </tr>\n",
              "  </thead>\n",
              "  <tbody>\n",
              "    <tr>\n",
              "      <th>54</th>\n",
              "      <td>65</td>\n",
              "      <td>밥정</td>\n",
              "      <td>9</td>\n",
              "      <td>다큐멘터리</td>\n",
              "      <td>잔디, 잡초, 이끼, 나뭇가지.. 자연을 재료 삼아 요리를 만드는 방랑식객 임지호 ...</td>\n",
              "    </tr>\n",
              "    <tr>\n",
              "      <th>58</th>\n",
              "      <td>69</td>\n",
              "      <td>소년시절의 너</td>\n",
              "      <td>9</td>\n",
              "      <td>액션</td>\n",
              "      <td>시험만 잘 치면 멋진 인생을 살 수 있다고 가르치는 세상에서기댈 곳 없이 세상에 내...</td>\n",
              "    </tr>\n",
              "    <tr>\n",
              "      <th>59</th>\n",
              "      <td>70</td>\n",
              "      <td>온워드: 단 하루의 기적</td>\n",
              "      <td>9</td>\n",
              "      <td>액션</td>\n",
              "      <td>마법이 사라진 세상에 살고 있는 취향과 성격 모두 정반대의 두 형제인철든 동생 ‘이...</td>\n",
              "    </tr>\n",
              "    <tr>\n",
              "      <th>63</th>\n",
              "      <td>74</td>\n",
              "      <td>기도의 힘</td>\n",
              "      <td>9</td>\n",
              "      <td>드라마</td>\n",
              "      <td>성공 가도를 달리고 있는 남편 ‘토니’, 사랑스러운 딸 ‘대니엘’과 함께남부럽지 않...</td>\n",
              "    </tr>\n",
              "    <tr>\n",
              "      <th>65</th>\n",
              "      <td>76</td>\n",
              "      <td>울지마 톤즈 2 : 슈크란 바바</td>\n",
              "      <td>9</td>\n",
              "      <td>다큐멘터리</td>\n",
              "      <td>가난과 전쟁으로 아무런 희망조차 없었던 수단 톤즈에서사제이자 의사, 교육자, 음악가...</td>\n",
              "    </tr>\n",
              "  </tbody>\n",
              "</table>\n",
              "</div>"
            ],
            "text/plain": [
              "    Unnamed: 0  ...                                                줄거리\n",
              "54          65  ...  잔디, 잡초, 이끼, 나뭇가지.. 자연을 재료 삼아 요리를 만드는 방랑식객 임지호 ...\n",
              "58          69  ...  시험만 잘 치면 멋진 인생을 살 수 있다고 가르치는 세상에서기댈 곳 없이 세상에 내...\n",
              "59          70  ...  마법이 사라진 세상에 살고 있는 취향과 성격 모두 정반대의 두 형제인철든 동생 ‘이...\n",
              "63          74  ...  성공 가도를 달리고 있는 남편 ‘토니’, 사랑스러운 딸 ‘대니엘’과 함께남부럽지 않...\n",
              "65          76  ...  가난과 전쟁으로 아무런 희망조차 없었던 수단 톤즈에서사제이자 의사, 교육자, 음악가...\n",
              "\n",
              "[5 rows x 5 columns]"
            ]
          },
          "metadata": {
            "tags": []
          },
          "execution_count": 9
        }
      ]
    },
    {
      "cell_type": "markdown",
      "metadata": {
        "id": "dfI3kcwEp9Rj"
      },
      "source": [
        "# 평점 9점인 영화 중 가장 큰 비율을 차지하고 있는 장르는?"
      ]
    },
    {
      "cell_type": "code",
      "metadata": {
        "colab": {
          "base_uri": "https://localhost:8080/",
          "height": 542
        },
        "id": "Mz-t4TNWp2EV",
        "outputId": "8af6b45d-af93-4d57-8cc1-f17fec58631d"
      },
      "source": [
        "fig = px.pie(df_score, values='평점', names='장르')\n",
        "fig.show()"
      ],
      "execution_count": null,
      "outputs": [
        {
          "output_type": "display_data",
          "data": {
            "text/html": [
              "<html>\n",
              "<head><meta charset=\"utf-8\" /></head>\n",
              "<body>\n",
              "    <div>\n",
              "            <script src=\"https://cdnjs.cloudflare.com/ajax/libs/mathjax/2.7.5/MathJax.js?config=TeX-AMS-MML_SVG\"></script><script type=\"text/javascript\">if (window.MathJax) {MathJax.Hub.Config({SVG: {font: \"STIX-Web\"}});}</script>\n",
              "                <script type=\"text/javascript\">window.PlotlyConfig = {MathJaxConfig: 'local'};</script>\n",
              "        <script src=\"https://cdn.plot.ly/plotly-latest.min.js\"></script>    \n",
              "            <div id=\"242af4c1-1c90-4244-a82c-6d29c43bfc52\" class=\"plotly-graph-div\" style=\"height:525px; width:100%;\"></div>\n",
              "            <script type=\"text/javascript\">\n",
              "                \n",
              "                    window.PLOTLYENV=window.PLOTLYENV || {};\n",
              "                    \n",
              "                if (document.getElementById(\"242af4c1-1c90-4244-a82c-6d29c43bfc52\")) {\n",
              "                    Plotly.newPlot(\n",
              "                        '242af4c1-1c90-4244-a82c-6d29c43bfc52',\n",
              "                        [{\"domain\": {\"x\": [0.0, 1.0], \"y\": [0.0, 1.0]}, \"hoverlabel\": {\"namelength\": 0}, \"hovertemplate\": \"\\uc7a5\\ub974=%{label}<br>\\ud3c9\\uc810=%{value}\", \"labels\": [\"\\uc560\\ub2c8\\uba54\\uc774\\uc158\", \"\\ub4dc\\ub77c\\ub9c8\", \"\\uc561\\uc158\", \"\\uc560\\ub2c8\\uba54\\uc774\\uc158\", \"\\uc561\\uc158\", \"\\ub4dc\\ub77c\\ub9c8\", \"\\uacf5\\uc5f0\\uc2e4\\ud669\", \"\\uc560\\ub2c8\\uba54\\uc774\\uc158\", \"\\uc561\\uc158\", \"\\uc560\\ub2c8\\uba54\\uc774\\uc158\", \"\\uc561\\uc158\", \"\\ub4dc\\ub77c\\ub9c8\", \"\\uc560\\ub2c8\\uba54\\uc774\\uc158\", \"\\uba5c\\ub85c\", \"\\uc560\\ub2c8\\uba54\\uc774\\uc158\", \"\\ub2e4\\ud050\\uba58\\ud130\\ub9ac\", \"\\uc560\\ub2c8\\uba54\\uc774\\uc158\", \"\\ub2e4\\ud050\\uba58\\ud130\\ub9ac\", \"\\uc561\\uc158\", \"\\uc561\\uc158\", \"\\ub4dc\\ub77c\\ub9c8\", \"\\ub2e4\\ud050\\uba58\\ud130\\ub9ac\"], \"legendgroup\": \"\", \"name\": \"\", \"showlegend\": true, \"type\": \"pie\", \"values\": [9, 9, 9, 9, 9, 9, 9, 9, 9, 9, 9, 9, 9, 9, 9, 9, 9, 9, 9, 9, 9, 9]}],\n",
              "                        {\"legend\": {\"tracegroupgap\": 0}, \"margin\": {\"t\": 60}, \"template\": {\"data\": {\"bar\": [{\"error_x\": {\"color\": \"#2a3f5f\"}, \"error_y\": {\"color\": \"#2a3f5f\"}, \"marker\": {\"line\": {\"color\": \"#E5ECF6\", \"width\": 0.5}}, \"type\": \"bar\"}], \"barpolar\": [{\"marker\": {\"line\": {\"color\": \"#E5ECF6\", \"width\": 0.5}}, \"type\": \"barpolar\"}], \"carpet\": [{\"aaxis\": {\"endlinecolor\": \"#2a3f5f\", \"gridcolor\": \"white\", \"linecolor\": \"white\", \"minorgridcolor\": \"white\", \"startlinecolor\": \"#2a3f5f\"}, \"baxis\": {\"endlinecolor\": \"#2a3f5f\", \"gridcolor\": \"white\", \"linecolor\": \"white\", \"minorgridcolor\": \"white\", \"startlinecolor\": \"#2a3f5f\"}, \"type\": \"carpet\"}], \"choropleth\": [{\"colorbar\": {\"outlinewidth\": 0, \"ticks\": \"\"}, \"type\": \"choropleth\"}], \"contour\": [{\"colorbar\": {\"outlinewidth\": 0, \"ticks\": \"\"}, \"colorscale\": [[0.0, \"#0d0887\"], [0.1111111111111111, \"#46039f\"], [0.2222222222222222, \"#7201a8\"], [0.3333333333333333, \"#9c179e\"], [0.4444444444444444, \"#bd3786\"], [0.5555555555555556, \"#d8576b\"], [0.6666666666666666, \"#ed7953\"], [0.7777777777777778, \"#fb9f3a\"], [0.8888888888888888, \"#fdca26\"], [1.0, \"#f0f921\"]], \"type\": \"contour\"}], \"contourcarpet\": [{\"colorbar\": {\"outlinewidth\": 0, \"ticks\": \"\"}, \"type\": \"contourcarpet\"}], \"heatmap\": [{\"colorbar\": {\"outlinewidth\": 0, \"ticks\": \"\"}, \"colorscale\": [[0.0, \"#0d0887\"], [0.1111111111111111, \"#46039f\"], [0.2222222222222222, \"#7201a8\"], [0.3333333333333333, \"#9c179e\"], [0.4444444444444444, \"#bd3786\"], [0.5555555555555556, \"#d8576b\"], [0.6666666666666666, \"#ed7953\"], [0.7777777777777778, \"#fb9f3a\"], [0.8888888888888888, \"#fdca26\"], [1.0, \"#f0f921\"]], \"type\": \"heatmap\"}], \"heatmapgl\": [{\"colorbar\": {\"outlinewidth\": 0, \"ticks\": \"\"}, \"colorscale\": [[0.0, \"#0d0887\"], [0.1111111111111111, \"#46039f\"], [0.2222222222222222, \"#7201a8\"], [0.3333333333333333, \"#9c179e\"], [0.4444444444444444, \"#bd3786\"], [0.5555555555555556, \"#d8576b\"], [0.6666666666666666, \"#ed7953\"], [0.7777777777777778, \"#fb9f3a\"], [0.8888888888888888, \"#fdca26\"], [1.0, \"#f0f921\"]], \"type\": \"heatmapgl\"}], \"histogram\": [{\"marker\": {\"colorbar\": {\"outlinewidth\": 0, \"ticks\": \"\"}}, \"type\": \"histogram\"}], \"histogram2d\": [{\"colorbar\": {\"outlinewidth\": 0, \"ticks\": \"\"}, \"colorscale\": [[0.0, \"#0d0887\"], [0.1111111111111111, \"#46039f\"], [0.2222222222222222, \"#7201a8\"], [0.3333333333333333, \"#9c179e\"], [0.4444444444444444, \"#bd3786\"], [0.5555555555555556, \"#d8576b\"], [0.6666666666666666, \"#ed7953\"], [0.7777777777777778, \"#fb9f3a\"], [0.8888888888888888, \"#fdca26\"], [1.0, \"#f0f921\"]], \"type\": \"histogram2d\"}], \"histogram2dcontour\": [{\"colorbar\": {\"outlinewidth\": 0, \"ticks\": \"\"}, \"colorscale\": [[0.0, \"#0d0887\"], [0.1111111111111111, \"#46039f\"], [0.2222222222222222, \"#7201a8\"], [0.3333333333333333, \"#9c179e\"], [0.4444444444444444, \"#bd3786\"], [0.5555555555555556, \"#d8576b\"], [0.6666666666666666, \"#ed7953\"], [0.7777777777777778, \"#fb9f3a\"], [0.8888888888888888, \"#fdca26\"], [1.0, \"#f0f921\"]], \"type\": \"histogram2dcontour\"}], \"mesh3d\": [{\"colorbar\": {\"outlinewidth\": 0, \"ticks\": \"\"}, \"type\": \"mesh3d\"}], \"parcoords\": [{\"line\": {\"colorbar\": {\"outlinewidth\": 0, \"ticks\": \"\"}}, \"type\": \"parcoords\"}], \"pie\": [{\"automargin\": true, \"type\": \"pie\"}], \"scatter\": [{\"marker\": {\"colorbar\": {\"outlinewidth\": 0, \"ticks\": \"\"}}, \"type\": \"scatter\"}], \"scatter3d\": [{\"line\": {\"colorbar\": {\"outlinewidth\": 0, \"ticks\": \"\"}}, \"marker\": {\"colorbar\": {\"outlinewidth\": 0, \"ticks\": \"\"}}, \"type\": \"scatter3d\"}], \"scattercarpet\": [{\"marker\": {\"colorbar\": {\"outlinewidth\": 0, \"ticks\": \"\"}}, \"type\": \"scattercarpet\"}], \"scattergeo\": [{\"marker\": {\"colorbar\": {\"outlinewidth\": 0, \"ticks\": \"\"}}, \"type\": \"scattergeo\"}], \"scattergl\": [{\"marker\": {\"colorbar\": {\"outlinewidth\": 0, \"ticks\": \"\"}}, \"type\": \"scattergl\"}], \"scattermapbox\": [{\"marker\": {\"colorbar\": {\"outlinewidth\": 0, \"ticks\": \"\"}}, \"type\": \"scattermapbox\"}], \"scatterpolar\": [{\"marker\": {\"colorbar\": {\"outlinewidth\": 0, \"ticks\": \"\"}}, \"type\": \"scatterpolar\"}], \"scatterpolargl\": [{\"marker\": {\"colorbar\": {\"outlinewidth\": 0, \"ticks\": \"\"}}, \"type\": \"scatterpolargl\"}], \"scatterternary\": [{\"marker\": {\"colorbar\": {\"outlinewidth\": 0, \"ticks\": \"\"}}, \"type\": \"scatterternary\"}], \"surface\": [{\"colorbar\": {\"outlinewidth\": 0, \"ticks\": \"\"}, \"colorscale\": [[0.0, \"#0d0887\"], [0.1111111111111111, \"#46039f\"], [0.2222222222222222, \"#7201a8\"], [0.3333333333333333, \"#9c179e\"], [0.4444444444444444, \"#bd3786\"], [0.5555555555555556, \"#d8576b\"], [0.6666666666666666, \"#ed7953\"], [0.7777777777777778, \"#fb9f3a\"], [0.8888888888888888, \"#fdca26\"], [1.0, \"#f0f921\"]], \"type\": \"surface\"}], \"table\": [{\"cells\": {\"fill\": {\"color\": \"#EBF0F8\"}, \"line\": {\"color\": \"white\"}}, \"header\": {\"fill\": {\"color\": \"#C8D4E3\"}, \"line\": {\"color\": \"white\"}}, \"type\": \"table\"}]}, \"layout\": {\"annotationdefaults\": {\"arrowcolor\": \"#2a3f5f\", \"arrowhead\": 0, \"arrowwidth\": 1}, \"coloraxis\": {\"colorbar\": {\"outlinewidth\": 0, \"ticks\": \"\"}}, \"colorscale\": {\"diverging\": [[0, \"#8e0152\"], [0.1, \"#c51b7d\"], [0.2, \"#de77ae\"], [0.3, \"#f1b6da\"], [0.4, \"#fde0ef\"], [0.5, \"#f7f7f7\"], [0.6, \"#e6f5d0\"], [0.7, \"#b8e186\"], [0.8, \"#7fbc41\"], [0.9, \"#4d9221\"], [1, \"#276419\"]], \"sequential\": [[0.0, \"#0d0887\"], [0.1111111111111111, \"#46039f\"], [0.2222222222222222, \"#7201a8\"], [0.3333333333333333, \"#9c179e\"], [0.4444444444444444, \"#bd3786\"], [0.5555555555555556, \"#d8576b\"], [0.6666666666666666, \"#ed7953\"], [0.7777777777777778, \"#fb9f3a\"], [0.8888888888888888, \"#fdca26\"], [1.0, \"#f0f921\"]], \"sequentialminus\": [[0.0, \"#0d0887\"], [0.1111111111111111, \"#46039f\"], [0.2222222222222222, \"#7201a8\"], [0.3333333333333333, \"#9c179e\"], [0.4444444444444444, \"#bd3786\"], [0.5555555555555556, \"#d8576b\"], [0.6666666666666666, \"#ed7953\"], [0.7777777777777778, \"#fb9f3a\"], [0.8888888888888888, \"#fdca26\"], [1.0, \"#f0f921\"]]}, \"colorway\": [\"#636efa\", \"#EF553B\", \"#00cc96\", \"#ab63fa\", \"#FFA15A\", \"#19d3f3\", \"#FF6692\", \"#B6E880\", \"#FF97FF\", \"#FECB52\"], \"font\": {\"color\": \"#2a3f5f\"}, \"geo\": {\"bgcolor\": \"white\", \"lakecolor\": \"white\", \"landcolor\": \"#E5ECF6\", \"showlakes\": true, \"showland\": true, \"subunitcolor\": \"white\"}, \"hoverlabel\": {\"align\": \"left\"}, \"hovermode\": \"closest\", \"mapbox\": {\"style\": \"light\"}, \"paper_bgcolor\": \"white\", \"plot_bgcolor\": \"#E5ECF6\", \"polar\": {\"angularaxis\": {\"gridcolor\": \"white\", \"linecolor\": \"white\", \"ticks\": \"\"}, \"bgcolor\": \"#E5ECF6\", \"radialaxis\": {\"gridcolor\": \"white\", \"linecolor\": \"white\", \"ticks\": \"\"}}, \"scene\": {\"xaxis\": {\"backgroundcolor\": \"#E5ECF6\", \"gridcolor\": \"white\", \"gridwidth\": 2, \"linecolor\": \"white\", \"showbackground\": true, \"ticks\": \"\", \"zerolinecolor\": \"white\"}, \"yaxis\": {\"backgroundcolor\": \"#E5ECF6\", \"gridcolor\": \"white\", \"gridwidth\": 2, \"linecolor\": \"white\", \"showbackground\": true, \"ticks\": \"\", \"zerolinecolor\": \"white\"}, \"zaxis\": {\"backgroundcolor\": \"#E5ECF6\", \"gridcolor\": \"white\", \"gridwidth\": 2, \"linecolor\": \"white\", \"showbackground\": true, \"ticks\": \"\", \"zerolinecolor\": \"white\"}}, \"shapedefaults\": {\"line\": {\"color\": \"#2a3f5f\"}}, \"ternary\": {\"aaxis\": {\"gridcolor\": \"white\", \"linecolor\": \"white\", \"ticks\": \"\"}, \"baxis\": {\"gridcolor\": \"white\", \"linecolor\": \"white\", \"ticks\": \"\"}, \"bgcolor\": \"#E5ECF6\", \"caxis\": {\"gridcolor\": \"white\", \"linecolor\": \"white\", \"ticks\": \"\"}}, \"title\": {\"x\": 0.05}, \"xaxis\": {\"automargin\": true, \"gridcolor\": \"white\", \"linecolor\": \"white\", \"ticks\": \"\", \"title\": {\"standoff\": 15}, \"zerolinecolor\": \"white\", \"zerolinewidth\": 2}, \"yaxis\": {\"automargin\": true, \"gridcolor\": \"white\", \"linecolor\": \"white\", \"ticks\": \"\", \"title\": {\"standoff\": 15}, \"zerolinecolor\": \"white\", \"zerolinewidth\": 2}}}},\n",
              "                        {\"responsive\": true}\n",
              "                    ).then(function(){\n",
              "                            \n",
              "var gd = document.getElementById('242af4c1-1c90-4244-a82c-6d29c43bfc52');\n",
              "var x = new MutationObserver(function (mutations, observer) {{\n",
              "        var display = window.getComputedStyle(gd).display;\n",
              "        if (!display || display === 'none') {{\n",
              "            console.log([gd, 'removed!']);\n",
              "            Plotly.purge(gd);\n",
              "            observer.disconnect();\n",
              "        }}\n",
              "}});\n",
              "\n",
              "// Listen for the removal of the full notebook cells\n",
              "var notebookContainer = gd.closest('#notebook-container');\n",
              "if (notebookContainer) {{\n",
              "    x.observe(notebookContainer, {childList: true});\n",
              "}}\n",
              "\n",
              "// Listen for the clearing of the current output cell\n",
              "var outputEl = gd.closest('.output');\n",
              "if (outputEl) {{\n",
              "    x.observe(outputEl, {childList: true});\n",
              "}}\n",
              "\n",
              "                        })\n",
              "                };\n",
              "                \n",
              "            </script>\n",
              "        </div>\n",
              "</body>\n",
              "</html>"
            ]
          },
          "metadata": {
            "tags": []
          }
        }
      ]
    },
    {
      "cell_type": "markdown",
      "metadata": {
        "id": "GIXFCFgKqmud"
      },
      "source": [
        "# 일간 top100 시각화"
      ]
    },
    {
      "cell_type": "code",
      "metadata": {
        "colab": {
          "base_uri": "https://localhost:8080/"
        },
        "id": "YrMRvyseqOYL",
        "outputId": "3530e3f7-1cf9-4cc2-bedc-fa289afd6b66"
      },
      "source": [
        "df_D = pd.read_csv('/content/movie_my_data61_20210623일간.csv')\n",
        "df_D.info()"
      ],
      "execution_count": null,
      "outputs": [
        {
          "output_type": "stream",
          "text": [
            "<class 'pandas.core.frame.DataFrame'>\n",
            "RangeIndex: 61 entries, 0 to 60\n",
            "Data columns (total 5 columns):\n",
            " #   Column      Non-Null Count  Dtype \n",
            "---  ------      --------------  ----- \n",
            " 0   Unnamed: 0  61 non-null     int64 \n",
            " 1   제목          61 non-null     object\n",
            " 2   평점          61 non-null     int64 \n",
            " 3   장르          61 non-null     object\n",
            " 4   줄거리         61 non-null     object\n",
            "dtypes: int64(2), object(3)\n",
            "memory usage: 2.5+ KB\n"
          ],
          "name": "stdout"
        }
      ]
    },
    {
      "cell_type": "code",
      "metadata": {
        "colab": {
          "base_uri": "https://localhost:8080/",
          "height": 542
        },
        "id": "fseUuaj-rEEN",
        "outputId": "e264f8ec-2211-4492-a385-45e8b6f7a89e"
      },
      "source": [
        "fig = px.bar(df_D, x='제목', y='평점', color='장르')\n",
        "fig.show()"
      ],
      "execution_count": null,
      "outputs": [
        {
          "output_type": "display_data",
          "data": {
            "text/html": [
              "<html>\n",
              "<head><meta charset=\"utf-8\" /></head>\n",
              "<body>\n",
              "    <div>\n",
              "            <script src=\"https://cdnjs.cloudflare.com/ajax/libs/mathjax/2.7.5/MathJax.js?config=TeX-AMS-MML_SVG\"></script><script type=\"text/javascript\">if (window.MathJax) {MathJax.Hub.Config({SVG: {font: \"STIX-Web\"}});}</script>\n",
              "                <script type=\"text/javascript\">window.PlotlyConfig = {MathJaxConfig: 'local'};</script>\n",
              "        <script src=\"https://cdn.plot.ly/plotly-latest.min.js\"></script>    \n",
              "            <div id=\"260810f7-8f98-481d-bb03-f644297fcfc9\" class=\"plotly-graph-div\" style=\"height:525px; width:100%;\"></div>\n",
              "            <script type=\"text/javascript\">\n",
              "                \n",
              "                    window.PLOTLYENV=window.PLOTLYENV || {};\n",
              "                    \n",
              "                if (document.getElementById(\"260810f7-8f98-481d-bb03-f644297fcfc9\")) {\n",
              "                    Plotly.newPlot(\n",
              "                        '260810f7-8f98-481d-bb03-f644297fcfc9',\n",
              "                        [{\"alignmentgroup\": \"True\", \"hoverlabel\": {\"namelength\": 0}, \"hovertemplate\": \"\\uc7a5\\ub974=\\uc560\\ub2c8\\uba54\\uc774\\uc158<br>\\uc81c\\ubaa9=%{x}<br>\\ud3c9\\uc810=%{y}\", \"legendgroup\": \"\\uc7a5\\ub974=\\uc560\\ub2c8\\uba54\\uc774\\uc158\", \"marker\": {\"color\": \"#636efa\"}, \"name\": \"\\uc7a5\\ub974=\\uc560\\ub2c8\\uba54\\uc774\\uc158\", \"offsetgroup\": \"\\uc7a5\\ub974=\\uc560\\ub2c8\\uba54\\uc774\\uc158\", \"orientation\": \"v\", \"showlegend\": true, \"textposition\": \"auto\", \"type\": \"bar\", \"x\": [\"\\uadf9\\uc7a5\\ud310 \\uadc0\\uba78\\uc758 \\uce7c\\ub0a0: \\ubb34\\ud55c\\uc5f4\\ucc28\\ud3b8\", \"\\uc18c\\uc6b8\", \"\\ub77c\\uc57c\\uc640 \\ub9c8\\uc9c0\\ub9c9 \\ub4dc\\ub798\\uace4\", \"\\ub098\\uc758 \\ud788\\uc5b4\\ub85c \\uc544\\uce74\\ub370\\ubbf8\\uc544 \\ub354 \\ubb34\\ube44: \\ud788\\uc5b4\\ub85c\\uc988 \\ub77c\\uc774\\uc9d5\"], \"xaxis\": \"x\", \"y\": [9, 9, 9, 0], \"yaxis\": \"y\"}, {\"alignmentgroup\": \"True\", \"hoverlabel\": {\"namelength\": 0}, \"hovertemplate\": \"\\uc7a5\\ub974=\\uacf5\\ud3ec/\\uc2a4\\ub9b4\\ub7ec<br>\\uc81c\\ubaa9=%{x}<br>\\ud3c9\\uc810=%{y}\", \"legendgroup\": \"\\uc7a5\\ub974=\\uacf5\\ud3ec/\\uc2a4\\ub9b4\\ub7ec\", \"marker\": {\"color\": \"#EF553B\"}, \"name\": \"\\uc7a5\\ub974=\\uacf5\\ud3ec/\\uc2a4\\ub9b4\\ub7ec\", \"offsetgroup\": \"\\uc7a5\\ub974=\\uacf5\\ud3ec/\\uc2a4\\ub9b4\\ub7ec\", \"orientation\": \"v\", \"showlegend\": true, \"textposition\": \"auto\", \"type\": \"bar\", \"x\": [\"\\ucf70\\uc774\\uc5b4\\ud2b8 \\ud50c\\ub808\\uc774\\uc2a4\", \"\\ub354 \\uc2a4\\ud30c\\uc774\", \"\\uadf8\\uac83: \\ub450 \\ubc88\\uc9f8 \\uc774\\uc57c\\uae30\"], \"xaxis\": \"x\", \"y\": [7, 8, 6], \"yaxis\": \"y\"}, {\"alignmentgroup\": \"True\", \"hoverlabel\": {\"namelength\": 0}, \"hovertemplate\": \"\\uc7a5\\ub974=\\uc561\\uc158<br>\\uc81c\\ubaa9=%{x}<br>\\ud3c9\\uc810=%{y}\", \"legendgroup\": \"\\uc7a5\\ub974=\\uc561\\uc158\", \"marker\": {\"color\": \"#00cc96\"}, \"name\": \"\\uc7a5\\ub974=\\uc561\\uc158\", \"offsetgroup\": \"\\uc7a5\\ub974=\\uc561\\uc158\", \"orientation\": \"v\", \"showlegend\": true, \"textposition\": \"auto\", \"type\": \"bar\", \"x\": [\"\\ud0ac\\ub7ec\\uc758 \\ubcf4\\ub514\\uac00\\ub4dc\", \"\\ud30c\\uc774\\ud504\\ub77c\\uc778\", \"\\ud06c\\ub8e8\\uc988 \\ud328\\ubc00\\ub9ac: \\ub274 \\uc5d0\\uc774\\uc9c0\", \"\\ub178\\ubc14\\ub514 \", \"\\uc5b4\\ubca4\\uc838\\uc2a4: \\uc5d4\\ub4dc\\uac8c\\uc784\", \"\\ud5dd\\uac70\\uac8c\\uc784 : \\ub354 \\ud30c\\uc774\\ub110\", \"\\uace0\\uc9c8\\ub77c VS. \\ucf69\", \"\\ud14c\\ub137\", \"\\uc5b4\\ubca4\\uc838\\uc2a4: \\uc778\\ud53c\\ub2c8\\ud2f0 \\uc6cc\", \"\\ubc14\\ub78c\\uc758 \\uac80\\uc2ec : \\uad50\\ud1a0 \\ub300\\ud654\\uc7ac\\ud3b8\", \"\\ucf54\\ucf54\", \"\\uc7ad \\uc2a4\\ub098\\uc774\\ub354\\uc758 \\uc800\\uc2a4\\ud2f0\\uc2a4 \\ub9ac\\uadf8\", \"\\ubd84\\ub178\\uc758 \\uc9c8\\uc8fc: \\ub354 \\uc138\\ube10\", \"\\ud0b9\\ub364 \\uc624\\ube0c \\ud5e4\\ube10\", \"\\ud5dd\\uac70\\uac8c\\uc784:\\ubaa8\\ud0b9\\uc81c\\uc774\", \"\\ud0dc\\uadf9\\uae30 \\ud718\\ub0a0\\ub9ac\\uba70\", \"\\ub2e4\\ub9cc \\uc545\\uc5d0\\uc11c \\uad6c\\ud558\\uc18c\\uc11c\", \"\\ubd84\\ub178\\uc758 \\uc9c8\\uc8fc: \\ud649\\uc2a4&\\uc1fc\", \"\\uc544\\uc77c\\ub77c\", \"\\ud574\\ub9ac \\ud3ec\\ud130\\uc640 \\ub9c8\\ubc95\\uc0ac\\uc758 \\ub3cc\", \"\\ub3c4\\uad74\", \"\\uc54c\\ub77c\\ub518\", \"\\ubca0\\ub188\", \"\\uc18c\\ub144\\uc2dc\\uc808\\uc758 \\ub108\", \"\\ub808\\ub514 \\ud50c\\ub808\\uc774\\uc5b4 \\uc6d0\", \"\\uc774\\ud0dc\\uc6d0 \\uc0b4\\uc778\\uc0ac\\uac74\", \"\\uaca8\\uc6b8\\uc655\\uad6d 2\", \"\\ucea1\\ud2f4 \\ub9c8\\ube14\", \"\\ub0b4\\uac00 \\uc8fd\\uae30\\ub97c \\ubc14\\ub77c\\ub294 \\uc790\\ub4e4\"], \"xaxis\": \"x\", \"y\": [8, 6, 9, 8, 9, 7, 8, 8, 8, 8, 9, 0, 9, 8, 7, 9, 7, 7, 9, 9, 7, 9, 7, 9, 8, 5, 8, 6, 7], \"yaxis\": \"y\"}, {\"alignmentgroup\": \"True\", \"hoverlabel\": {\"namelength\": 0}, \"hovertemplate\": \"\\uc7a5\\ub974=\\ub4dc\\ub77c\\ub9c8<br>\\uc81c\\ubaa9=%{x}<br>\\ud3c9\\uc810=%{y}\", \"legendgroup\": \"\\uc7a5\\ub974=\\ub4dc\\ub77c\\ub9c8\", \"marker\": {\"color\": \"#ab63fa\"}, \"name\": \"\\uc7a5\\ub974=\\ub4dc\\ub77c\\ub9c8\", \"offsetgroup\": \"\\uc7a5\\ub974=\\ub4dc\\ub77c\\ub9c8\", \"orientation\": \"v\", \"showlegend\": true, \"textposition\": \"auto\", \"type\": \"bar\", \"x\": [\"\\ud06c\\ub8e8\\uc5d8\\ub77c\", \"\\ubbf8\\ub098\\ub9ac\", \"\\ub77c\\ub77c\\ub79c\\ub4dc\", \"\\uc870\\ucee4\", \"\\ub178\\ub9e4\\ub4dc\\ub79c\\ub4dc\", \"\\uc790\\uc0b0\\uc5b4\\ubcf4\", \"\\uace1\\uc131(\\u54ed\\u8072)\", \"\\ub178\\ud2b8\\ubd81\", \"\\ub108\\uc758 \\uc774\\ub984\\uc740.\", \"1987\", \"\\uc704\\ub300\\ud55c \\uc1fc\\ub9e8\", \"\\uc5f0\\ud3c9\\ud574\\uc804\", \"\\uadf8\\ub9b0 \\ubd81\", \"\\uc2dc\\uac04\\uc744 \\ub2ec\\ub9ac\\ub294 \\uc18c\\ub140\", \"\\uc2a4\\ud0c0 \\uc774\\uc988 \\ubcf8\", \"\\uc6d0\\ub354\", \"\\uc560\\ud504\\ud130\", \"\\ub9ac\\ud2c0 \\ud3ec\\ub808\\uc2a4\\ud2b8\"], \"xaxis\": \"x\", \"y\": [9, 7, 8, 8, 8, 9, 7, 9, 8, 9, 9, 9, 9, 9, 9, 9, 7, 8], \"yaxis\": \"y\"}, {\"alignmentgroup\": \"True\", \"hoverlabel\": {\"namelength\": 0}, \"hovertemplate\": \"\\uc7a5\\ub974=\\ucf54\\ubbf8\\ub514<br>\\uc81c\\ubaa9=%{x}<br>\\ud3c9\\uc810=%{y}\", \"legendgroup\": \"\\uc7a5\\ub974=\\ucf54\\ubbf8\\ub514\", \"marker\": {\"color\": \"#FFA15A\"}, \"name\": \"\\uc7a5\\ub974=\\ucf54\\ubbf8\\ub514\", \"offsetgroup\": \"\\uc7a5\\ub974=\\ucf54\\ubbf8\\ub514\", \"orientation\": \"v\", \"showlegend\": true, \"textposition\": \"auto\", \"type\": \"bar\", \"x\": [\"500\\uc77c\\uc758 \\uc378\\uba38\", \"\\uc778\\uc0ac\\uc774\\ub4dc \\uc544\\uc6c3\", \"\\ube44\\uae34 \\uc5b4\\uac8c\\uc778\", \"\\ub0b4\\uac00 \\ub110 \\uc0ac\\ub791\\ud560 \\uc218 \\uc5c6\\ub294 10\\uac00\\uc9c0 \\uc774\\uc720\"], \"xaxis\": \"x\", \"y\": [8, 9, 9, 9], \"yaxis\": \"y\"}, {\"alignmentgroup\": \"True\", \"hoverlabel\": {\"namelength\": 0}, \"hovertemplate\": \"\\uc7a5\\ub974=\\uba5c\\ub85c<br>\\uc81c\\ubaa9=%{x}<br>\\ud3c9\\uc810=%{y}\", \"legendgroup\": \"\\uc7a5\\ub974=\\uba5c\\ub85c\", \"marker\": {\"color\": \"#19d3f3\"}, \"name\": \"\\uc7a5\\ub974=\\uba5c\\ub85c\", \"offsetgroup\": \"\\uc7a5\\ub974=\\uba5c\\ub85c\", \"orientation\": \"v\", \"showlegend\": true, \"textposition\": \"auto\", \"type\": \"bar\", \"x\": [\"\\uc560\\ud504\\ud130: \\uadf8 \\ud6c4\"], \"xaxis\": \"x\", \"y\": [8], \"yaxis\": \"y\"}, {\"alignmentgroup\": \"True\", \"hoverlabel\": {\"namelength\": 0}, \"hovertemplate\": \"\\uc7a5\\ub974=\\uacf5\\uc5f0\\uc2e4\\ud669<br>\\uc81c\\ubaa9=%{x}<br>\\ud3c9\\uc810=%{y}\", \"legendgroup\": \"\\uc7a5\\ub974=\\uacf5\\uc5f0\\uc2e4\\ud669\", \"marker\": {\"color\": \"#FF6692\"}, \"name\": \"\\uc7a5\\ub974=\\uacf5\\uc5f0\\uc2e4\\ud669\", \"offsetgroup\": \"\\uc7a5\\ub974=\\uacf5\\uc5f0\\uc2e4\\ud669\", \"orientation\": \"v\", \"showlegend\": true, \"textposition\": \"auto\", \"type\": \"bar\", \"x\": [\"\\uc544\\uc774\\uc988 \\uc628 \\ubbf8 : \\ub354 \\ubb34\\ube44\"], \"xaxis\": \"x\", \"y\": [9], \"yaxis\": \"y\"}, {\"alignmentgroup\": \"True\", \"hoverlabel\": {\"namelength\": 0}, \"hovertemplate\": \"\\uc7a5\\ub974=\\ub2e4\\ud050\\uba58\\ud130\\ub9ac<br>\\uc81c\\ubaa9=%{x}<br>\\ud3c9\\uc810=%{y}\", \"legendgroup\": \"\\uc7a5\\ub974=\\ub2e4\\ud050\\uba58\\ud130\\ub9ac\", \"marker\": {\"color\": \"#B6E880\"}, \"name\": \"\\uc7a5\\ub974=\\ub2e4\\ud050\\uba58\\ud130\\ub9ac\", \"offsetgroup\": \"\\uc7a5\\ub974=\\ub2e4\\ud050\\uba58\\ud130\\ub9ac\", \"orientation\": \"v\", \"showlegend\": true, \"textposition\": \"auto\", \"type\": \"bar\", \"x\": [\"\\ubc25\\uc815\"], \"xaxis\": \"x\", \"y\": [9], \"yaxis\": \"y\"}],\n",
              "                        {\"barmode\": \"relative\", \"legend\": {\"tracegroupgap\": 0}, \"margin\": {\"t\": 60}, \"template\": {\"data\": {\"bar\": [{\"error_x\": {\"color\": \"#2a3f5f\"}, \"error_y\": {\"color\": \"#2a3f5f\"}, \"marker\": {\"line\": {\"color\": \"#E5ECF6\", \"width\": 0.5}}, \"type\": \"bar\"}], \"barpolar\": [{\"marker\": {\"line\": {\"color\": \"#E5ECF6\", \"width\": 0.5}}, \"type\": \"barpolar\"}], \"carpet\": [{\"aaxis\": {\"endlinecolor\": \"#2a3f5f\", \"gridcolor\": \"white\", \"linecolor\": \"white\", \"minorgridcolor\": \"white\", \"startlinecolor\": \"#2a3f5f\"}, \"baxis\": {\"endlinecolor\": \"#2a3f5f\", \"gridcolor\": \"white\", \"linecolor\": \"white\", \"minorgridcolor\": \"white\", \"startlinecolor\": \"#2a3f5f\"}, \"type\": \"carpet\"}], \"choropleth\": [{\"colorbar\": {\"outlinewidth\": 0, \"ticks\": \"\"}, \"type\": \"choropleth\"}], \"contour\": [{\"colorbar\": {\"outlinewidth\": 0, \"ticks\": \"\"}, \"colorscale\": [[0.0, \"#0d0887\"], [0.1111111111111111, \"#46039f\"], [0.2222222222222222, \"#7201a8\"], [0.3333333333333333, \"#9c179e\"], [0.4444444444444444, \"#bd3786\"], [0.5555555555555556, \"#d8576b\"], [0.6666666666666666, \"#ed7953\"], [0.7777777777777778, \"#fb9f3a\"], [0.8888888888888888, \"#fdca26\"], [1.0, \"#f0f921\"]], \"type\": \"contour\"}], \"contourcarpet\": [{\"colorbar\": {\"outlinewidth\": 0, \"ticks\": \"\"}, \"type\": \"contourcarpet\"}], \"heatmap\": [{\"colorbar\": {\"outlinewidth\": 0, \"ticks\": \"\"}, \"colorscale\": [[0.0, \"#0d0887\"], [0.1111111111111111, \"#46039f\"], [0.2222222222222222, \"#7201a8\"], [0.3333333333333333, \"#9c179e\"], [0.4444444444444444, \"#bd3786\"], [0.5555555555555556, \"#d8576b\"], [0.6666666666666666, \"#ed7953\"], [0.7777777777777778, \"#fb9f3a\"], [0.8888888888888888, \"#fdca26\"], [1.0, \"#f0f921\"]], \"type\": \"heatmap\"}], \"heatmapgl\": [{\"colorbar\": {\"outlinewidth\": 0, \"ticks\": \"\"}, \"colorscale\": [[0.0, \"#0d0887\"], [0.1111111111111111, \"#46039f\"], [0.2222222222222222, \"#7201a8\"], [0.3333333333333333, \"#9c179e\"], [0.4444444444444444, \"#bd3786\"], [0.5555555555555556, \"#d8576b\"], [0.6666666666666666, \"#ed7953\"], [0.7777777777777778, \"#fb9f3a\"], [0.8888888888888888, \"#fdca26\"], [1.0, \"#f0f921\"]], \"type\": \"heatmapgl\"}], \"histogram\": [{\"marker\": {\"colorbar\": {\"outlinewidth\": 0, \"ticks\": \"\"}}, \"type\": \"histogram\"}], \"histogram2d\": [{\"colorbar\": {\"outlinewidth\": 0, \"ticks\": \"\"}, \"colorscale\": [[0.0, \"#0d0887\"], [0.1111111111111111, \"#46039f\"], [0.2222222222222222, \"#7201a8\"], [0.3333333333333333, \"#9c179e\"], [0.4444444444444444, \"#bd3786\"], [0.5555555555555556, \"#d8576b\"], [0.6666666666666666, \"#ed7953\"], [0.7777777777777778, \"#fb9f3a\"], [0.8888888888888888, \"#fdca26\"], [1.0, \"#f0f921\"]], \"type\": \"histogram2d\"}], \"histogram2dcontour\": [{\"colorbar\": {\"outlinewidth\": 0, \"ticks\": \"\"}, \"colorscale\": [[0.0, \"#0d0887\"], [0.1111111111111111, \"#46039f\"], [0.2222222222222222, \"#7201a8\"], [0.3333333333333333, \"#9c179e\"], [0.4444444444444444, \"#bd3786\"], [0.5555555555555556, \"#d8576b\"], [0.6666666666666666, \"#ed7953\"], [0.7777777777777778, \"#fb9f3a\"], [0.8888888888888888, \"#fdca26\"], [1.0, \"#f0f921\"]], \"type\": \"histogram2dcontour\"}], \"mesh3d\": [{\"colorbar\": {\"outlinewidth\": 0, \"ticks\": \"\"}, \"type\": \"mesh3d\"}], \"parcoords\": [{\"line\": {\"colorbar\": {\"outlinewidth\": 0, \"ticks\": \"\"}}, \"type\": \"parcoords\"}], \"pie\": [{\"automargin\": true, \"type\": \"pie\"}], \"scatter\": [{\"marker\": {\"colorbar\": {\"outlinewidth\": 0, \"ticks\": \"\"}}, \"type\": \"scatter\"}], \"scatter3d\": [{\"line\": {\"colorbar\": {\"outlinewidth\": 0, \"ticks\": \"\"}}, \"marker\": {\"colorbar\": {\"outlinewidth\": 0, \"ticks\": \"\"}}, \"type\": \"scatter3d\"}], \"scattercarpet\": [{\"marker\": {\"colorbar\": {\"outlinewidth\": 0, \"ticks\": \"\"}}, \"type\": \"scattercarpet\"}], \"scattergeo\": [{\"marker\": {\"colorbar\": {\"outlinewidth\": 0, \"ticks\": \"\"}}, \"type\": \"scattergeo\"}], \"scattergl\": [{\"marker\": {\"colorbar\": {\"outlinewidth\": 0, \"ticks\": \"\"}}, \"type\": \"scattergl\"}], \"scattermapbox\": [{\"marker\": {\"colorbar\": {\"outlinewidth\": 0, \"ticks\": \"\"}}, \"type\": \"scattermapbox\"}], \"scatterpolar\": [{\"marker\": {\"colorbar\": {\"outlinewidth\": 0, \"ticks\": \"\"}}, \"type\": \"scatterpolar\"}], \"scatterpolargl\": [{\"marker\": {\"colorbar\": {\"outlinewidth\": 0, \"ticks\": \"\"}}, \"type\": \"scatterpolargl\"}], \"scatterternary\": [{\"marker\": {\"colorbar\": {\"outlinewidth\": 0, \"ticks\": \"\"}}, \"type\": \"scatterternary\"}], \"surface\": [{\"colorbar\": {\"outlinewidth\": 0, \"ticks\": \"\"}, \"colorscale\": [[0.0, \"#0d0887\"], [0.1111111111111111, \"#46039f\"], [0.2222222222222222, \"#7201a8\"], [0.3333333333333333, \"#9c179e\"], [0.4444444444444444, \"#bd3786\"], [0.5555555555555556, \"#d8576b\"], [0.6666666666666666, \"#ed7953\"], [0.7777777777777778, \"#fb9f3a\"], [0.8888888888888888, \"#fdca26\"], [1.0, \"#f0f921\"]], \"type\": \"surface\"}], \"table\": [{\"cells\": {\"fill\": {\"color\": \"#EBF0F8\"}, \"line\": {\"color\": \"white\"}}, \"header\": {\"fill\": {\"color\": \"#C8D4E3\"}, \"line\": {\"color\": \"white\"}}, \"type\": \"table\"}]}, \"layout\": {\"annotationdefaults\": {\"arrowcolor\": \"#2a3f5f\", \"arrowhead\": 0, \"arrowwidth\": 1}, \"coloraxis\": {\"colorbar\": {\"outlinewidth\": 0, \"ticks\": \"\"}}, \"colorscale\": {\"diverging\": [[0, \"#8e0152\"], [0.1, \"#c51b7d\"], [0.2, \"#de77ae\"], [0.3, \"#f1b6da\"], [0.4, \"#fde0ef\"], [0.5, \"#f7f7f7\"], [0.6, \"#e6f5d0\"], [0.7, \"#b8e186\"], [0.8, \"#7fbc41\"], [0.9, \"#4d9221\"], [1, \"#276419\"]], \"sequential\": [[0.0, \"#0d0887\"], [0.1111111111111111, \"#46039f\"], [0.2222222222222222, \"#7201a8\"], [0.3333333333333333, \"#9c179e\"], [0.4444444444444444, \"#bd3786\"], [0.5555555555555556, \"#d8576b\"], [0.6666666666666666, \"#ed7953\"], [0.7777777777777778, \"#fb9f3a\"], [0.8888888888888888, \"#fdca26\"], [1.0, \"#f0f921\"]], \"sequentialminus\": [[0.0, \"#0d0887\"], [0.1111111111111111, \"#46039f\"], [0.2222222222222222, \"#7201a8\"], [0.3333333333333333, \"#9c179e\"], [0.4444444444444444, \"#bd3786\"], [0.5555555555555556, \"#d8576b\"], [0.6666666666666666, \"#ed7953\"], [0.7777777777777778, \"#fb9f3a\"], [0.8888888888888888, \"#fdca26\"], [1.0, \"#f0f921\"]]}, \"colorway\": [\"#636efa\", \"#EF553B\", \"#00cc96\", \"#ab63fa\", \"#FFA15A\", \"#19d3f3\", \"#FF6692\", \"#B6E880\", \"#FF97FF\", \"#FECB52\"], \"font\": {\"color\": \"#2a3f5f\"}, \"geo\": {\"bgcolor\": \"white\", \"lakecolor\": \"white\", \"landcolor\": \"#E5ECF6\", \"showlakes\": true, \"showland\": true, \"subunitcolor\": \"white\"}, \"hoverlabel\": {\"align\": \"left\"}, \"hovermode\": \"closest\", \"mapbox\": {\"style\": \"light\"}, \"paper_bgcolor\": \"white\", \"plot_bgcolor\": \"#E5ECF6\", \"polar\": {\"angularaxis\": {\"gridcolor\": \"white\", \"linecolor\": \"white\", \"ticks\": \"\"}, \"bgcolor\": \"#E5ECF6\", \"radialaxis\": {\"gridcolor\": \"white\", \"linecolor\": \"white\", \"ticks\": \"\"}}, \"scene\": {\"xaxis\": {\"backgroundcolor\": \"#E5ECF6\", \"gridcolor\": \"white\", \"gridwidth\": 2, \"linecolor\": \"white\", \"showbackground\": true, \"ticks\": \"\", \"zerolinecolor\": \"white\"}, \"yaxis\": {\"backgroundcolor\": \"#E5ECF6\", \"gridcolor\": \"white\", \"gridwidth\": 2, \"linecolor\": \"white\", \"showbackground\": true, \"ticks\": \"\", \"zerolinecolor\": \"white\"}, \"zaxis\": {\"backgroundcolor\": \"#E5ECF6\", \"gridcolor\": \"white\", \"gridwidth\": 2, \"linecolor\": \"white\", \"showbackground\": true, \"ticks\": \"\", \"zerolinecolor\": \"white\"}}, \"shapedefaults\": {\"line\": {\"color\": \"#2a3f5f\"}}, \"ternary\": {\"aaxis\": {\"gridcolor\": \"white\", \"linecolor\": \"white\", \"ticks\": \"\"}, \"baxis\": {\"gridcolor\": \"white\", \"linecolor\": \"white\", \"ticks\": \"\"}, \"bgcolor\": \"#E5ECF6\", \"caxis\": {\"gridcolor\": \"white\", \"linecolor\": \"white\", \"ticks\": \"\"}}, \"title\": {\"x\": 0.05}, \"xaxis\": {\"automargin\": true, \"gridcolor\": \"white\", \"linecolor\": \"white\", \"ticks\": \"\", \"title\": {\"standoff\": 15}, \"zerolinecolor\": \"white\", \"zerolinewidth\": 2}, \"yaxis\": {\"automargin\": true, \"gridcolor\": \"white\", \"linecolor\": \"white\", \"ticks\": \"\", \"title\": {\"standoff\": 15}, \"zerolinecolor\": \"white\", \"zerolinewidth\": 2}}}, \"xaxis\": {\"anchor\": \"y\", \"domain\": [0.0, 1.0], \"title\": {\"text\": \"\\uc81c\\ubaa9\"}}, \"yaxis\": {\"anchor\": \"x\", \"domain\": [0.0, 1.0], \"title\": {\"text\": \"\\ud3c9\\uc810\"}}},\n",
              "                        {\"responsive\": true}\n",
              "                    ).then(function(){\n",
              "                            \n",
              "var gd = document.getElementById('260810f7-8f98-481d-bb03-f644297fcfc9');\n",
              "var x = new MutationObserver(function (mutations, observer) {{\n",
              "        var display = window.getComputedStyle(gd).display;\n",
              "        if (!display || display === 'none') {{\n",
              "            console.log([gd, 'removed!']);\n",
              "            Plotly.purge(gd);\n",
              "            observer.disconnect();\n",
              "        }}\n",
              "}});\n",
              "\n",
              "// Listen for the removal of the full notebook cells\n",
              "var notebookContainer = gd.closest('#notebook-container');\n",
              "if (notebookContainer) {{\n",
              "    x.observe(notebookContainer, {childList: true});\n",
              "}}\n",
              "\n",
              "// Listen for the clearing of the current output cell\n",
              "var outputEl = gd.closest('.output');\n",
              "if (outputEl) {{\n",
              "    x.observe(outputEl, {childList: true});\n",
              "}}\n",
              "\n",
              "                        })\n",
              "                };\n",
              "                \n",
              "            </script>\n",
              "        </div>\n",
              "</body>\n",
              "</html>"
            ]
          },
          "metadata": {
            "tags": []
          }
        }
      ]
    },
    {
      "cell_type": "code",
      "metadata": {
        "colab": {
          "base_uri": "https://localhost:8080/",
          "height": 542
        },
        "id": "EJ5n892arQQG",
        "outputId": "8900fefe-ed43-406b-8495-c75ffaac57b2"
      },
      "source": [
        "fig = px.pie(df_D, values='평점', names='장르')\n",
        "fig.show()"
      ],
      "execution_count": null,
      "outputs": [
        {
          "output_type": "display_data",
          "data": {
            "text/html": [
              "<html>\n",
              "<head><meta charset=\"utf-8\" /></head>\n",
              "<body>\n",
              "    <div>\n",
              "            <script src=\"https://cdnjs.cloudflare.com/ajax/libs/mathjax/2.7.5/MathJax.js?config=TeX-AMS-MML_SVG\"></script><script type=\"text/javascript\">if (window.MathJax) {MathJax.Hub.Config({SVG: {font: \"STIX-Web\"}});}</script>\n",
              "                <script type=\"text/javascript\">window.PlotlyConfig = {MathJaxConfig: 'local'};</script>\n",
              "        <script src=\"https://cdn.plot.ly/plotly-latest.min.js\"></script>    \n",
              "            <div id=\"ed85739d-1f5c-4962-a37e-a7198e8201b1\" class=\"plotly-graph-div\" style=\"height:525px; width:100%;\"></div>\n",
              "            <script type=\"text/javascript\">\n",
              "                \n",
              "                    window.PLOTLYENV=window.PLOTLYENV || {};\n",
              "                    \n",
              "                if (document.getElementById(\"ed85739d-1f5c-4962-a37e-a7198e8201b1\")) {\n",
              "                    Plotly.newPlot(\n",
              "                        'ed85739d-1f5c-4962-a37e-a7198e8201b1',\n",
              "                        [{\"domain\": {\"x\": [0.0, 1.0], \"y\": [0.0, 1.0]}, \"hoverlabel\": {\"namelength\": 0}, \"hovertemplate\": \"\\uc7a5\\ub974=%{label}<br>\\ud3c9\\uc810=%{value}\", \"labels\": [\"\\uc560\\ub2c8\\uba54\\uc774\\uc158\", \"\\uacf5\\ud3ec/\\uc2a4\\ub9b4\\ub7ec\", \"\\uc561\\uc158\", \"\\ub4dc\\ub77c\\ub9c8\", \"\\uc560\\ub2c8\\uba54\\uc774\\uc158\", \"\\uc561\\uc158\", \"\\uc561\\uc158\", \"\\ub4dc\\ub77c\\ub9c8\", \"\\ub4dc\\ub77c\\ub9c8\", \"\\uc561\\uc158\", \"\\ub4dc\\ub77c\\ub9c8\", \"\\ub4dc\\ub77c\\ub9c8\", \"\\ub4dc\\ub77c\\ub9c8\", \"\\uc561\\uc158\", \"\\uacf5\\ud3ec/\\uc2a4\\ub9b4\\ub7ec\", \"\\uc561\\uc158\", \"\\uc560\\ub2c8\\uba54\\uc774\\uc158\", \"\\ucf54\\ubbf8\\ub514\", \"\\uc561\\uc158\", \"\\uc561\\uc158\", \"\\uc561\\uc158\", \"\\uc561\\uc158\", \"\\ub4dc\\ub77c\\ub9c8\", \"\\uc561\\uc158\", \"\\uba5c\\ub85c\", \"\\uacf5\\uc5f0\\uc2e4\\ud669\", \"\\uc561\\uc158\", \"\\uacf5\\ud3ec/\\uc2a4\\ub9b4\\ub7ec\", \"\\uc561\\uc158\", \"\\uc561\\uc158\", \"\\ub4dc\\ub77c\\ub9c8\", \"\\ucf54\\ubbf8\\ub514\", \"\\uc561\\uc158\", \"\\uc561\\uc158\", \"\\uc561\\uc158\", \"\\uc561\\uc158\", \"\\uc561\\uc158\", \"\\uc561\\uc158\", \"\\uc561\\uc158\", \"\\uc561\\uc158\", \"\\ub4dc\\ub77c\\ub9c8\", \"\\uc561\\uc158\", \"\\ub4dc\\ub77c\\ub9c8\", \"\\ub4dc\\ub77c\\ub9c8\", \"\\ub4dc\\ub77c\\ub9c8\", \"\\uc561\\uc158\", \"\\ub4dc\\ub77c\\ub9c8\", \"\\uc561\\uc158\", \"\\uc561\\uc158\", \"\\ub4dc\\ub77c\\ub9c8\", \"\\uc560\\ub2c8\\uba54\\uc774\\uc158\", \"\\ub2e4\\ud050\\uba58\\ud130\\ub9ac\", \"\\uc561\\uc158\", \"\\uc561\\uc158\", \"\\ub4dc\\ub77c\\ub9c8\", \"\\ub4dc\\ub77c\\ub9c8\", \"\\ucf54\\ubbf8\\ub514\", \"\\ucf54\\ubbf8\\ub514\", \"\\uc561\\uc158\", \"\\ub4dc\\ub77c\\ub9c8\", \"\\ub4dc\\ub77c\\ub9c8\"], \"legendgroup\": \"\", \"name\": \"\", \"showlegend\": true, \"type\": \"pie\", \"values\": [9, 7, 8, 9, 9, 6, 9, 7, 8, 8, 8, 8, 9, 9, 8, 7, 9, 8, 8, 8, 8, 8, 7, 9, 8, 9, 0, 6, 9, 8, 9, 9, 7, 9, 7, 7, 9, 9, 7, 9, 8, 7, 9, 9, 9, 9, 9, 8, 5, 9, 0, 9, 8, 6, 9, 9, 9, 9, 7, 7, 8]}],\n",
              "                        {\"legend\": {\"tracegroupgap\": 0}, \"margin\": {\"t\": 60}, \"template\": {\"data\": {\"bar\": [{\"error_x\": {\"color\": \"#2a3f5f\"}, \"error_y\": {\"color\": \"#2a3f5f\"}, \"marker\": {\"line\": {\"color\": \"#E5ECF6\", \"width\": 0.5}}, \"type\": \"bar\"}], \"barpolar\": [{\"marker\": {\"line\": {\"color\": \"#E5ECF6\", \"width\": 0.5}}, \"type\": \"barpolar\"}], \"carpet\": [{\"aaxis\": {\"endlinecolor\": \"#2a3f5f\", \"gridcolor\": \"white\", \"linecolor\": \"white\", \"minorgridcolor\": \"white\", \"startlinecolor\": \"#2a3f5f\"}, \"baxis\": {\"endlinecolor\": \"#2a3f5f\", \"gridcolor\": \"white\", \"linecolor\": \"white\", \"minorgridcolor\": \"white\", \"startlinecolor\": \"#2a3f5f\"}, \"type\": \"carpet\"}], \"choropleth\": [{\"colorbar\": {\"outlinewidth\": 0, \"ticks\": \"\"}, \"type\": \"choropleth\"}], \"contour\": [{\"colorbar\": {\"outlinewidth\": 0, \"ticks\": \"\"}, \"colorscale\": [[0.0, \"#0d0887\"], [0.1111111111111111, \"#46039f\"], [0.2222222222222222, \"#7201a8\"], [0.3333333333333333, \"#9c179e\"], [0.4444444444444444, \"#bd3786\"], [0.5555555555555556, \"#d8576b\"], [0.6666666666666666, \"#ed7953\"], [0.7777777777777778, \"#fb9f3a\"], [0.8888888888888888, \"#fdca26\"], [1.0, \"#f0f921\"]], \"type\": \"contour\"}], \"contourcarpet\": [{\"colorbar\": {\"outlinewidth\": 0, \"ticks\": \"\"}, \"type\": \"contourcarpet\"}], \"heatmap\": [{\"colorbar\": {\"outlinewidth\": 0, \"ticks\": \"\"}, \"colorscale\": [[0.0, \"#0d0887\"], [0.1111111111111111, \"#46039f\"], [0.2222222222222222, \"#7201a8\"], [0.3333333333333333, \"#9c179e\"], [0.4444444444444444, \"#bd3786\"], [0.5555555555555556, \"#d8576b\"], [0.6666666666666666, \"#ed7953\"], [0.7777777777777778, \"#fb9f3a\"], [0.8888888888888888, \"#fdca26\"], [1.0, \"#f0f921\"]], \"type\": \"heatmap\"}], \"heatmapgl\": [{\"colorbar\": {\"outlinewidth\": 0, \"ticks\": \"\"}, \"colorscale\": [[0.0, \"#0d0887\"], [0.1111111111111111, \"#46039f\"], [0.2222222222222222, \"#7201a8\"], [0.3333333333333333, \"#9c179e\"], [0.4444444444444444, \"#bd3786\"], [0.5555555555555556, \"#d8576b\"], [0.6666666666666666, \"#ed7953\"], [0.7777777777777778, \"#fb9f3a\"], [0.8888888888888888, \"#fdca26\"], [1.0, \"#f0f921\"]], \"type\": \"heatmapgl\"}], \"histogram\": [{\"marker\": {\"colorbar\": {\"outlinewidth\": 0, \"ticks\": \"\"}}, \"type\": \"histogram\"}], \"histogram2d\": [{\"colorbar\": {\"outlinewidth\": 0, \"ticks\": \"\"}, \"colorscale\": [[0.0, \"#0d0887\"], [0.1111111111111111, \"#46039f\"], [0.2222222222222222, \"#7201a8\"], [0.3333333333333333, \"#9c179e\"], [0.4444444444444444, \"#bd3786\"], [0.5555555555555556, \"#d8576b\"], [0.6666666666666666, \"#ed7953\"], [0.7777777777777778, \"#fb9f3a\"], [0.8888888888888888, \"#fdca26\"], [1.0, \"#f0f921\"]], \"type\": \"histogram2d\"}], \"histogram2dcontour\": [{\"colorbar\": {\"outlinewidth\": 0, \"ticks\": \"\"}, \"colorscale\": [[0.0, \"#0d0887\"], [0.1111111111111111, \"#46039f\"], [0.2222222222222222, \"#7201a8\"], [0.3333333333333333, \"#9c179e\"], [0.4444444444444444, \"#bd3786\"], [0.5555555555555556, \"#d8576b\"], [0.6666666666666666, \"#ed7953\"], [0.7777777777777778, \"#fb9f3a\"], [0.8888888888888888, \"#fdca26\"], [1.0, \"#f0f921\"]], \"type\": \"histogram2dcontour\"}], \"mesh3d\": [{\"colorbar\": {\"outlinewidth\": 0, \"ticks\": \"\"}, \"type\": \"mesh3d\"}], \"parcoords\": [{\"line\": {\"colorbar\": {\"outlinewidth\": 0, \"ticks\": \"\"}}, \"type\": \"parcoords\"}], \"pie\": [{\"automargin\": true, \"type\": \"pie\"}], \"scatter\": [{\"marker\": {\"colorbar\": {\"outlinewidth\": 0, \"ticks\": \"\"}}, \"type\": \"scatter\"}], \"scatter3d\": [{\"line\": {\"colorbar\": {\"outlinewidth\": 0, \"ticks\": \"\"}}, \"marker\": {\"colorbar\": {\"outlinewidth\": 0, \"ticks\": \"\"}}, \"type\": \"scatter3d\"}], \"scattercarpet\": [{\"marker\": {\"colorbar\": {\"outlinewidth\": 0, \"ticks\": \"\"}}, \"type\": \"scattercarpet\"}], \"scattergeo\": [{\"marker\": {\"colorbar\": {\"outlinewidth\": 0, \"ticks\": \"\"}}, \"type\": \"scattergeo\"}], \"scattergl\": [{\"marker\": {\"colorbar\": {\"outlinewidth\": 0, \"ticks\": \"\"}}, \"type\": \"scattergl\"}], \"scattermapbox\": [{\"marker\": {\"colorbar\": {\"outlinewidth\": 0, \"ticks\": \"\"}}, \"type\": \"scattermapbox\"}], \"scatterpolar\": [{\"marker\": {\"colorbar\": {\"outlinewidth\": 0, \"ticks\": \"\"}}, \"type\": \"scatterpolar\"}], \"scatterpolargl\": [{\"marker\": {\"colorbar\": {\"outlinewidth\": 0, \"ticks\": \"\"}}, \"type\": \"scatterpolargl\"}], \"scatterternary\": [{\"marker\": {\"colorbar\": {\"outlinewidth\": 0, \"ticks\": \"\"}}, \"type\": \"scatterternary\"}], \"surface\": [{\"colorbar\": {\"outlinewidth\": 0, \"ticks\": \"\"}, \"colorscale\": [[0.0, \"#0d0887\"], [0.1111111111111111, \"#46039f\"], [0.2222222222222222, \"#7201a8\"], [0.3333333333333333, \"#9c179e\"], [0.4444444444444444, \"#bd3786\"], [0.5555555555555556, \"#d8576b\"], [0.6666666666666666, \"#ed7953\"], [0.7777777777777778, \"#fb9f3a\"], [0.8888888888888888, \"#fdca26\"], [1.0, \"#f0f921\"]], \"type\": \"surface\"}], \"table\": [{\"cells\": {\"fill\": {\"color\": \"#EBF0F8\"}, \"line\": {\"color\": \"white\"}}, \"header\": {\"fill\": {\"color\": \"#C8D4E3\"}, \"line\": {\"color\": \"white\"}}, \"type\": \"table\"}]}, \"layout\": {\"annotationdefaults\": {\"arrowcolor\": \"#2a3f5f\", \"arrowhead\": 0, \"arrowwidth\": 1}, \"coloraxis\": {\"colorbar\": {\"outlinewidth\": 0, \"ticks\": \"\"}}, \"colorscale\": {\"diverging\": [[0, \"#8e0152\"], [0.1, \"#c51b7d\"], [0.2, \"#de77ae\"], [0.3, \"#f1b6da\"], [0.4, \"#fde0ef\"], [0.5, \"#f7f7f7\"], [0.6, \"#e6f5d0\"], [0.7, \"#b8e186\"], [0.8, \"#7fbc41\"], [0.9, \"#4d9221\"], [1, \"#276419\"]], \"sequential\": [[0.0, \"#0d0887\"], [0.1111111111111111, \"#46039f\"], [0.2222222222222222, \"#7201a8\"], [0.3333333333333333, \"#9c179e\"], [0.4444444444444444, \"#bd3786\"], [0.5555555555555556, \"#d8576b\"], [0.6666666666666666, \"#ed7953\"], [0.7777777777777778, \"#fb9f3a\"], [0.8888888888888888, \"#fdca26\"], [1.0, \"#f0f921\"]], \"sequentialminus\": [[0.0, \"#0d0887\"], [0.1111111111111111, \"#46039f\"], [0.2222222222222222, \"#7201a8\"], [0.3333333333333333, \"#9c179e\"], [0.4444444444444444, \"#bd3786\"], [0.5555555555555556, \"#d8576b\"], [0.6666666666666666, \"#ed7953\"], [0.7777777777777778, \"#fb9f3a\"], [0.8888888888888888, \"#fdca26\"], [1.0, \"#f0f921\"]]}, \"colorway\": [\"#636efa\", \"#EF553B\", \"#00cc96\", \"#ab63fa\", \"#FFA15A\", \"#19d3f3\", \"#FF6692\", \"#B6E880\", \"#FF97FF\", \"#FECB52\"], \"font\": {\"color\": \"#2a3f5f\"}, \"geo\": {\"bgcolor\": \"white\", \"lakecolor\": \"white\", \"landcolor\": \"#E5ECF6\", \"showlakes\": true, \"showland\": true, \"subunitcolor\": \"white\"}, \"hoverlabel\": {\"align\": \"left\"}, \"hovermode\": \"closest\", \"mapbox\": {\"style\": \"light\"}, \"paper_bgcolor\": \"white\", \"plot_bgcolor\": \"#E5ECF6\", \"polar\": {\"angularaxis\": {\"gridcolor\": \"white\", \"linecolor\": \"white\", \"ticks\": \"\"}, \"bgcolor\": \"#E5ECF6\", \"radialaxis\": {\"gridcolor\": \"white\", \"linecolor\": \"white\", \"ticks\": \"\"}}, \"scene\": {\"xaxis\": {\"backgroundcolor\": \"#E5ECF6\", \"gridcolor\": \"white\", \"gridwidth\": 2, \"linecolor\": \"white\", \"showbackground\": true, \"ticks\": \"\", \"zerolinecolor\": \"white\"}, \"yaxis\": {\"backgroundcolor\": \"#E5ECF6\", \"gridcolor\": \"white\", \"gridwidth\": 2, \"linecolor\": \"white\", \"showbackground\": true, \"ticks\": \"\", \"zerolinecolor\": \"white\"}, \"zaxis\": {\"backgroundcolor\": \"#E5ECF6\", \"gridcolor\": \"white\", \"gridwidth\": 2, \"linecolor\": \"white\", \"showbackground\": true, \"ticks\": \"\", \"zerolinecolor\": \"white\"}}, \"shapedefaults\": {\"line\": {\"color\": \"#2a3f5f\"}}, \"ternary\": {\"aaxis\": {\"gridcolor\": \"white\", \"linecolor\": \"white\", \"ticks\": \"\"}, \"baxis\": {\"gridcolor\": \"white\", \"linecolor\": \"white\", \"ticks\": \"\"}, \"bgcolor\": \"#E5ECF6\", \"caxis\": {\"gridcolor\": \"white\", \"linecolor\": \"white\", \"ticks\": \"\"}}, \"title\": {\"x\": 0.05}, \"xaxis\": {\"automargin\": true, \"gridcolor\": \"white\", \"linecolor\": \"white\", \"ticks\": \"\", \"title\": {\"standoff\": 15}, \"zerolinecolor\": \"white\", \"zerolinewidth\": 2}, \"yaxis\": {\"automargin\": true, \"gridcolor\": \"white\", \"linecolor\": \"white\", \"ticks\": \"\", \"title\": {\"standoff\": 15}, \"zerolinecolor\": \"white\", \"zerolinewidth\": 2}}}},\n",
              "                        {\"responsive\": true}\n",
              "                    ).then(function(){\n",
              "                            \n",
              "var gd = document.getElementById('ed85739d-1f5c-4962-a37e-a7198e8201b1');\n",
              "var x = new MutationObserver(function (mutations, observer) {{\n",
              "        var display = window.getComputedStyle(gd).display;\n",
              "        if (!display || display === 'none') {{\n",
              "            console.log([gd, 'removed!']);\n",
              "            Plotly.purge(gd);\n",
              "            observer.disconnect();\n",
              "        }}\n",
              "}});\n",
              "\n",
              "// Listen for the removal of the full notebook cells\n",
              "var notebookContainer = gd.closest('#notebook-container');\n",
              "if (notebookContainer) {{\n",
              "    x.observe(notebookContainer, {childList: true});\n",
              "}}\n",
              "\n",
              "// Listen for the clearing of the current output cell\n",
              "var outputEl = gd.closest('.output');\n",
              "if (outputEl) {{\n",
              "    x.observe(outputEl, {childList: true});\n",
              "}}\n",
              "\n",
              "                        })\n",
              "                };\n",
              "                \n",
              "            </script>\n",
              "        </div>\n",
              "</body>\n",
              "</html>"
            ]
          },
          "metadata": {
            "tags": []
          }
        }
      ]
    },
    {
      "cell_type": "code",
      "metadata": {
        "id": "ZdZGpgpasYKM"
      },
      "source": [
        ""
      ],
      "execution_count": null,
      "outputs": []
    }
  ]
}