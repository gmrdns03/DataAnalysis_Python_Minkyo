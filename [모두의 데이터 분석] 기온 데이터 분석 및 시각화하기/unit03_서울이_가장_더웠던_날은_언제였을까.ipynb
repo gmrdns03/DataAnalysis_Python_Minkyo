{
  "nbformat": 4,
  "nbformat_minor": 0,
  "metadata": {
    "colab": {
      "name": "unit03-서울이 가장 더웠던 날은 언제였을까.ipynb",
      "provenance": [],
      "collapsed_sections": [],
      "authorship_tag": "ABX9TyND/o6PpxqrXEv0EH7TdgZq",
      "include_colab_link": true
    },
    "kernelspec": {
      "name": "python3",
      "display_name": "Python 3"
    },
    "language_info": {
      "name": "python"
    }
  },
  "cells": [
    {
      "cell_type": "markdown",
      "metadata": {
        "id": "view-in-github",
        "colab_type": "text"
      },
      "source": [
        "<a href=\"https://colab.research.google.com/github/gmrdns03/DataAnalysis_Python_Minkyo/blob/main/%5B%EB%AA%A8%EB%91%90%EC%9D%98%20%EB%8D%B0%EC%9D%B4%ED%84%B0%20%EB%B6%84%EC%84%9D%5D%20%EA%B8%B0%EC%98%A8%20%EB%8D%B0%EC%9D%B4%ED%84%B0%20%EB%B6%84%EC%84%9D%20%EB%B0%8F%20%EC%8B%9C%EA%B0%81%ED%99%94%ED%95%98%EA%B8%B0/unit03_%EC%84%9C%EC%9A%B8%EC%9D%B4_%EA%B0%80%EC%9E%A5_%EB%8D%94%EC%9B%A0%EB%8D%98_%EB%82%A0%EC%9D%80_%EC%96%B8%EC%A0%9C%EC%98%80%EC%9D%84%EA%B9%8C.ipynb\" target=\"_parent\"><img src=\"https://colab.research.google.com/assets/colab-badge.svg\" alt=\"Open In Colab\"/></a>"
      ]
    },
    {
      "cell_type": "markdown",
      "metadata": {
        "id": "F3HYRgPMh22d"
      },
      "source": [
        "### step 1) 데이터 불러서 한 행씩 출력하기"
      ]
    },
    {
      "cell_type": "code",
      "metadata": {
        "id": "Xge0YKJQh2Mv"
      },
      "source": [
        "import csv  # csv파일을 불러오기 위한\n",
        "\n",
        "f = open('/content/seoul_temp_19040101_20190117.csv', 'r', encoding='cp949')\n",
        "data = csv.reader(f)\n",
        "header = next(data)  # 첫 번째 행을 읽은 후 커서를 다음 행으로 이동시키는 함수\n",
        "\n",
        "for row in data:\n",
        "  print(row)\n",
        "  # 최고기온 데이터만 추출 -> 명시적으로 형변환 하기 (소숫점을 유지시켜줄 수 있는 실수형)\n",
        "  row[-1] = float(row[-1]) # float(row[4]) -> 제일 마지막 컬럼이기 때문에 -> -1로 처리\n",
        "  # 현재 해당 컬럼에 결측치가 있기 때문에 형변환 중 오류가 난다.\n",
        "\n",
        "f.close()\n",
        "\n",
        "\n"
      ],
      "execution_count": null,
      "outputs": []
    },
    {
      "cell_type": "markdown",
      "metadata": {
        "id": "my1x7M7Sk1Cm"
      },
      "source": [
        "### step 2) 데이터 중 최고 기온을 실수로 변환하여 한 행씩 출력하기"
      ]
    },
    {
      "cell_type": "code",
      "metadata": {
        "id": "oBq-x6LCiZAk"
      },
      "source": [
        "import csv  # csv파일을 불러오기 위한\n",
        "\n",
        "mex_temp = -999   # 최고 기온 값을 저장할 변수 -> 명확한 결과를 위해 누가봐도 아닌(극적인) 값\n",
        "max_date = ''     # 최고 기온이 가장 높았던 날짜를 저장하는 변수\n",
        "\n",
        "f = open('/content/seoul_temp_19040101_20190117.csv', 'r', encoding='cp949')\n",
        "data = csv.reader(f)\n",
        "header = next(data)  # 첫 번째 행을 읽은 후 커서를 다음 행으로 이동시키는 함수\n",
        "\n",
        "for row in data:\n",
        "  # 최고기온 데이터가 ''(결측치) 확인\n",
        "  if row[-1] == '':\n",
        "    row[-1] = -999  # -999를 넣어서 빈 문자열('')이 있던 자리라고 표시 \n",
        "  \n",
        "  row[-1] = float(row[-1])  # 기온 데이터 실수로 변환\n",
        "  print(row[0], row[-1])  # 날짜 데이터와 같이 출력\n",
        "\n",
        "f.close()"
      ],
      "execution_count": null,
      "outputs": []
    },
    {
      "cell_type": "markdown",
      "metadata": {
        "id": "we7vp-pRrcYh"
      },
      "source": [
        "### step 3) 최고기온과 최고기온이 있었던 날짜"
      ]
    },
    {
      "cell_type": "code",
      "metadata": {
        "colab": {
          "base_uri": "https://localhost:8080/"
        },
        "id": "2F4XwLk7m4JC",
        "outputId": "34f9ad2f-27c3-48c6-985f-4f4b25df1b9a"
      },
      "source": [
        "import csv  # csv파일을 불러오기 위한\n",
        "\n",
        "max_temp = -999   # 최고 기온 값을 저장할 변수 -> 명확한 결과를 위해 누가봐도 아닌(극적인) 값\n",
        "max_date = ''     # 최고 기온이 가장 높았던 날짜를 저장하는 변수\n",
        "\n",
        "f = open('/content/seoul_temp_19040101_20190117.csv', 'r', encoding='cp949')\n",
        "data = csv.reader(f)\n",
        "header = next(data)  # 첫 번째 행을 읽은 후 커서를 다음 행으로 이동시키는 함수\n",
        "\n",
        "for row in data:\n",
        "  # 최고기온 데이터가 ''(결측치) 확인\n",
        "  if row[-1] == '':\n",
        "    row[-1] = -999  # -999를 넣어서 빈 문자열('')이 있던 자리라고 표시 \n",
        "\n",
        "  row[-1] = float(row[-1])  # 기온 데이터 실수로 변환\n",
        "\n",
        "  # 최고 기온 정보를 저장\n",
        "  if max_temp < row[-1]:\n",
        "    max_date = row[0]\n",
        "    max_temp = row[-1]\n",
        "\n",
        "f.close()\n",
        "\n",
        "print(f\"기상 관측 이래 서울의 최고 기온이 가장 높았던 날은 : {max_date}로 {max_temp}도 였습니다.\")"
      ],
      "execution_count": null,
      "outputs": [
        {
          "output_type": "stream",
          "text": [
            "기상 관측 이래 서울의 최고 기온이 가장 높았던 날은 : 2018-08-01로 39.6도 였습니다.\n"
          ],
          "name": "stdout"
        }
      ]
    },
    {
      "cell_type": "markdown",
      "metadata": {
        "id": "qiZpssFxs0tE"
      },
      "source": [
        "### step 4) 최저 기온과 최저 기온이었던 날짜 찾기(스스로 해보기)"
      ]
    },
    {
      "cell_type": "code",
      "metadata": {
        "colab": {
          "base_uri": "https://localhost:8080/"
        },
        "id": "PaqT841Vsf5_",
        "outputId": "09d897a3-2fab-4f34-b5af-51a2faef2ead"
      },
      "source": [
        "import csv  # csv파일을 불러오기 위한\n",
        "\n",
        "min_temp = 999   # 최저 기온 값을 저장할 변수 -> 명확한 결과를 위해 누가봐도 아닌(극적인) 값\n",
        "min_date = ''     # 최저 기온이 가장 낮았던 날짜를 저장하는 변수\n",
        "\n",
        "f = open('/content/seoul_temp_19040101_20190117.csv', 'r', encoding='cp949')\n",
        "data = csv.reader(f)\n",
        "header = next(data)  # 첫 번째 행을 읽은 후 커서를 다음 행으로 이동시키는 함수\n",
        "\n",
        "for row in data:\n",
        "  # 최저기온 데이터가 ''(결측치) 확인\n",
        "  if row[-2] == '':\n",
        "    row[-2] = 999  # 999를 넣어서 빈 문자열('')이 있던 자리라고 표시 \n",
        "\n",
        "  row[-2] = float(row[-2])  # 기온 데이터 실수로 변환\n",
        "\n",
        "  # 최저 기온 정보를 저장\n",
        "  if min_temp > row[-2]:\n",
        "    min_date = row[0]\n",
        "    min_temp = row[-2]\n",
        "\n",
        "f.close()\n",
        "\n",
        "print(f\"기상 관측 이래 서울의 최저 기온이 가장 낮았던 날은 : {min_date}로 {min_temp}도 였습니다.\")"
      ],
      "execution_count": null,
      "outputs": [
        {
          "output_type": "stream",
          "text": [
            "기상 관측 이래 서울의 최저 기온이 가장 낮았던 날은 : 1927-12-31로 -23.1도 였습니다.\n"
          ],
          "name": "stdout"
        }
      ]
    },
    {
      "cell_type": "code",
      "metadata": {
        "id": "zibI139LtXXp"
      },
      "source": [
        ""
      ],
      "execution_count": null,
      "outputs": []
    }
  ]
}