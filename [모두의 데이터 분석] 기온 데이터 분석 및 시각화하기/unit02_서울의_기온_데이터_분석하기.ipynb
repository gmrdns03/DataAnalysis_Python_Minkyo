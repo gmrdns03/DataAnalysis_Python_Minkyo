{
  "nbformat": 4,
  "nbformat_minor": 0,
  "metadata": {
    "colab": {
      "name": "unit02_서울의 기온 데이터 분석하기.ipynb",
      "provenance": [],
      "authorship_tag": "ABX9TyMRfw5smZRVxB8lVqNGuSQt",
      "include_colab_link": true
    },
    "kernelspec": {
      "name": "python3",
      "display_name": "Python 3"
    },
    "language_info": {
      "name": "python"
    }
  },
  "cells": [
    {
      "cell_type": "markdown",
      "metadata": {
        "id": "view-in-github",
        "colab_type": "text"
      },
      "source": [
        "<a href=\"https://colab.research.google.com/github/gmrdns03/DataAnalysis_Python_Minkyo/blob/main/%5B%EB%AA%A8%EB%91%90%EC%9D%98%20%EB%8D%B0%EC%9D%B4%ED%84%B0%20%EB%B6%84%EC%84%9D%5D%20%EA%B8%B0%EC%98%A8%20%EB%8D%B0%EC%9D%B4%ED%84%B0%20%EB%B6%84%EC%84%9D%20%EB%B0%8F%20%EC%8B%9C%EA%B0%81%ED%99%94%ED%95%98%EA%B8%B0/unit02_%EC%84%9C%EC%9A%B8%EC%9D%98_%EA%B8%B0%EC%98%A8_%EB%8D%B0%EC%9D%B4%ED%84%B0_%EB%B6%84%EC%84%9D%ED%95%98%EA%B8%B0.ipynb\" target=\"_parent\"><img src=\"https://colab.research.google.com/assets/colab-badge.svg\" alt=\"Open In Colab\"/></a>"
      ]
    },
    {
      "cell_type": "markdown",
      "metadata": {
        "id": "ifMnmGGo2aKn"
      },
      "source": [
        "### seoul.csv파일 읽어오기"
      ]
    },
    {
      "cell_type": "code",
      "metadata": {
        "colab": {
          "base_uri": "https://localhost:8080/"
        },
        "id": "A3_7hb7c2SyO",
        "outputId": "ac91697c-7e22-4782-e7a5-32fcf8a57ec2"
      },
      "source": [
        "import csv  # csv파일을 불러오기 위한\n",
        "\n",
        "f = open('/content/seoul_temp_19040101_20190117.csv', 'r', encoding='cp949')\n",
        "# 본 파일의 인코딩 방식 확인하고 오기 encoding='euc-kr'로 되는 경우도 있음\n",
        "# open할 때 항상 (파일 경로, 불러오는 목적(모드), 인코딩 방식)\n",
        "# 모드에는 r = read, w = write, rw = read and write\n",
        "# 인코딩의 티폴트셋은 utf8 이다. 우리가 가져온 파일은 cp949이므로 따로 명령해줘야 한다.\n",
        "\n",
        "data = csv.reader(f,delimiter=',') # 읽어올 때 구분자(delimiter)를 콤마로 지정해준다.\n",
        "print(data)\n",
        "# 판다스와는 다르게 object로 프린트 된다. 데이터를 뽑을려면 다른 코딩이 필요하다.\n",
        "f.close()"
      ],
      "execution_count": null,
      "outputs": [
        {
          "output_type": "stream",
          "text": [
            "<_csv.reader object at 0x7f9562124d50>\n"
          ],
          "name": "stdout"
        }
      ]
    },
    {
      "cell_type": "code",
      "metadata": {
        "id": "R12fNBnM3k0x"
      },
      "source": [
        "import csv  # csv파일을 불러오기 위한\n",
        "\n",
        "f = open('/content/seoul_temp_19040101_20190117.csv', 'r', encoding='cp949')\n",
        "data = csv.reader(f) # delimiter(구분자) -> ,로 생략가능\n",
        "# 제일 많이 쓰는 구분자는 콤마(,), 다음은 캐럿(^), 파이프기호(|)\n",
        "\n",
        "# 데이터를 한줄씩 출력\n",
        "for row in data:\n",
        "  print(row)\n",
        "\n",
        "f.close()"
      ],
      "execution_count": null,
      "outputs": []
    },
    {
      "cell_type": "markdown",
      "metadata": {
        "id": "GHJs6F8C7eu2"
      },
      "source": [
        "### 헤더 저장하기"
      ]
    },
    {
      "cell_type": "code",
      "metadata": {
        "colab": {
          "base_uri": "https://localhost:8080/"
        },
        "id": "P8OkTiJ-4_Ov",
        "outputId": "a8de44a4-bf24-44a5-c838-74cb2b184fa1"
      },
      "source": [
        "import csv  # csv파일을 불러오기 위한\n",
        "\n",
        "f = open('/content/seoul_temp_19040101_20190117.csv', 'r', encoding='cp949')\n",
        "data = csv.reader(f)\n",
        "header = next(data)  \n",
        "# 데이터의 한 줄을 읽어준다.그리고 다음 줄로 커서를 옮겨준다.\n",
        "# 다음줄로 커서를 옮겨줬기 때문에 컬럼 줄에서 다음줄인 데이터의 시작줄이 시작된다.\n",
        "\n",
        "print(header)\n",
        "f.close()"
      ],
      "execution_count": null,
      "outputs": [
        {
          "output_type": "stream",
          "text": [
            "['날짜', '지점', '평균기온(℃)', '최저기온(℃)', '최고기온(℃)']\n"
          ],
          "name": "stdout"
        }
      ]
    },
    {
      "cell_type": "code",
      "metadata": {
        "colab": {
          "base_uri": "https://localhost:8080/"
        },
        "id": "0sHK_w3q8GC0",
        "outputId": "149e55cb-1813-4aef-eff0-7241a2d8c972"
      },
      "source": [
        "import csv  # csv파일을 불러오기 위한\n",
        "\n",
        "f = open('/content/seoul_temp_19040101_20190117.csv', 'r', encoding='cp949')\n",
        "data = csv.reader(f)\n",
        "header = next(data)  \n",
        "# 데이터의 한 줄을 읽어준다.그리고 다음 줄로 커서를 옮겨준다.\n",
        "# 다음줄로 커서를 옮겨줬기 때문에 컬럼 줄에서 다음줄인 데이터의 시작줄이 시작된다.\n",
        "# 첫 번째 행을 읽은 후 다음 행으로 이동시키는 함수\n",
        "print(header)\n",
        "print(next(data))\n",
        "print(next(data))\n",
        "print(next(data))\n",
        "print(next(data))\n",
        "f.close()"
      ],
      "execution_count": null,
      "outputs": [
        {
          "output_type": "stream",
          "text": [
            "['날짜', '지점', '평균기온(℃)', '최저기온(℃)', '최고기온(℃)']\n",
            "['1907-10-01', '108', '13.5', '7.9', '20.7']\n",
            "['1907-10-02', '108', '16.2', '7.9', '22']\n",
            "['1907-10-03', '108', '16.2', '13.1', '21.3']\n",
            "['1907-10-04', '108', '16.5', '11.2', '22']\n"
          ],
          "name": "stdout"
        }
      ]
    },
    {
      "cell_type": "code",
      "metadata": {
        "colab": {
          "base_uri": "https://localhost:8080/"
        },
        "id": "G_3yGH3f8ato",
        "outputId": "87adc47e-a6a2-4ad7-d51f-fa5232b84783"
      },
      "source": [
        "import csv  # csv파일을 불러오기 위한\n",
        "\n",
        "f = open('/content/seoul_temp_19040101_20190117.csv', 'r', encoding='cp949')\n",
        "data = csv.reader(f)\n",
        "\n",
        "header = next(data)  # 첫 번째 행을 읽은 후 커서를 다음 행으로 이동시키는 함수\n",
        "print(header)  \n",
        "\n",
        "print(next(data)) # 두번째 행 읽은 후 커서를 다음 행으로 이동\n",
        "\n",
        "f.close()"
      ],
      "execution_count": null,
      "outputs": [
        {
          "output_type": "stream",
          "text": [
            "['날짜', '지점', '평균기온(℃)', '최저기온(℃)', '최고기온(℃)']\n",
            "['1907-10-01', '108', '13.5', '7.9', '20.7']\n"
          ],
          "name": "stdout"
        }
      ]
    },
    {
      "cell_type": "code",
      "metadata": {
        "id": "9BxU1nsS8xX8"
      },
      "source": [
        "import csv  # csv파일을 불러오기 위한\n",
        "\n",
        "f = open('/content/seoul_temp_19040101_20190117.csv', 'r', encoding='cp949')\n",
        "data = csv.reader(f)\n",
        "\n",
        "header = next(data)  # 헤더 추출\n",
        "print(header)  \n",
        "\n",
        "# 데이터 한줄씩 출력\n",
        "for row in data :  # 위에서 헤더를 추출하고 행을 다음으로 넘겼기 때문에 컬럼필드가 제외된 데이터가 출력된다.\n",
        "  print(row)\n",
        "\n",
        "f.close()"
      ],
      "execution_count": null,
      "outputs": []
    },
    {
      "cell_type": "markdown",
      "metadata": {
        "id": "J1VDkiJUIOSM"
      },
      "source": [
        "### 기상관측이래 가장 기온이 높았던 날은 언제였고, 몇 도였을까? <br>\n",
        "날짜, 최고기온 데이터를 사용\n",
        "\n",
        "> 기상 관측 이래 서울의 평균 기온이 가장 높았던 날은 언제였고, 몇 도였을까? <br>\n",
        "날짜, 평균기온 데이터를 사용\n",
        "\n",
        "\n",
        "> 기상 관측 이래 최저 서울의 최저 기온이 가장 낮았던 날은 언제였고, 몇 도 였을까?<br>\n",
        "날짜, 최저기온 데이터를 사용\n",
        "\n",
        "\n",
        "\n",
        "> 기상 관측 이래 서울의 평균 기온이 가장 낮았던 날은 언제였고, 몇도였을까?<br>\n",
        "날짜, 평균 기온 데이터를 사용\n",
        "\n",
        "\n",
        "\n",
        "\n",
        "\n"
      ]
    },
    {
      "cell_type": "code",
      "metadata": {
        "id": "8REC8dus-Em2"
      },
      "source": [
        ""
      ],
      "execution_count": null,
      "outputs": []
    }
  ]
}