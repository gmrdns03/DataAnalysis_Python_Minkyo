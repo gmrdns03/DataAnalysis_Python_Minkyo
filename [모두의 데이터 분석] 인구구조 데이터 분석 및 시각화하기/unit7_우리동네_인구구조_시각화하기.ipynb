{
  "nbformat": 4,
  "nbformat_minor": 0,
  "metadata": {
    "colab": {
      "name": "unit7_우리동네 인구구조 시각화하기.ipynb",
      "provenance": [],
      "collapsed_sections": [],
      "authorship_tag": "ABX9TyNsKTD/XqnwlBaPtiYKOnRJ",
      "include_colab_link": true
    },
    "kernelspec": {
      "name": "python3",
      "display_name": "Python 3"
    },
    "language_info": {
      "name": "python"
    }
  },
  "cells": [
    {
      "cell_type": "markdown",
      "metadata": {
        "id": "view-in-github",
        "colab_type": "text"
      },
      "source": [
        "<a href=\"https://colab.research.google.com/github/gmrdns03/DataAnalysis_Python_Minkyo/blob/main/%5B%EB%AA%A8%EB%91%90%EC%9D%98%20%EB%8D%B0%EC%9D%B4%ED%84%B0%20%EB%B6%84%EC%84%9D%5D%20%EC%9D%B8%EA%B5%AC%EA%B5%AC%EC%A1%B0%20%EB%8D%B0%EC%9D%B4%ED%84%B0%20%EB%B6%84%EC%84%9D%20%EB%B0%8F%20%EC%8B%9C%EA%B0%81%ED%99%94%ED%95%98%EA%B8%B0/unit7_%EC%9A%B0%EB%A6%AC%EB%8F%99%EB%84%A4_%EC%9D%B8%EA%B5%AC%EA%B5%AC%EC%A1%B0_%EC%8B%9C%EA%B0%81%ED%99%94%ED%95%98%EA%B8%B0.ipynb\" target=\"_parent\"><img src=\"https://colab.research.google.com/assets/colab-badge.svg\" alt=\"Open In Colab\"/></a>"
      ]
    },
    {
      "cell_type": "markdown",
      "metadata": {
        "id": "Quh0FBEEcA-P"
      },
      "source": [
        "## 인구 공공데이터 준비하기"
      ]
    },
    {
      "cell_type": "code",
      "metadata": {
        "id": "QiwBL9XcPN09"
      },
      "source": [
        "# 인구 공공데이터 준비하기\n",
        "# 내가 코딩하기 편한 데이터셋으로 다운로드 받을 수 있도록 미리 생각해서 다운\n",
        "import csv\n",
        "\n",
        "f = open('/content/age.csv', 'r', encoding='cp949')\n",
        "data = csv.reader(f)\n",
        "next(data)\n",
        "\n",
        "# 데이터 타입 확인 -> 전부 문자열로 프린트되는 것을 확인할 수 있다.\n",
        "for row in data:\n",
        "  print(row)"
      ],
      "execution_count": null,
      "outputs": []
    },
    {
      "cell_type": "markdown",
      "metadata": {
        "id": "jHegzPhHdXwQ"
      },
      "source": [
        "## 3. 우리 동네 인구 구조 시각화\n",
        "\n",
        "1) 인구 데이터 파일을 읽어온다<br>\n",
        "2) 전체 데이터에서 한 줄씩 반복해서 읽어온다.<br>\n",
        "3) 우리 동네에 대한 데이터인지 확인한다.<br>\n",
        "4) 우리 동네일 경우 0세부터 100세까지 인구수를 순서대로 저장한다.<br>\n",
        "5) 저장된 연령별 인구수 데이터를 시각화한다."
      ]
    },
    {
      "cell_type": "markdown",
      "metadata": {
        "id": "do-GCzrGfjbv"
      },
      "source": [
        "### in 연산자를 활용해서 우리 동네 이름이 포함된 지역명 찾기\n",
        "\n",
        "*   키워드 검색하기 위한 연산자\n",
        "\n"
      ]
    },
    {
      "cell_type": "markdown",
      "metadata": {
        "id": "i3lhfIGKf4l2"
      },
      "source": [
        "### 신도림 데이터 확인하기"
      ]
    },
    {
      "cell_type": "code",
      "metadata": {
        "colab": {
          "base_uri": "https://localhost:8080/"
        },
        "id": "ldhPHHeRf5Ud",
        "outputId": "206f0aea-d975-418c-8e9d-69f3cd492ec2"
      },
      "source": [
        "print('신도림' in '서울특별시 구로구 신도림동(1153051000)')\n",
        "print('1153' in '서울특별시 구로구 신도림동(1153051000)')\n",
        "print('()' in '서울특별시 구로구 신도림동(1153051000)')  # ()가 붙어있는 데이터는 없기 때문에 False"
      ],
      "execution_count": null,
      "outputs": [
        {
          "output_type": "stream",
          "text": [
            "True\n",
            "True\n",
            "False\n"
          ],
          "name": "stdout"
        }
      ]
    },
    {
      "cell_type": "markdown",
      "metadata": {
        "id": "H13omh66gqDR"
      },
      "source": [
        "### in 연산자를 활용해 우리 동네 데이터 출력하기\n",
        "\n",
        "3) 우리 동네에 대한 데이터인지 확인한다.<br> -> 해결"
      ]
    },
    {
      "cell_type": "code",
      "metadata": {
        "colab": {
          "base_uri": "https://localhost:8080/"
        },
        "id": "f436lKb1ceLT",
        "outputId": "1800f998-b898-4742-f16e-0538b3e38686"
      },
      "source": [
        "import csv\n",
        "\n",
        "f = open('/content/age.csv', 'r', encoding='cp949')\n",
        "data = csv.reader(f)\n",
        "next(data)\n",
        "\n",
        "for row in data :\n",
        "  if '신도림' in row[0]:\n",
        "    print(row)"
      ],
      "execution_count": null,
      "outputs": [
        {
          "output_type": "stream",
          "text": [
            "['서울특별시 구로구 신도림동(1153051000)', '37,268', '37,268', '326', '334', '406', '413', '389', '408', '417', '434', '411', '387', '420', '383', '354', '357', '340', '338', '349', '339', '407', '380', '390', '453', '424', '516', '451', '466', '448', '484', '471', '476', '558', '541', '579', '619', '638', '740', '756', '792', '745', '789', '671', '687', '700', '636', '726', '691', '657', '619', '649', '585', '579', '470', '522', '534', '563', '445', '511', '569', '572', '513', '532', '456', '426', '497', '379', '384', '399', '279', '289', '276', '268', '271', '223', '170', '150', '154', '177', '140', '126', '114', '121', '97', '86', '80', '59', '48', '44', '43', '28', '29', '22', '15', '13', '12', '5', '8', '5', '4', '2', '3', '7']\n"
          ],
          "name": "stdout"
        }
      ]
    },
    {
      "cell_type": "markdown",
      "metadata": {
        "id": "NVfJEXKzhKzW"
      },
      "source": [
        "#### 연령 별 인구수(0~100세이상) 데이터 확인\n",
        "\n",
        "4) 우리 동네일 경우 0세부터 100세까지 인구수를 순서대로 저장한다.<br> -> 해결"
      ]
    },
    {
      "cell_type": "code",
      "metadata": {
        "colab": {
          "base_uri": "https://localhost:8080/"
        },
        "id": "xY0ngDrDg5JI",
        "outputId": "61fcf13f-b53a-4068-aaa9-1e74f86d6d1b"
      },
      "source": [
        "import csv\n",
        "\n",
        "f = open('/content/age.csv', 'r', encoding='cp949')\n",
        "data = csv.reader(f)\n",
        "next(data)\n",
        "\n",
        "for row in data :\n",
        "  if '신도림' in row[0]:\n",
        "    # row[0]: 지역명, row[1]: 총인구수, row[2]: 연령구간인구수, row[3]~  인덱스 부터 연령별 인구 수\n",
        "    print(row[3:])  # 0~100세 이상 인구수 출력\n",
        "    print(len(row[3:]))  # 0~100세 이상 인구수 데이터 수 출력 -> 101개"
      ],
      "execution_count": null,
      "outputs": [
        {
          "output_type": "stream",
          "text": [
            "['326', '334', '406', '413', '389', '408', '417', '434', '411', '387', '420', '383', '354', '357', '340', '338', '349', '339', '407', '380', '390', '453', '424', '516', '451', '466', '448', '484', '471', '476', '558', '541', '579', '619', '638', '740', '756', '792', '745', '789', '671', '687', '700', '636', '726', '691', '657', '619', '649', '585', '579', '470', '522', '534', '563', '445', '511', '569', '572', '513', '532', '456', '426', '497', '379', '384', '399', '279', '289', '276', '268', '271', '223', '170', '150', '154', '177', '140', '126', '114', '121', '97', '86', '80', '59', '48', '44', '43', '28', '29', '22', '15', '13', '12', '5', '8', '5', '4', '2', '3', '7']\n",
            "101\n"
          ],
          "name": "stdout"
        }
      ]
    },
    {
      "cell_type": "markdown",
      "metadata": {
        "id": "BwKjcbW2jP8v"
      },
      "source": [
        "### 신도림 연령별 인구수 result 리스트에 저장하기\n",
        "\n",
        "5) 저장된 연령별 인구수 데이터를 시각화한다.<br>\n",
        "-> 해결"
      ]
    },
    {
      "cell_type": "code",
      "metadata": {
        "colab": {
          "base_uri": "https://localhost:8080/"
        },
        "id": "muJiYQLZhXzL",
        "outputId": "e504328e-f955-41e3-ec41-173b8a2b06af"
      },
      "source": [
        "import csv\n",
        "import matplotlib.pyplot as plt\n",
        "\n",
        "\n",
        "f = open('/content/age.csv', 'r', encoding='cp949')\n",
        "data = csv.reader(f)\n",
        "next(data)\n",
        "\n",
        "result = []\n",
        "\n",
        "for row in data :\n",
        "  if '신도림' in row[0]:\n",
        "    for i in row[3:]:\n",
        "      result.append(int(i))\n",
        "\n",
        "print(result)\n"
      ],
      "execution_count": null,
      "outputs": [
        {
          "output_type": "stream",
          "text": [
            "[326, 334, 406, 413, 389, 408, 417, 434, 411, 387, 420, 383, 354, 357, 340, 338, 349, 339, 407, 380, 390, 453, 424, 516, 451, 466, 448, 484, 471, 476, 558, 541, 579, 619, 638, 740, 756, 792, 745, 789, 671, 687, 700, 636, 726, 691, 657, 619, 649, 585, 579, 470, 522, 534, 563, 445, 511, 569, 572, 513, 532, 456, 426, 497, 379, 384, 399, 279, 289, 276, 268, 271, 223, 170, 150, 154, 177, 140, 126, 114, 121, 97, 86, 80, 59, 48, 44, 43, 28, 29, 22, 15, 13, 12, 5, 8, 5, 4, 2, 3, 7]\n"
          ],
          "name": "stdout"
        }
      ]
    },
    {
      "cell_type": "markdown",
      "metadata": {
        "id": "vlVJWK-PkOxp"
      },
      "source": [
        "#### 신도림 연령별 인구수 데이터 시각화 하기"
      ]
    },
    {
      "cell_type": "code",
      "metadata": {
        "colab": {
          "base_uri": "https://localhost:8080/",
          "height": 573
        },
        "id": "7qz2F7p1j557",
        "outputId": "423e9101-bea5-4a8f-d7ef-f9236fc9c664"
      },
      "source": [
        "import csv\n",
        "import matplotlib.pyplot as plt\n",
        "\n",
        "f = open('/content/age.csv', 'r', encoding='cp949')\n",
        "data = csv.reader(f)\n",
        "next(data)\n",
        "\n",
        "result = []\n",
        "\n",
        "for row in data :\n",
        "  if '신도림' in row[0]:\n",
        "    for i in row[3:]:\n",
        "      result.append(int(i))\n",
        "\n",
        "# 시각화를 위한 설정\n",
        "# 격자 무늬 스타일로 지정 classic, dark_background, ggplot\n",
        "# 적용할 수 있는 스타일 목록 확인하기 -> print(plt.style.available)\n",
        "plt.figure(dpi = 200)\n",
        "plt.style.use('fast')  # 격자무늬 스타일로 지정\n",
        "\n",
        "# 시각화\n",
        "plt.plot(result)\n",
        "plt.show()\n",
        "\n",
        "f.close()"
      ],
      "execution_count": null,
      "outputs": [
        {
          "output_type": "display_data",
          "data": {
            "image/png": "[encoded data removed]",
            "text/plain": [
              "<Figure size 1200x800 with 1 Axes>"
            ]
          },
          "metadata": {
            "tags": [],
            "needs_background": "light"
          }
        }
      ]
    },
    {
      "cell_type": "markdown",
      "metadata": {
        "id": "ieDkdmaOlHT_"
      },
      "source": [
        "### matplotlib 다양한 스타일 확인"
      ]
    },
    {
      "cell_type": "code",
      "metadata": {
        "colab": {
          "base_uri": "https://localhost:8080/"
        },
        "id": "zKfYBCOqkkDf",
        "outputId": "2ba47016-1d8c-49a2-ec1c-9d0046cb6539"
      },
      "source": [
        "print(plt.style.available)\n"
      ],
      "execution_count": null,
      "outputs": [
        {
          "output_type": "stream",
          "text": [
            "['Solarize_Light2', '_classic_test_patch', 'bmh', 'classic', 'dark_background', 'fast', 'fivethirtyeight', 'ggplot', 'grayscale', 'seaborn', 'seaborn-bright', 'seaborn-colorblind', 'seaborn-dark', 'seaborn-dark-palette', 'seaborn-darkgrid', 'seaborn-deep', 'seaborn-muted', 'seaborn-notebook', 'seaborn-paper', 'seaborn-pastel', 'seaborn-poster', 'seaborn-talk', 'seaborn-ticks', 'seaborn-white', 'seaborn-whitegrid', 'tableau-colorblind10']\n"
          ],
          "name": "stdout"
        }
      ]
    },
    {
      "cell_type": "markdown",
      "metadata": {
        "id": "S1wAH69Tlpom"
      },
      "source": [
        "### 내가 거주하는 지역(동)의 인구 구조 시각화 하기"
      ]
    },
    {
      "cell_type": "code",
      "metadata": {
        "colab": {
          "base_uri": "https://localhost:8080/",
          "height": 244
        },
        "id": "l0TLclpclNVO",
        "outputId": "757862d6-be46-4c6c-fa37-5dac535088c7"
      },
      "source": [
        ""
      ],
      "execution_count": null,
      "outputs": [
        {
          "output_type": "error",
          "ename": "ValueError",
          "evalue": "ignored",
          "traceback": [
            "\u001b[0;31m---------------------------------------------------------------------------\u001b[0m",
            "\u001b[0;31mValueError\u001b[0m                                Traceback (most recent call last)",
            "\u001b[0;32m<ipython-input-4-6b9c7013f791>\u001b[0m in \u001b[0;36m<module>\u001b[0;34m()\u001b[0m\n\u001b[1;32m     11\u001b[0m   \u001b[0;32mif\u001b[0m \u001b[0;34m'일산서구'\u001b[0m \u001b[0;32min\u001b[0m \u001b[0mrow\u001b[0m\u001b[0;34m[\u001b[0m\u001b[0;36m0\u001b[0m\u001b[0;34m]\u001b[0m\u001b[0;34m:\u001b[0m\u001b[0;34m\u001b[0m\u001b[0;34m\u001b[0m\u001b[0m\n\u001b[1;32m     12\u001b[0m     \u001b[0;32mfor\u001b[0m \u001b[0mi\u001b[0m \u001b[0;32min\u001b[0m \u001b[0mrow\u001b[0m\u001b[0;34m[\u001b[0m\u001b[0;36m3\u001b[0m\u001b[0;34m:\u001b[0m\u001b[0;34m]\u001b[0m\u001b[0;34m:\u001b[0m\u001b[0;34m\u001b[0m\u001b[0;34m\u001b[0m\u001b[0m\n\u001b[0;32m---> 13\u001b[0;31m       \u001b[0mresult\u001b[0m\u001b[0;34m.\u001b[0m\u001b[0mappend\u001b[0m\u001b[0;34m(\u001b[0m\u001b[0mint\u001b[0m\u001b[0;34m(\u001b[0m\u001b[0mi\u001b[0m\u001b[0;34m)\u001b[0m\u001b[0;34m)\u001b[0m\u001b[0;34m\u001b[0m\u001b[0;34m\u001b[0m\u001b[0m\n\u001b[0m\u001b[1;32m     14\u001b[0m \u001b[0;34m\u001b[0m\u001b[0m\n\u001b[1;32m     15\u001b[0m \u001b[0;31m# 시각화를 위한 설정\u001b[0m\u001b[0;34m\u001b[0m\u001b[0;34m\u001b[0m\u001b[0;34m\u001b[0m\u001b[0m\n",
            "\u001b[0;31mValueError\u001b[0m: invalid literal for int() with base 10: '1,530'"
          ]
        }
      ]
    },
    {
      "cell_type": "code",
      "metadata": {
        "id": "KzkZ8UXklzHG"
      },
      "source": [
        ""
      ],
      "execution_count": null,
      "outputs": []
    }
  ]
}