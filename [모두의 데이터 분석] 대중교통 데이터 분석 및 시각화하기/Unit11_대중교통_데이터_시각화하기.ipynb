{
  "nbformat": 4,
  "nbformat_minor": 0,
  "metadata": {
    "colab": {
      "name": "Unit11_대중교통 데이터 시각화하기.ipynb",
      "provenance": [],
      "authorship_tag": "ABX9TyNrEW3Zm4g6WwaN0wvw6NDU",
      "include_colab_link": true
    },
    "kernelspec": {
      "name": "python3",
      "display_name": "Python 3"
    },
    "language_info": {
      "name": "python"
    }
  },
  "cells": [
    {
      "cell_type": "markdown",
      "metadata": {
        "id": "view-in-github",
        "colab_type": "text"
      },
      "source": [
        "<a href=\"https://colab.research.google.com/github/gmrdns03/DataAnalysis_Python_Minkyo/blob/main/%5B%EB%AA%A8%EB%91%90%EC%9D%98%20%EB%8D%B0%EC%9D%B4%ED%84%B0%20%EB%B6%84%EC%84%9D%5D%20%EB%8C%80%EC%A4%91%EA%B5%90%ED%86%B5%20%EB%8D%B0%EC%9D%B4%ED%84%B0%20%EB%B6%84%EC%84%9D%20%EB%B0%8F%20%EC%8B%9C%EA%B0%81%ED%99%94%ED%95%98%EA%B8%B0/Unit11_%EB%8C%80%EC%A4%91%EA%B5%90%ED%86%B5_%EB%8D%B0%EC%9D%B4%ED%84%B0_%EC%8B%9C%EA%B0%81%ED%99%94%ED%95%98%EA%B8%B0.ipynb\" target=\"_parent\"><img src=\"https://colab.research.google.com/assets/colab-badge.svg\" alt=\"Open In Colab\"/></a>"
      ]
    },
    {
      "cell_type": "markdown",
      "metadata": {
        "id": "VLUCisloopjt"
      },
      "source": [
        "## 대중교통 데이터 시각화하기 <br>\n",
        "1) 대중교통 데이터 내려받기 <br>\n",
        "2) 지하철 유무임별 이용현황 데이터 정제하기 <br>\n",
        "3) 유임승차 비율이 가장 높은 역은 어디일까 <br>\n",
        "4) 유무임 승하차 인원이 가장 많은 역은 어디일까 <br>\n",
        "5) 모든 역의 유무임 승하차 비율이 어떻게 될까 <br>"
      ]
    },
    {
      "cell_type": "markdown",
      "metadata": {
        "id": "KDcKIJZq1kgz"
      },
      "source": [
        "## 지하철 유무임별 이용현황 데이터 정제하기\n",
        "\n",
        "해당 시트를 csv파일로 저장, 숫자 중간에 있는 콤마 엑셀에서 제거, 날짜 형식 바뀌는거 재설정 저장\n"
      ]
    },
    {
      "cell_type": "markdown",
      "metadata": {
        "id": "vFeQZmlF1yS9"
      },
      "source": [
        "## 데이터 출력하기"
      ]
    },
    {
      "cell_type": "code",
      "metadata": {
        "id": "m3KL3OjPonOG"
      },
      "source": [
        "import csv\n",
        "\n",
        "f = open('/content/subwayfee.csv', 'r') # 인코딩이 utf-8이라면 생략 가능\n",
        "data = csv.reader(f)\n",
        "\n",
        "for row in data:\n",
        "  print(row)"
      ],
      "execution_count": null,
      "outputs": []
    },
    {
      "cell_type": "markdown",
      "metadata": {
        "id": "4SVopQIb6xDK"
      },
      "source": [
        "## 유임승차 수 정수형으로 변경"
      ]
    },
    {
      "cell_type": "code",
      "metadata": {
        "id": "x20QVLlI2ONA"
      },
      "source": [
        "import csv\n",
        "\n",
        "f = open('/content/subwayfee.csv', 'r') # 인코딩이 utf-8이라면 생략 가능\n",
        "data = csv.reader(f)\n",
        "next(data) # ['사용월', '호선명', '역ID', '지하철역', '유임승차', '유임하차', '무임승차', '무임하차']컬럼 내리기\n",
        "\n",
        "for row in data:\n",
        "  row[4] = int(row[4])  # 유임승차 자료 int형으로 바꾸기\n",
        "  print(row)"
      ],
      "execution_count": null,
      "outputs": []
    },
    {
      "cell_type": "markdown",
      "metadata": {
        "id": "RFZmRCHB7Pei"
      },
      "source": [
        "## 인원 숫자 데이터 정수로 변경(유임승차, 유임하차, 무임승차, 무임하차 : 4,5,6,7 인덱스)"
      ]
    },
    {
      "cell_type": "code",
      "metadata": {
        "id": "qlqJ9cD47HO5"
      },
      "source": [
        "import csv\n",
        "\n",
        "f = open('/content/subwayfee.csv', 'r') # 인코딩이 utf-8이라면 생략 가능\n",
        "data = csv.reader(f)\n",
        "next(data) # ['사용월', '호선명', '역ID', '지하철역', '유임승차', '유임하차', '무임승차', '무임하차']컬럼 내리기\n",
        "\n",
        "# 4,5,6,7 인덱스 데이터 정수로 변경\n",
        "for row in data:\n",
        "  for i in range(4,8) :  \n",
        "    row[i] = int(row[i])  \n",
        "  print(row)"
      ],
      "execution_count": null,
      "outputs": []
    },
    {
      "cell_type": "markdown",
      "metadata": {
        "id": "SojzL7KS9cY8"
      },
      "source": [
        "## 알고리즘 생각하기\n",
        "\n",
        "1) 데이터를 읽어온다 <br>\n",
        "2) 모든 역의 데이터를 바탕으로 각 역의 비율을 계산한다. <br>\n",
        "3) 비율이 가장 높은 역을 찾는다. <br>\n",
        "4) 비율이 가장 높은 역이 어디인지, 그 비율이 얼마인지 출력한다. <br>\n",
        "노인분들 승차, 환승 -> 무임승차로 측정됨"
      ]
    },
    {
      "cell_type": "markdown",
      "metadata": {
        "id": "g9IUCMba-Qz8"
      },
      "source": [
        "## 유임 승차 비율이 가장 높은 역은 어디일까"
      ]
    },
    {
      "cell_type": "code",
      "metadata": {
        "colab": {
          "base_uri": "https://localhost:8080/",
          "height": 243
        },
        "id": "PYtiTSvs7vwl",
        "outputId": "5d70f89e-6344-4df4-91d2-4f6ddd459822"
      },
      "source": [
        "import csv\n",
        "\n",
        "f = open('/content/subwayfee.csv', 'r') # 인코딩이 utf-8이라면 생략 가능\n",
        "data = csv.reader(f)\n",
        "next(data) # ['사용월', '호선명', '역ID', '지하철역', '유임승차', '유임하차', '무임승차', '무임하차']컬럼 내리기\n",
        "\n",
        "mx = 0    # 최대 유임승차 비율 저장\n",
        "rate = 0  # 유임승차 비율\n",
        "\n",
        "\n",
        "for row in data:\n",
        "  for i in range(4,8) :  \n",
        "    row[i] = int(row[i])  \n",
        "\n",
        "  rate = row[4] / row[6]  # 유임승차 / 무임승차\n",
        "\n",
        "  if rate > mx :\n",
        "    mx = rate\n",
        "\n",
        "print(mx)\n",
        "\n",
        "# ZeroDivisionError: division by zero 가 난다. 데이터 안에 0이 있기 때문이다."
      ],
      "execution_count": null,
      "outputs": [
        {
          "output_type": "error",
          "ename": "ZeroDivisionError",
          "evalue": "ignored",
          "traceback": [
            "\u001b[0;31m---------------------------------------------------------------------------\u001b[0m",
            "\u001b[0;31mZeroDivisionError\u001b[0m                         Traceback (most recent call last)",
            "\u001b[0;32m<ipython-input-2-5ab9c17ab4d9>\u001b[0m in \u001b[0;36m<module>\u001b[0;34m()\u001b[0m\n\u001b[1;32m     13\u001b[0m     \u001b[0mrow\u001b[0m\u001b[0;34m[\u001b[0m\u001b[0mi\u001b[0m\u001b[0;34m]\u001b[0m \u001b[0;34m=\u001b[0m \u001b[0mint\u001b[0m\u001b[0;34m(\u001b[0m\u001b[0mrow\u001b[0m\u001b[0;34m[\u001b[0m\u001b[0mi\u001b[0m\u001b[0;34m]\u001b[0m\u001b[0;34m)\u001b[0m\u001b[0;34m\u001b[0m\u001b[0;34m\u001b[0m\u001b[0m\n\u001b[1;32m     14\u001b[0m \u001b[0;34m\u001b[0m\u001b[0m\n\u001b[0;32m---> 15\u001b[0;31m   \u001b[0mrate\u001b[0m \u001b[0;34m=\u001b[0m \u001b[0mrow\u001b[0m\u001b[0;34m[\u001b[0m\u001b[0;36m4\u001b[0m\u001b[0;34m]\u001b[0m \u001b[0;34m/\u001b[0m \u001b[0mrow\u001b[0m\u001b[0;34m[\u001b[0m\u001b[0;36m6\u001b[0m\u001b[0;34m]\u001b[0m  \u001b[0;31m# 유임승차 / 무임승차\u001b[0m\u001b[0;34m\u001b[0m\u001b[0;34m\u001b[0m\u001b[0m\n\u001b[0m\u001b[1;32m     16\u001b[0m \u001b[0;34m\u001b[0m\u001b[0m\n\u001b[1;32m     17\u001b[0m   \u001b[0;32mif\u001b[0m \u001b[0mrate\u001b[0m \u001b[0;34m>\u001b[0m \u001b[0mmx\u001b[0m \u001b[0;34m:\u001b[0m\u001b[0;34m\u001b[0m\u001b[0;34m\u001b[0m\u001b[0m\n",
            "\u001b[0;31mZeroDivisionError\u001b[0m: division by zero"
          ]
        }
      ]
    },
    {
      "cell_type": "code",
      "metadata": {
        "colab": {
          "base_uri": "https://localhost:8080/"
        },
        "id": "cBQrqCu-_DDv",
        "outputId": "85506601-78ce-4a9e-ae1d-99a409b31f96"
      },
      "source": [
        "import csv\n",
        "\n",
        "f = open('/content/subwayfee.csv', 'r') # 인코딩이 utf-8이라면 생략 가능\n",
        "data = csv.reader(f)\n",
        "next(data) # ['사용월', '호선명', '역ID', '지하철역', '유임승차', '유임하차', '무임승차', '무임하차']컬럼 내리기\n",
        "\n",
        "mx = 0    # 최대 유임승차 비율 저장\n",
        "rate = 0  # 유임승차 비율\n",
        "\n",
        "\n",
        "for row in data:\n",
        "  for i in range(4,8) :  \n",
        "    row[i] = int(row[i])  \n",
        "\n",
        "  if row[4] != 0 and row[6] != 0 :\n",
        "    rate = row[4] / row[6]  # 유임승차 / 무임승차\n",
        "\n",
        "  if rate > mx :\n",
        "    mx = rate\n",
        "\n",
        "print(row, round(mx, 2))"
      ],
      "execution_count": null,
      "outputs": [
        {
          "output_type": "stream",
          "text": [
            "['2019-01', '우이신설선', '4713', '신설동', 37248, 40743, 19037, 17418] 27.5\n"
          ],
          "name": "stdout"
        }
      ]
    },
    {
      "cell_type": "markdown",
      "metadata": {
        "id": "v2h0LdLeAbG2"
      },
      "source": [
        "유임승차 / 무임승차 비율의 최댓값 찾기 -> 기존 0 데이터가 0으로 되어 있음\n",
        "rate = 유임승차 인원 / 무임 승차 인원\n"
      ]
    },
    {
      "cell_type": "code",
      "metadata": {
        "colab": {
          "base_uri": "https://localhost:8080/"
        },
        "id": "6pg-aZ8X_gRu",
        "outputId": "86a2508d-f8b9-4426-96ff-04738a5bbf26"
      },
      "source": [
        "import csv\n",
        "\n",
        "f = open('/content/subwayfee.csv', 'r') # 인코딩이 utf-8이라면 생략 가능\n",
        "data = csv.reader(f)\n",
        "next(data) # ['사용월', '호선명', '역ID', '지하철역', '유임승차', '유임하차', '무임승차', '무임하차']컬럼 내리기\n",
        "\n",
        "mx = 0    # 최대 유임승차 비율 저장\n",
        "rate = 0  # 유임승차 비율\n",
        "mx_station = '' # 역정보 호선정보 저장할 변수\n",
        "\n",
        "for row in data:\n",
        "  for i in range(4,8) :  \n",
        "    row[i] = int(row[i])  \n",
        "\n",
        "  if row[4] != 0 and row[6] != 0 :\n",
        "    rate = row[4] / (row[6]+row[4])  # 유임승차 / 전체(유임+무임)\n",
        "\n",
        "  if rate > mx :\n",
        "    mx = rate\n",
        "    mx_station = row[3] + ' ' + row[1] # 지하철역 + 호선정보 ex) 서울역 1호선\n",
        "\n",
        "print(mx_station, round(mx*100, 2),\"%\")\n",
        "\n",
        "# 활발하지 않은 역은 비율을 따질 때 분모가 크고 분자가 작아 비교 대상 역이 안될 수 있다.\n",
        "# 승하차 인구 수를 어느정도 제한을 둬서 (예. 5만명 이상) 자료를 추출하는 것이 좋다."
      ],
      "execution_count": null,
      "outputs": [
        {
          "output_type": "stream",
          "text": [
            "충무로 3호선 96.49 %\n"
          ],
          "name": "stdout"
        }
      ]
    },
    {
      "cell_type": "code",
      "metadata": {
        "colab": {
          "base_uri": "https://localhost:8080/"
        },
        "id": "4YynIAenA5pk",
        "outputId": "3d00008e-3f3b-4e44-fdde-685d3b8891fe"
      },
      "source": [
        "import csv\n",
        "\n",
        "f = open('/content/subwayfee.csv', 'r') # 인코딩이 utf-8이라면 생략 가능\n",
        "data = csv.reader(f)\n",
        "next(data) # ['사용월', '호선명', '역ID', '지하철역', '유임승차', '유임하차', '무임승차', '무임하차']컬럼 내리기\n",
        "\n",
        "mx = 0    # 최대 유임승차 비율 저장\n",
        "rate = 0  # 유임승차 비율\n",
        "mx_station = '' # 역정보+ 호선정보 저장할 변수\n",
        "\n",
        "for row in data:\n",
        "  for i in range(4,8) :  \n",
        "    row[i] = int(row[i])  \n",
        "\n",
        "  if row[4] != 0 and row[6] != 0 and row[6]+row[4] >= 100000  :  #유무임 승차 인원 합해서 100,000명 이상인 경우만\n",
        "\n",
        "    rate = row[4] / (row[6]+row[4])  # 유임승차 / 전체(유임+무임)\n",
        "\n",
        "  if rate > mx :\n",
        "    mx = rate\n",
        "    mx_station = row[3] + ' ' + row[1] # 지하철역 + 호선정보 ex) 서울역 1호선\n",
        "\n",
        "print(mx_station, round(mx*100, 2),\"%\")"
      ],
      "execution_count": null,
      "outputs": [
        {
          "output_type": "stream",
          "text": [
            "홍대입구 2호선 95.34 %\n"
          ],
          "name": "stdout"
        }
      ]
    },
    {
      "cell_type": "markdown",
      "metadata": {
        "id": "syVzqJ9cZUtA"
      },
      "source": [
        "## 유무임 승하차 인원이 가장 많은 역은 어디일까?\n",
        "\n",
        "1) 데이터를 읽어온다\n",
        "\n",
        "2) 모든 역의 데이터를 바탕으로 유임승차, 유임하차, 무임승차, 무임하차 인원이 가장 많은 역을 찾는다.\n",
        "\n",
        "3) 각각의 인원이 가장 많은 역을 출력한다."
      ]
    },
    {
      "cell_type": "code",
      "metadata": {
        "colab": {
          "base_uri": "https://localhost:8080/"
        },
        "id": "XF4t6_fUC9qQ",
        "outputId": "835990aa-cd35-4112-aaad-588df1b24fbc"
      },
      "source": [
        "import csv\n",
        "\n",
        "f = open('/content/subwayfee.csv', 'r') # 인코딩이 utf-8이라면 생략 가능\n",
        "data = csv.reader(f)\n",
        "next(data) # ['사용월', '호선명', '역ID', '지하철역', '유임승차', '유임하차', '무임승차', '무임하차']컬럼 내리기\n",
        "\n",
        "mx = [0] * 4    # 최대 유임승차, 유임하차, 무임승차, 무임하차 승객수 저장\n",
        "mx_station = [''] * 4 # 최대 유임승차, 유임하차, 무임승차, 무임하차 역정보+ 호선정보 저장할 변수\n",
        "\n",
        "label = ['유임승차', '유임하차', '무임승차', '무임하차']\n",
        "\n",
        "for row in data:\n",
        "  for i in range(4,8) :  \n",
        "    row[i] = int(row[i])  \n",
        "    if row[i] > mx[i-4] :\n",
        "      mx[i-4] = row[i]\n",
        "      mx_station[i-4] = row[3] + ' ' + row[1]\n",
        "\n",
        "for i in range(4):\n",
        "  print(label[i],': ', mx_station[i], mx[i])\n",
        "\n",
        "\n",
        "  "
      ],
      "execution_count": null,
      "outputs": [
        {
          "output_type": "stream",
          "text": [
            "유임승차 :  강남 2호선 3153418\n",
            "유임하차 :  강남 2호선 3210437\n",
            "무임승차 :  종로3가 1호선 387062\n",
            "무임하차 :  제기동 1호선 400607\n"
          ],
          "name": "stdout"
        }
      ]
    },
    {
      "cell_type": "code",
      "metadata": {
        "colab": {
          "base_uri": "https://localhost:8080/"
        },
        "id": "RY1q8hXCa-NU",
        "outputId": "9c2b1208-8e8d-484d-f40c-2ee4b8ac3445"
      },
      "source": [
        "## 유무임 승하차 인원이 가장 적은 역 찾기\n",
        "\n",
        "import csv\n",
        "\n",
        "f = open('/content/subwayfee.csv', 'r') # 인코딩이 utf-8이라면 생략 가능\n",
        "data = csv.reader(f)\n",
        "next(data) # ['사용월', '호선명', '역ID', '지하철역', '유임승차', '유임하차', '무임승차', '무임하차']컬럼 내리기\n",
        "\n",
        "mn = [999999999999999999] * 4    # 최소 유임승차, 유임하차, 무임승차, 무임하차 승객수 저장\n",
        "mn_station = [''] * 4 # 최소 유임승차, 유임하차, 무임승차, 무임하차 역정보+ 호선정보 저장할 변수\n",
        "\n",
        "label = ['유임승차', '유임하차', '무임승차', '무임하차']\n",
        "\n",
        "\n",
        "# 0을 제외한 값을 쓸때 != 0도 쓰지만 \" > 0 \"이나 \" >= 0\"을 더 많이 쓴다.\n",
        "for row in data:\n",
        "  for i in range(4,8) : \n",
        "    row[i] = int(row[i])  \n",
        "    if row[i] >= 0 :\n",
        "      if row[i] <= mx[i-4] :  # <= 와 < 를 구분해서 잘 써볼것 결괏값이 달라진다.\n",
        "        mn[i-4] = row[i]\n",
        "        mn_station[i-4] = row[3] + ' ' + row[1]\n",
        "\n",
        "for i in range(4):\n",
        "  print(label[i],': ', mn_station[i], mn[i])"
      ],
      "execution_count": null,
      "outputs": [
        {
          "output_type": "stream",
          "text": [
            "유임승차 :  홍대입구 경의선 2\n",
            "유임하차 :  연신내 6호선 0\n",
            "무임승차 :  검암 경의선 0\n",
            "무임하차 :  연신내 6호선 0\n"
          ],
          "name": "stdout"
        }
      ]
    },
    {
      "cell_type": "markdown",
      "metadata": {
        "id": "peb4NVgpp1-e"
      },
      "source": [
        "## 유무임 승하차 비율 파이차트로 표현하기"
      ]
    },
    {
      "cell_type": "code",
      "metadata": {
        "id": "9IGVKcDzdmpS"
      },
      "source": [
        "import csv\n",
        "import matplotlib.pyplot as plt\n",
        "\n",
        "\n",
        "f = open('/content/subwayfee.csv', 'r') # 인코딩이 utf-8이라면 생략 가능\n",
        "data = csv.reader(f)\n",
        "next(data) # ['사용월', '호선명', '역ID', '지하철역', '유임승차', '유임하차', '무임승차', '무임하차']컬럼 내리기\n",
        "\n",
        "mn = [999999999999999999] * 4    # 최소 유임승차, 유임하차, 무임승차, 무임하차 승객수 저장\n",
        "mn_station = [''] * 4 # 최소 유임승차, 유임하차, 무임승차, 무임하차 역정보+ 호선정보 저장할 변수\n",
        "\n",
        "label = ['유임승차', '유임하차', '무임승차', '무임하차']\n",
        "\n",
        "\n",
        "# 0을 제외한 값을 쓸때 != 0도 쓰지만 \" > 0 \"이나 \" >= 0\"을 더 많이 쓴다.\n",
        "for row in data:\n",
        "  for i in range(4,8) : \n",
        "    row[i] = int(row[i])  \n",
        "    plt.figure(dpi=200)\n",
        "    plt.pie(row[4:8])\n",
        "    plt.axis('equal')\n",
        "    plt.show\n",
        "    "
      ],
      "execution_count": null,
      "outputs": []
    },
    {
      "cell_type": "code",
      "metadata": {
        "colab": {
          "base_uri": "https://localhost:8080/"
        },
        "id": "Sa4zukcIq6Qf",
        "outputId": "df9c9fd4-5305-4fb9-cc27-ac2f23f92e59"
      },
      "source": [
        "import matplotlib as mpl\n",
        "import matplotlib.pyplot as plt\n",
        " \n",
        "%config InlineBackend.figure_format = 'retina'\n",
        " \n",
        "!apt -qq -y install fonts-nanum\n",
        " \n",
        "import matplotlib.font_manager as fm\n",
        "\n",
        "fontpath = '/usr/share/fonts/truetype/nanum/NanumBarunGothic.ttf'\n",
        "font = fm.FontProperties(fname=fontpath, size=9)\n",
        "plt.rc('font', family='NanumBarunGothic') \n",
        "mpl.font_manager._rebuild()"
      ],
      "execution_count": null,
      "outputs": [
        {
          "output_type": "stream",
          "text": [
            "fonts-nanum is already the newest version (20170925-1).\n",
            "0 upgraded, 0 newly installed, 0 to remove and 39 not upgraded.\n"
          ],
          "name": "stdout"
        }
      ]
    },
    {
      "cell_type": "markdown",
      "metadata": {
        "id": "HOihZQumrGQA"
      },
      "source": [
        "## 모든 역의 승하차 비율을 파이 차트로 나타내기"
      ]
    },
    {
      "cell_type": "code",
      "metadata": {
        "id": "_1n4VTLfq63W"
      },
      "source": [
        "import csv\n",
        "import matplotlib.pyplot as plt\n",
        "\n",
        "\n",
        "f = open('/content/subwayfee.csv', 'r') # 인코딩이 utf-8이라면 생략 가능\n",
        "data = csv.reader(f)\n",
        "next(data) # ['사용월', '호선명', '역ID', '지하철역', '유임승차', '유임하차', '무임승차', '무임하차']컬럼 내리기\n",
        "\n",
        "mn = [999999999999999999] * 4    # 최소 유임승차, 유임하차, 무임승차, 무임하차 승객수 저장\n",
        "mn_station = [''] * 4 # 최소 유임승차, 유임하차, 무임승차, 무임하차 역정보+ 호선정보 저장할 변수\n",
        "\n",
        "label = ['유임승차', '유임하차', '무임승차', '무임하차']\n",
        "\n",
        "\n",
        "# 0을 제외한 값을 쓸때 != 0도 쓰지만 \" > 0 \"이나 \" >= 0\"을 더 많이 쓴다.\n",
        "# 깃허브에 이미지 파일이 너무 많아 용량이 커져서 올릴 수가 없다. -> 다른 방법을 찾을 때까지 이미지 지우기\n",
        "# for row in data:\n",
        "  # for i in range(4,8) : \n",
        "    # row[i] = int(row[i])  \n",
        "    # plt.figure(dpi=200)\n",
        "    # plt.title(row[3] + ' ' + row[1])\n",
        "    # plt.pie(row[4:8], labels=label, autopct='%.1f%%')\n",
        "    # plt.axis('equal')  # 정사각형, 반지름이 전부 같은 동그라미\n",
        "    # plt.savefig(row[3] + ' ' + row[1] + '.png')\n",
        "    # plt.show()"
      ],
      "execution_count": 1,
      "outputs": []
    },
    {
      "cell_type": "code",
      "metadata": {
        "id": "noNAYg5xrlnS"
      },
      "source": [
        ""
      ],
      "execution_count": null,
      "outputs": []
    }
  ]
}